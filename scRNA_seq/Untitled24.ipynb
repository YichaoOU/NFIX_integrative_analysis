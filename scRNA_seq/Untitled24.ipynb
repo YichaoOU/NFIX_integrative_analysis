{
 "cells": [
  {
   "cell_type": "code",
   "execution_count": null,
   "metadata": {
    "execution": {
     "iopub.execute_input": "2022-02-21T16:06:42.824150Z",
     "iopub.status.busy": "2022-02-21T16:06:42.822628Z"
    }
   },
   "outputs": [
    {
     "name": "stderr",
     "output_type": "stream",
     "text": [
      "Downloading GitHub repo satijalab/sctransform@develop\n",
      "\n"
     ]
    },
    {
     "name": "stdout",
     "output_type": "stream",
     "text": [
      "stringi      (1.7.5      -> 1.7.6     ) [CRAN]\n",
      "magrittr     (2.0.1      -> 2.0.2     ) [CRAN]\n",
      "glue         (1.4.2      -> 1.6.1     ) [CRAN]\n",
      "Rcpp         (1.0.7      -> 1.0.8     ) [CRAN]\n",
      "colorspace   (2.0-2      -> 2.0-3     ) [CRAN]\n",
      "rlang        (0.4.12     -> 1.0.1     ) [CRAN]\n",
      "parallelly   (1.28.1     -> 1.30.0    ) [CRAN]\n",
      "digest       (0.6.28     -> 0.6.29    ) [CRAN]\n",
      "fansi        (0.5.0      -> 1.0.2     ) [CRAN]\n",
      "crayon       (1.4.1      -> 1.5.0     ) [CRAN]\n",
      "cli          (3.0.1      -> 3.2.0     ) [CRAN]\n",
      "pillar       (1.6.4      -> 1.7.0     ) [CRAN]\n",
      "withr        (2.4.2      -> 2.4.3     ) [CRAN]\n",
      "tibble       (3.1.5      -> 3.1.6     ) [CRAN]\n",
      "future       (1.22.1     -> 1.24.0    ) [CRAN]\n",
      "tidyselect   (1.1.1      -> 1.1.2     ) [CRAN]\n",
      "generics     (0.1.0      -> 0.1.2     ) [CRAN]\n",
      "RcppArmad... (0.10.7.0.0 -> 0.10.8.1.0) [CRAN]\n",
      "dplyr        (1.0.7      -> 1.0.8     ) [CRAN]\n"
     ]
    },
    {
     "name": "stderr",
     "output_type": "stream",
     "text": [
      "Installing 19 packages: stringi, magrittr, glue, Rcpp, colorspace, rlang, parallelly, digest, fansi, crayon, cli, pillar, withr, tibble, future, tidyselect, generics, RcppArmadillo, dplyr\n",
      "\n",
      "Warning message in i.p(...):\n",
      "\"installation of package 'stringi' had non-zero exit status\"\n"
     ]
    }
   ],
   "source": [
    "remotes::install_github(\"satijalab/sctransform\", ref=\"develop\")"
   ]
  },
  {
   "cell_type": "code",
   "execution_count": null,
   "metadata": {},
   "outputs": [],
   "source": []
  }
 ],
 "metadata": {
  "kernelspec": {
   "display_name": "R",
   "language": "R",
   "name": "ir"
  },
  "language_info": {
   "codemirror_mode": "r",
   "file_extension": ".r",
   "mimetype": "text/x-r-source",
   "name": "R",
   "pygments_lexer": "r",
   "version": "4.0.5"
  }
 },
 "nbformat": 4,
 "nbformat_minor": 4
}
