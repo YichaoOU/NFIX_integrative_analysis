{
 "cells": [
  {
   "cell_type": "code",
   "execution_count": 1,
   "id": "855daae3-bbef-47d4-8444-003a18f5302a",
   "metadata": {
    "execution": {
     "iopub.execute_input": "2021-09-20T05:50:02.055025Z",
     "iopub.status.busy": "2021-09-20T05:50:02.054841Z",
     "iopub.status.idle": "2021-09-20T05:50:07.084176Z",
     "shell.execute_reply": "2021-09-20T05:50:07.083528Z",
     "shell.execute_reply.started": "2021-09-20T05:50:02.054984Z"
    }
   },
   "outputs": [],
   "source": [
    "import pandas as pd"
   ]
  },
  {
   "cell_type": "code",
   "execution_count": 2,
   "id": "b51e8e72-fd1a-46f8-a81a-93ed5b0b9823",
   "metadata": {
    "execution": {
     "iopub.execute_input": "2021-09-20T05:50:14.099970Z",
     "iopub.status.busy": "2021-09-20T05:50:14.099713Z",
     "iopub.status.idle": "2021-09-20T05:50:14.180351Z",
     "shell.execute_reply": "2021-09-20T05:50:14.179854Z",
     "shell.execute_reply.started": "2021-09-20T05:50:14.099950Z"
    }
   },
   "outputs": [
    {
     "data": {
      "text/html": [
       "<div>\n",
       "<style scoped>\n",
       "    .dataframe tbody tr th:only-of-type {\n",
       "        vertical-align: middle;\n",
       "    }\n",
       "\n",
       "    .dataframe tbody tr th {\n",
       "        vertical-align: top;\n",
       "    }\n",
       "\n",
       "    .dataframe thead th {\n",
       "        text-align: right;\n",
       "    }\n",
       "</style>\n",
       "<table border=\"1\" class=\"dataframe\">\n",
       "  <thead>\n",
       "    <tr style=\"text-align: right;\">\n",
       "      <th></th>\n",
       "      <th>p_val</th>\n",
       "      <th>avg_log2FC</th>\n",
       "      <th>pct.1</th>\n",
       "      <th>pct.2</th>\n",
       "      <th>p_val_adj</th>\n",
       "      <th>fdr</th>\n",
       "      <th>Cluster</th>\n",
       "      <th>geneName</th>\n",
       "    </tr>\n",
       "  </thead>\n",
       "  <tbody>\n",
       "    <tr>\n",
       "      <th>0</th>\n",
       "      <td>1.731954e-111</td>\n",
       "      <td>0.626680</td>\n",
       "      <td>1.000</td>\n",
       "      <td>1.000</td>\n",
       "      <td>5.378238e-107</td>\n",
       "      <td>2.093933e-108</td>\n",
       "      <td>0</td>\n",
       "      <td>Gm42418</td>\n",
       "    </tr>\n",
       "    <tr>\n",
       "      <th>1</th>\n",
       "      <td>1.036221e-89</td>\n",
       "      <td>-0.592415</td>\n",
       "      <td>0.394</td>\n",
       "      <td>0.772</td>\n",
       "      <td>3.217778e-85</td>\n",
       "      <td>6.263959e-87</td>\n",
       "      <td>0</td>\n",
       "      <td>Gm47283</td>\n",
       "    </tr>\n",
       "    <tr>\n",
       "      <th>2</th>\n",
       "      <td>6.458310e-79</td>\n",
       "      <td>-0.228648</td>\n",
       "      <td>0.998</td>\n",
       "      <td>0.999</td>\n",
       "      <td>2.005499e-74</td>\n",
       "      <td>2.602699e-76</td>\n",
       "      <td>0</td>\n",
       "      <td>Rpl35a</td>\n",
       "    </tr>\n",
       "    <tr>\n",
       "      <th>3</th>\n",
       "      <td>3.027118e-73</td>\n",
       "      <td>-0.572587</td>\n",
       "      <td>0.970</td>\n",
       "      <td>0.994</td>\n",
       "      <td>9.400110e-69</td>\n",
       "      <td>9.149465e-71</td>\n",
       "      <td>0</td>\n",
       "      <td>Alad</td>\n",
       "    </tr>\n",
       "    <tr>\n",
       "      <th>4</th>\n",
       "      <td>1.415365e-63</td>\n",
       "      <td>-0.191814</td>\n",
       "      <td>0.998</td>\n",
       "      <td>1.000</td>\n",
       "      <td>4.395133e-59</td>\n",
       "      <td>3.422353e-61</td>\n",
       "      <td>0</td>\n",
       "      <td>Rpl41</td>\n",
       "    </tr>\n",
       "  </tbody>\n",
       "</table>\n",
       "</div>"
      ],
      "text/plain": [
       "           p_val  avg_log2FC  pct.1  pct.2      p_val_adj            fdr  \\\n",
       "0  1.731954e-111    0.626680  1.000  1.000  5.378238e-107  2.093933e-108   \n",
       "1   1.036221e-89   -0.592415  0.394  0.772   3.217778e-85   6.263959e-87   \n",
       "2   6.458310e-79   -0.228648  0.998  0.999   2.005499e-74   2.602699e-76   \n",
       "3   3.027118e-73   -0.572587  0.970  0.994   9.400110e-69   9.149465e-71   \n",
       "4   1.415365e-63   -0.191814  0.998  1.000   4.395133e-59   3.422353e-61   \n",
       "\n",
       "   Cluster geneName  \n",
       "0        0  Gm42418  \n",
       "1        0  Gm47283  \n",
       "2        0   Rpl35a  \n",
       "3        0     Alad  \n",
       "4        0    Rpl41  "
      ]
     },
     "execution_count": 2,
     "metadata": {},
     "output_type": "execute_result"
    }
   ],
   "source": [
    "df = pd.read_csv(\"all_genes.for_volcano.tsv\",sep=\"\\t\")\n",
    "df.head()"
   ]
  },
  {
   "cell_type": "code",
   "execution_count": 3,
   "id": "3a383bb1-6aae-4bd8-8886-9600d2782b53",
   "metadata": {
    "execution": {
     "iopub.execute_input": "2021-09-20T05:50:23.474684Z",
     "iopub.status.busy": "2021-09-20T05:50:23.474438Z",
     "iopub.status.idle": "2021-09-20T05:50:23.478641Z",
     "shell.execute_reply": "2021-09-20T05:50:23.478191Z",
     "shell.execute_reply.started": "2021-09-20T05:50:23.474666Z"
    }
   },
   "outputs": [],
   "source": [
    "df = df[df.fdr<=0.01]"
   ]
  },
  {
   "cell_type": "code",
   "execution_count": 4,
   "id": "9ad199b2-adaf-482a-9903-4047f8cfa136",
   "metadata": {
    "execution": {
     "iopub.execute_input": "2021-09-20T05:50:25.147831Z",
     "iopub.status.busy": "2021-09-20T05:50:25.147664Z",
     "iopub.status.idle": "2021-09-20T05:50:25.151017Z",
     "shell.execute_reply": "2021-09-20T05:50:25.150590Z",
     "shell.execute_reply.started": "2021-09-20T05:50:25.147815Z"
    }
   },
   "outputs": [
    {
     "data": {
      "text/plain": [
       "(4774, 8)"
      ]
     },
     "execution_count": 4,
     "metadata": {},
     "output_type": "execute_result"
    }
   ],
   "source": [
    "df.shape"
   ]
  },
  {
   "cell_type": "code",
   "execution_count": 8,
   "id": "16d1b253-4198-4072-b1c1-04f342effb06",
   "metadata": {
    "execution": {
     "iopub.execute_input": "2021-09-20T05:52:22.249913Z",
     "iopub.status.busy": "2021-09-20T05:52:22.249673Z",
     "iopub.status.idle": "2021-09-20T05:52:22.253189Z",
     "shell.execute_reply": "2021-09-20T05:52:22.252826Z",
     "shell.execute_reply.started": "2021-09-20T05:52:22.249896Z"
    },
    "tags": []
   },
   "outputs": [],
   "source": [
    "up = df[df.avg_log2FC>=0.2]\n",
    "down = df[df.avg_log2FC<=-0.2]"
   ]
  },
  {
   "cell_type": "code",
   "execution_count": 6,
   "id": "53af9bc0-c44b-4735-9245-a1f4a39616a6",
   "metadata": {
    "execution": {
     "iopub.execute_input": "2021-09-20T05:52:08.685815Z",
     "iopub.status.busy": "2021-09-20T05:52:08.685591Z",
     "iopub.status.idle": "2021-09-20T05:52:08.689254Z",
     "shell.execute_reply": "2021-09-20T05:52:08.688906Z",
     "shell.execute_reply.started": "2021-09-20T05:52:08.685798Z"
    }
   },
   "outputs": [
    {
     "data": {
      "text/plain": [
       "243"
      ]
     },
     "execution_count": 6,
     "metadata": {},
     "output_type": "execute_result"
    }
   ],
   "source": [
    "up.geneName.nunique()"
   ]
  },
  {
   "cell_type": "code",
   "execution_count": 9,
   "id": "530805a9-7dfe-4a85-9184-143ce272c206",
   "metadata": {
    "execution": {
     "iopub.execute_input": "2021-09-20T05:52:24.240003Z",
     "iopub.status.busy": "2021-09-20T05:52:24.239790Z",
     "iopub.status.idle": "2021-09-20T05:52:24.243229Z",
     "shell.execute_reply": "2021-09-20T05:52:24.242891Z",
     "shell.execute_reply.started": "2021-09-20T05:52:24.239986Z"
    },
    "tags": []
   },
   "outputs": [
    {
     "data": {
      "text/plain": [
       "143"
      ]
     },
     "execution_count": 9,
     "metadata": {},
     "output_type": "execute_result"
    }
   ],
   "source": [
    "down.geneName.nunique()"
   ]
  },
  {
   "cell_type": "code",
   "execution_count": null,
   "id": "6825f911-1e5e-434d-a113-cf80d190cbb6",
   "metadata": {},
   "outputs": [],
   "source": []
  }
 ],
 "metadata": {
  "kernelspec": {
   "display_name": "Python 3",
   "language": "python",
   "name": "python3"
  },
  "language_info": {
   "codemirror_mode": {
    "name": "ipython",
    "version": 3
   },
   "file_extension": ".py",
   "mimetype": "text/x-python",
   "name": "python",
   "nbconvert_exporter": "python",
   "pygments_lexer": "ipython3",
   "version": "3.8.5"
  }
 },
 "nbformat": 4,
 "nbformat_minor": 5
}
