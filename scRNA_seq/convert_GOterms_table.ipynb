{
 "cells": [
  {
   "cell_type": "code",
   "execution_count": 1,
   "id": "33ab2aef-933f-4bd3-87f3-4337a0861368",
   "metadata": {
    "execution": {
     "iopub.execute_input": "2021-11-22T21:09:09.726333Z",
     "iopub.status.busy": "2021-11-22T21:09:09.725975Z",
     "iopub.status.idle": "2021-11-22T21:09:14.445996Z",
     "shell.execute_reply": "2021-11-22T21:09:14.445272Z",
     "shell.execute_reply.started": "2021-11-22T21:09:09.726261Z"
    }
   },
   "outputs": [],
   "source": [
    "import pandas as pd\n",
    "import glob"
   ]
  },
  {
   "cell_type": "code",
   "execution_count": 2,
   "id": "a219aded-a717-4c33-a96e-c17cbd1e96a3",
   "metadata": {
    "execution": {
     "iopub.execute_input": "2021-11-22T21:26:44.472840Z",
     "iopub.status.busy": "2021-11-22T21:26:44.472543Z",
     "iopub.status.idle": "2021-11-22T21:26:44.476083Z",
     "shell.execute_reply": "2021-11-22T21:26:44.475425Z",
     "shell.execute_reply.started": "2021-11-22T21:26:44.472818Z"
    }
   },
   "outputs": [],
   "source": [
    "GO_files = ['GOBP_per_cluster.csv','GOMF_per_cluster.csv']"
   ]
  },
  {
   "cell_type": "code",
   "execution_count": 7,
   "id": "da710d6f-e8de-4c3c-91bf-fca03c2a4e44",
   "metadata": {
    "execution": {
     "iopub.execute_input": "2021-11-22T21:30:18.012308Z",
     "iopub.status.busy": "2021-11-22T21:30:18.012084Z",
     "iopub.status.idle": "2021-11-22T21:30:18.022730Z",
     "shell.execute_reply": "2021-11-22T21:30:18.022257Z",
     "shell.execute_reply.started": "2021-11-22T21:30:18.012290Z"
    },
    "tags": []
   },
   "outputs": [],
   "source": [
    "deg = pd.read_csv(\"all_combined_DEG.tsv\",sep=\"\\t\")\n",
    "deg = deg.dropna()\n",
    "deg.index = [int(x) for x in deg.ENTREZID]"
   ]
  },
  {
   "cell_type": "code",
   "execution_count": 8,
   "id": "027f6c8a-b3d3-412c-a71e-1775af6117c7",
   "metadata": {
    "execution": {
     "iopub.execute_input": "2021-11-22T21:30:21.082346Z",
     "iopub.status.busy": "2021-11-22T21:30:21.082027Z",
     "iopub.status.idle": "2021-11-22T21:30:21.094895Z",
     "shell.execute_reply": "2021-11-22T21:30:21.094432Z",
     "shell.execute_reply.started": "2021-11-22T21:30:21.082316Z"
    },
    "tags": []
   },
   "outputs": [
    {
     "data": {
      "text/html": [
       "<div>\n",
       "<style scoped>\n",
       "    .dataframe tbody tr th:only-of-type {\n",
       "        vertical-align: middle;\n",
       "    }\n",
       "\n",
       "    .dataframe tbody tr th {\n",
       "        vertical-align: top;\n",
       "    }\n",
       "\n",
       "    .dataframe thead th {\n",
       "        text-align: right;\n",
       "    }\n",
       "</style>\n",
       "<table border=\"1\" class=\"dataframe\">\n",
       "  <thead>\n",
       "    <tr style=\"text-align: right;\">\n",
       "      <th></th>\n",
       "      <th>p_val</th>\n",
       "      <th>avg_log2FC</th>\n",
       "      <th>pct.1</th>\n",
       "      <th>pct.2</th>\n",
       "      <th>p_val_adj</th>\n",
       "      <th>fdr</th>\n",
       "      <th>Cluster</th>\n",
       "      <th>geneName</th>\n",
       "      <th>ENTREZID</th>\n",
       "      <th>group</th>\n",
       "      <th>myCluster</th>\n",
       "    </tr>\n",
       "  </thead>\n",
       "  <tbody>\n",
       "    <tr>\n",
       "      <th>76681</th>\n",
       "      <td>5.756060e-81</td>\n",
       "      <td>0.847197</td>\n",
       "      <td>0.346</td>\n",
       "      <td>0.005</td>\n",
       "      <td>1.787429e-76</td>\n",
       "      <td>6.907272e-79</td>\n",
       "      <td>LT-HSC.1</td>\n",
       "      <td>Trim12a</td>\n",
       "      <td>76681.0</td>\n",
       "      <td>UP</td>\n",
       "      <td>LT-HSC.1</td>\n",
       "    </tr>\n",
       "    <tr>\n",
       "      <th>52430</th>\n",
       "      <td>5.791799e-64</td>\n",
       "      <td>-1.119813</td>\n",
       "      <td>0.008</td>\n",
       "      <td>0.442</td>\n",
       "      <td>1.798527e-59</td>\n",
       "      <td>3.475079e-62</td>\n",
       "      <td>LT-HSC.1</td>\n",
       "      <td>Echdc2</td>\n",
       "      <td>52430.0</td>\n",
       "      <td>DN</td>\n",
       "      <td>LT-HSC.1</td>\n",
       "    </tr>\n",
       "    <tr>\n",
       "      <th>57808</th>\n",
       "      <td>4.344522e-39</td>\n",
       "      <td>-0.310458</td>\n",
       "      <td>1.000</td>\n",
       "      <td>1.000</td>\n",
       "      <td>1.349104e-34</td>\n",
       "      <td>1.303356e-37</td>\n",
       "      <td>LT-HSC.1</td>\n",
       "      <td>Rpl35a</td>\n",
       "      <td>57808.0</td>\n",
       "      <td>DN</td>\n",
       "      <td>LT-HSC.1</td>\n",
       "    </tr>\n",
       "    <tr>\n",
       "      <th>20090</th>\n",
       "      <td>1.984737e-32</td>\n",
       "      <td>-0.239128</td>\n",
       "      <td>1.000</td>\n",
       "      <td>1.000</td>\n",
       "      <td>6.163204e-28</td>\n",
       "      <td>4.763369e-31</td>\n",
       "      <td>LT-HSC.1</td>\n",
       "      <td>Rps29</td>\n",
       "      <td>20090.0</td>\n",
       "      <td>DN</td>\n",
       "      <td>LT-HSC.1</td>\n",
       "    </tr>\n",
       "    <tr>\n",
       "      <th>267019</th>\n",
       "      <td>5.918950e-30</td>\n",
       "      <td>-0.262963</td>\n",
       "      <td>1.000</td>\n",
       "      <td>1.000</td>\n",
       "      <td>1.838012e-25</td>\n",
       "      <td>1.183790e-28</td>\n",
       "      <td>LT-HSC.1</td>\n",
       "      <td>Rps15a</td>\n",
       "      <td>267019.0</td>\n",
       "      <td>DN</td>\n",
       "      <td>LT-HSC.1</td>\n",
       "    </tr>\n",
       "  </tbody>\n",
       "</table>\n",
       "</div>"
      ],
      "text/plain": [
       "               p_val  avg_log2FC  pct.1  pct.2     p_val_adj           fdr  \\\n",
       "76681   5.756060e-81    0.847197  0.346  0.005  1.787429e-76  6.907272e-79   \n",
       "52430   5.791799e-64   -1.119813  0.008  0.442  1.798527e-59  3.475079e-62   \n",
       "57808   4.344522e-39   -0.310458  1.000  1.000  1.349104e-34  1.303356e-37   \n",
       "20090   1.984737e-32   -0.239128  1.000  1.000  6.163204e-28  4.763369e-31   \n",
       "267019  5.918950e-30   -0.262963  1.000  1.000  1.838012e-25  1.183790e-28   \n",
       "\n",
       "         Cluster geneName  ENTREZID group myCluster  \n",
       "76681   LT-HSC.1  Trim12a   76681.0    UP  LT-HSC.1  \n",
       "52430   LT-HSC.1   Echdc2   52430.0    DN  LT-HSC.1  \n",
       "57808   LT-HSC.1   Rpl35a   57808.0    DN  LT-HSC.1  \n",
       "20090   LT-HSC.1    Rps29   20090.0    DN  LT-HSC.1  \n",
       "267019  LT-HSC.1   Rps15a  267019.0    DN  LT-HSC.1  "
      ]
     },
     "execution_count": 8,
     "metadata": {},
     "output_type": "execute_result"
    }
   ],
   "source": [
    "deg.head()"
   ]
  },
  {
   "cell_type": "code",
   "execution_count": 16,
   "id": "d6a3d7e2-cc46-467b-9154-7c374851102b",
   "metadata": {
    "execution": {
     "iopub.execute_input": "2021-11-22T21:32:51.824626Z",
     "iopub.status.busy": "2021-11-22T21:32:51.824390Z",
     "iopub.status.idle": "2021-11-22T21:32:51.842806Z",
     "shell.execute_reply": "2021-11-22T21:32:51.842423Z",
     "shell.execute_reply.started": "2021-11-22T21:32:51.824608Z"
    },
    "tags": []
   },
   "outputs": [],
   "source": [
    "name_dict = deg.geneName.to_dict()"
   ]
  },
  {
   "cell_type": "code",
   "execution_count": 9,
   "id": "9764181a-377e-432a-83b9-1d0939317ac4",
   "metadata": {
    "execution": {
     "iopub.execute_input": "2021-11-22T21:30:29.870719Z",
     "iopub.status.busy": "2021-11-22T21:30:29.870479Z",
     "iopub.status.idle": "2021-11-22T21:30:29.873065Z",
     "shell.execute_reply": "2021-11-22T21:30:29.872564Z",
     "shell.execute_reply.started": "2021-11-22T21:30:29.870700Z"
    },
    "tags": []
   },
   "outputs": [],
   "source": [
    "# combine GO"
   ]
  },
  {
   "cell_type": "code",
   "execution_count": 25,
   "id": "f56869b1-fe2d-416e-af09-4f9a3faefb25",
   "metadata": {
    "execution": {
     "iopub.execute_input": "2021-11-22T21:35:05.470326Z",
     "iopub.status.busy": "2021-11-22T21:35:05.470097Z",
     "iopub.status.idle": "2021-11-22T21:35:05.484520Z",
     "shell.execute_reply": "2021-11-22T21:35:05.484027Z",
     "shell.execute_reply.started": "2021-11-22T21:35:05.470308Z"
    },
    "tags": []
   },
   "outputs": [],
   "source": [
    "df1 = pd.read_csv(\"GOBP_per_cluster.csv\")\n",
    "df1['GO_database'] = \"BP\"\n",
    "df2 = pd.read_csv(\"GOMF_per_cluster.csv\")\n",
    "df2['GO_database'] = \"MF\"\n",
    "df = pd.concat([df1,df2])"
   ]
  },
  {
   "cell_type": "code",
   "execution_count": 15,
   "id": "f0e26366-731d-43f2-87a0-19f3a6de7dfe",
   "metadata": {
    "execution": {
     "iopub.execute_input": "2021-11-22T21:32:03.715911Z",
     "iopub.status.busy": "2021-11-22T21:32:03.715669Z",
     "iopub.status.idle": "2021-11-22T21:32:03.725414Z",
     "shell.execute_reply": "2021-11-22T21:32:03.725049Z",
     "shell.execute_reply.started": "2021-11-22T21:32:03.715893Z"
    },
    "tags": []
   },
   "outputs": [
    {
     "data": {
      "text/html": [
       "<div>\n",
       "<style scoped>\n",
       "    .dataframe tbody tr th:only-of-type {\n",
       "        vertical-align: middle;\n",
       "    }\n",
       "\n",
       "    .dataframe tbody tr th {\n",
       "        vertical-align: top;\n",
       "    }\n",
       "\n",
       "    .dataframe thead th {\n",
       "        text-align: right;\n",
       "    }\n",
       "</style>\n",
       "<table border=\"1\" class=\"dataframe\">\n",
       "  <thead>\n",
       "    <tr style=\"text-align: right;\">\n",
       "      <th></th>\n",
       "      <th>Cluster</th>\n",
       "      <th>myCluster</th>\n",
       "      <th>ID</th>\n",
       "      <th>Description</th>\n",
       "      <th>GeneRatio</th>\n",
       "      <th>BgRatio</th>\n",
       "      <th>pvalue</th>\n",
       "      <th>p.adjust</th>\n",
       "      <th>qvalue</th>\n",
       "      <th>geneID</th>\n",
       "      <th>Count</th>\n",
       "      <th>GO_database</th>\n",
       "    </tr>\n",
       "  </thead>\n",
       "  <tbody>\n",
       "    <tr>\n",
       "      <th>0</th>\n",
       "      <td>CMP</td>\n",
       "      <td>CMP</td>\n",
       "      <td>GO:0002181</td>\n",
       "      <td>cytoplasmic translation</td>\n",
       "      <td>4/47</td>\n",
       "      <td>91/23328</td>\n",
       "      <td>0.000034</td>\n",
       "      <td>0.011202</td>\n",
       "      <td>0.008726</td>\n",
       "      <td>57808/20090/67248/54127</td>\n",
       "      <td>4</td>\n",
       "      <td>BP</td>\n",
       "    </tr>\n",
       "    <tr>\n",
       "      <th>1</th>\n",
       "      <td>CMP</td>\n",
       "      <td>CMP</td>\n",
       "      <td>GO:0042742</td>\n",
       "      <td>defense response to bacterium</td>\n",
       "      <td>7/47</td>\n",
       "      <td>464/23328</td>\n",
       "      <td>0.000037</td>\n",
       "      <td>0.011202</td>\n",
       "      <td>0.008726</td>\n",
       "      <td>67248/14972/16819/17523/13035/50701/20568</td>\n",
       "      <td>7</td>\n",
       "      <td>BP</td>\n",
       "    </tr>\n",
       "    <tr>\n",
       "      <th>2</th>\n",
       "      <td>CMP</td>\n",
       "      <td>CMP</td>\n",
       "      <td>GO:0050832</td>\n",
       "      <td>defense response to fungus</td>\n",
       "      <td>3/47</td>\n",
       "      <td>35/23328</td>\n",
       "      <td>0.000048</td>\n",
       "      <td>0.011202</td>\n",
       "      <td>0.008726</td>\n",
       "      <td>17523/13035/50701</td>\n",
       "      <td>3</td>\n",
       "      <td>BP</td>\n",
       "    </tr>\n",
       "    <tr>\n",
       "      <th>3</th>\n",
       "      <td>CMP</td>\n",
       "      <td>CMP</td>\n",
       "      <td>GO:0019731</td>\n",
       "      <td>antibacterial humoral response</td>\n",
       "      <td>4/47</td>\n",
       "      <td>104/23328</td>\n",
       "      <td>0.000057</td>\n",
       "      <td>0.011202</td>\n",
       "      <td>0.008726</td>\n",
       "      <td>67248/13035/50701/20568</td>\n",
       "      <td>4</td>\n",
       "      <td>BP</td>\n",
       "    </tr>\n",
       "    <tr>\n",
       "      <th>4</th>\n",
       "      <td>CMP</td>\n",
       "      <td>CMP</td>\n",
       "      <td>GO:0044403</td>\n",
       "      <td>symbiotic process</td>\n",
       "      <td>6/47</td>\n",
       "      <td>374/23328</td>\n",
       "      <td>0.000101</td>\n",
       "      <td>0.015708</td>\n",
       "      <td>0.012237</td>\n",
       "      <td>76681/16852/16476/13035/50701/20568</td>\n",
       "      <td>6</td>\n",
       "      <td>BP</td>\n",
       "    </tr>\n",
       "  </tbody>\n",
       "</table>\n",
       "</div>"
      ],
      "text/plain": [
       "  Cluster myCluster          ID                     Description GeneRatio  \\\n",
       "0     CMP       CMP  GO:0002181         cytoplasmic translation      4/47   \n",
       "1     CMP       CMP  GO:0042742   defense response to bacterium      7/47   \n",
       "2     CMP       CMP  GO:0050832      defense response to fungus      3/47   \n",
       "3     CMP       CMP  GO:0019731  antibacterial humoral response      4/47   \n",
       "4     CMP       CMP  GO:0044403               symbiotic process      6/47   \n",
       "\n",
       "     BgRatio    pvalue  p.adjust    qvalue  \\\n",
       "0   91/23328  0.000034  0.011202  0.008726   \n",
       "1  464/23328  0.000037  0.011202  0.008726   \n",
       "2   35/23328  0.000048  0.011202  0.008726   \n",
       "3  104/23328  0.000057  0.011202  0.008726   \n",
       "4  374/23328  0.000101  0.015708  0.012237   \n",
       "\n",
       "                                      geneID  Count GO_database  \n",
       "0                    57808/20090/67248/54127      4          BP  \n",
       "1  67248/14972/16819/17523/13035/50701/20568      7          BP  \n",
       "2                          17523/13035/50701      3          BP  \n",
       "3                    67248/13035/50701/20568      4          BP  \n",
       "4        76681/16852/16476/13035/50701/20568      6          BP  "
      ]
     },
     "execution_count": 15,
     "metadata": {},
     "output_type": "execute_result"
    }
   ],
   "source": [
    "df.head()"
   ]
  },
  {
   "cell_type": "code",
   "execution_count": 26,
   "id": "b93eb2ca-cf98-4e0c-8c1d-39874a3a80a2",
   "metadata": {
    "execution": {
     "iopub.execute_input": "2021-11-22T21:35:07.069468Z",
     "iopub.status.busy": "2021-11-22T21:35:07.069263Z",
     "iopub.status.idle": "2021-11-22T21:35:07.072187Z",
     "shell.execute_reply": "2021-11-22T21:35:07.071724Z",
     "shell.execute_reply.started": "2021-11-22T21:35:07.069450Z"
    },
    "tags": []
   },
   "outputs": [],
   "source": [
    "def get_geneName(x):\n",
    "    out = []\n",
    "    for i in x.split(\"/\"):\n",
    "        out.append(name_dict[int(i)])\n",
    "    return \"/\".join(out)"
   ]
  },
  {
   "cell_type": "code",
   "execution_count": 27,
   "id": "08010235-d3a6-4ccd-b243-dfd9e2cdacf9",
   "metadata": {
    "execution": {
     "iopub.execute_input": "2021-11-22T21:35:08.320118Z",
     "iopub.status.busy": "2021-11-22T21:35:08.319812Z",
     "iopub.status.idle": "2021-11-22T21:35:08.328063Z",
     "shell.execute_reply": "2021-11-22T21:35:08.327606Z",
     "shell.execute_reply.started": "2021-11-22T21:35:08.320091Z"
    },
    "tags": []
   },
   "outputs": [],
   "source": [
    "df['geneName'] = df.geneID.apply(get_geneName)"
   ]
  },
  {
   "cell_type": "code",
   "execution_count": 28,
   "id": "a1dd1081-b286-4acb-8794-a85f35d61800",
   "metadata": {
    "execution": {
     "iopub.execute_input": "2021-11-22T21:35:19.904971Z",
     "iopub.status.busy": "2021-11-22T21:35:19.904606Z",
     "iopub.status.idle": "2021-11-22T21:35:19.911455Z",
     "shell.execute_reply": "2021-11-22T21:35:19.910996Z",
     "shell.execute_reply.started": "2021-11-22T21:35:19.904940Z"
    },
    "tags": []
   },
   "outputs": [],
   "source": [
    "df.GeneRatio = df.GeneRatio.str.replace(\"/\",\":\")\n",
    "df.BgRatio = df.BgRatio.str.replace(\"/\",\":\")"
   ]
  },
  {
   "cell_type": "code",
   "execution_count": 29,
   "id": "d779f1ce-c634-4434-80ca-b2e3ddf632eb",
   "metadata": {
    "execution": {
     "iopub.execute_input": "2021-11-22T21:35:21.888158Z",
     "iopub.status.busy": "2021-11-22T21:35:21.887981Z",
     "iopub.status.idle": "2021-11-22T21:35:21.897826Z",
     "shell.execute_reply": "2021-11-22T21:35:21.897383Z",
     "shell.execute_reply.started": "2021-11-22T21:35:21.888143Z"
    },
    "tags": []
   },
   "outputs": [
    {
     "data": {
      "text/html": [
       "<div>\n",
       "<style scoped>\n",
       "    .dataframe tbody tr th:only-of-type {\n",
       "        vertical-align: middle;\n",
       "    }\n",
       "\n",
       "    .dataframe tbody tr th {\n",
       "        vertical-align: top;\n",
       "    }\n",
       "\n",
       "    .dataframe thead th {\n",
       "        text-align: right;\n",
       "    }\n",
       "</style>\n",
       "<table border=\"1\" class=\"dataframe\">\n",
       "  <thead>\n",
       "    <tr style=\"text-align: right;\">\n",
       "      <th></th>\n",
       "      <th>Cluster</th>\n",
       "      <th>myCluster</th>\n",
       "      <th>ID</th>\n",
       "      <th>Description</th>\n",
       "      <th>GeneRatio</th>\n",
       "      <th>BgRatio</th>\n",
       "      <th>pvalue</th>\n",
       "      <th>p.adjust</th>\n",
       "      <th>qvalue</th>\n",
       "      <th>geneID</th>\n",
       "      <th>Count</th>\n",
       "      <th>GO_database</th>\n",
       "      <th>geneName</th>\n",
       "    </tr>\n",
       "  </thead>\n",
       "  <tbody>\n",
       "    <tr>\n",
       "      <th>0</th>\n",
       "      <td>CMP</td>\n",
       "      <td>CMP</td>\n",
       "      <td>GO:0002181</td>\n",
       "      <td>cytoplasmic translation</td>\n",
       "      <td>4:47</td>\n",
       "      <td>91:23328</td>\n",
       "      <td>0.000034</td>\n",
       "      <td>0.011202</td>\n",
       "      <td>0.008726</td>\n",
       "      <td>57808/20090/67248/54127</td>\n",
       "      <td>4</td>\n",
       "      <td>BP</td>\n",
       "      <td>Rpl35a/Rps29/Rpl39/Rps28</td>\n",
       "    </tr>\n",
       "    <tr>\n",
       "      <th>1</th>\n",
       "      <td>CMP</td>\n",
       "      <td>CMP</td>\n",
       "      <td>GO:0042742</td>\n",
       "      <td>defense response to bacterium</td>\n",
       "      <td>7:47</td>\n",
       "      <td>464:23328</td>\n",
       "      <td>0.000037</td>\n",
       "      <td>0.011202</td>\n",
       "      <td>0.008726</td>\n",
       "      <td>67248/14972/16819/17523/13035/50701/20568</td>\n",
       "      <td>7</td>\n",
       "      <td>BP</td>\n",
       "      <td>Rpl39/H2-K1/Lcn2/Mpo/Ctsg/Elane/Slpi</td>\n",
       "    </tr>\n",
       "    <tr>\n",
       "      <th>2</th>\n",
       "      <td>CMP</td>\n",
       "      <td>CMP</td>\n",
       "      <td>GO:0050832</td>\n",
       "      <td>defense response to fungus</td>\n",
       "      <td>3:47</td>\n",
       "      <td>35:23328</td>\n",
       "      <td>0.000048</td>\n",
       "      <td>0.011202</td>\n",
       "      <td>0.008726</td>\n",
       "      <td>17523/13035/50701</td>\n",
       "      <td>3</td>\n",
       "      <td>BP</td>\n",
       "      <td>Mpo/Ctsg/Elane</td>\n",
       "    </tr>\n",
       "    <tr>\n",
       "      <th>3</th>\n",
       "      <td>CMP</td>\n",
       "      <td>CMP</td>\n",
       "      <td>GO:0019731</td>\n",
       "      <td>antibacterial humoral response</td>\n",
       "      <td>4:47</td>\n",
       "      <td>104:23328</td>\n",
       "      <td>0.000057</td>\n",
       "      <td>0.011202</td>\n",
       "      <td>0.008726</td>\n",
       "      <td>67248/13035/50701/20568</td>\n",
       "      <td>4</td>\n",
       "      <td>BP</td>\n",
       "      <td>Rpl39/Ctsg/Elane/Slpi</td>\n",
       "    </tr>\n",
       "    <tr>\n",
       "      <th>4</th>\n",
       "      <td>CMP</td>\n",
       "      <td>CMP</td>\n",
       "      <td>GO:0044403</td>\n",
       "      <td>symbiotic process</td>\n",
       "      <td>6:47</td>\n",
       "      <td>374:23328</td>\n",
       "      <td>0.000101</td>\n",
       "      <td>0.015708</td>\n",
       "      <td>0.012237</td>\n",
       "      <td>76681/16852/16476/13035/50701/20568</td>\n",
       "      <td>6</td>\n",
       "      <td>BP</td>\n",
       "      <td>Trim12a/Lgals1/Jun/Ctsg/Elane/Slpi</td>\n",
       "    </tr>\n",
       "  </tbody>\n",
       "</table>\n",
       "</div>"
      ],
      "text/plain": [
       "  Cluster myCluster          ID                     Description GeneRatio  \\\n",
       "0     CMP       CMP  GO:0002181         cytoplasmic translation      4:47   \n",
       "1     CMP       CMP  GO:0042742   defense response to bacterium      7:47   \n",
       "2     CMP       CMP  GO:0050832      defense response to fungus      3:47   \n",
       "3     CMP       CMP  GO:0019731  antibacterial humoral response      4:47   \n",
       "4     CMP       CMP  GO:0044403               symbiotic process      6:47   \n",
       "\n",
       "     BgRatio    pvalue  p.adjust    qvalue  \\\n",
       "0   91:23328  0.000034  0.011202  0.008726   \n",
       "1  464:23328  0.000037  0.011202  0.008726   \n",
       "2   35:23328  0.000048  0.011202  0.008726   \n",
       "3  104:23328  0.000057  0.011202  0.008726   \n",
       "4  374:23328  0.000101  0.015708  0.012237   \n",
       "\n",
       "                                      geneID  Count GO_database  \\\n",
       "0                    57808/20090/67248/54127      4          BP   \n",
       "1  67248/14972/16819/17523/13035/50701/20568      7          BP   \n",
       "2                          17523/13035/50701      3          BP   \n",
       "3                    67248/13035/50701/20568      4          BP   \n",
       "4        76681/16852/16476/13035/50701/20568      6          BP   \n",
       "\n",
       "                               geneName  \n",
       "0              Rpl35a/Rps29/Rpl39/Rps28  \n",
       "1  Rpl39/H2-K1/Lcn2/Mpo/Ctsg/Elane/Slpi  \n",
       "2                        Mpo/Ctsg/Elane  \n",
       "3                 Rpl39/Ctsg/Elane/Slpi  \n",
       "4    Trim12a/Lgals1/Jun/Ctsg/Elane/Slpi  "
      ]
     },
     "execution_count": 29,
     "metadata": {},
     "output_type": "execute_result"
    }
   ],
   "source": [
    "df.head()"
   ]
  },
  {
   "cell_type": "code",
   "execution_count": 30,
   "id": "3db20087-3bff-4899-8c49-80fd79301ca2",
   "metadata": {
    "execution": {
     "iopub.execute_input": "2021-11-22T21:35:28.444373Z",
     "iopub.status.busy": "2021-11-22T21:35:28.444157Z",
     "iopub.status.idle": "2021-11-22T21:35:28.472778Z",
     "shell.execute_reply": "2021-11-22T21:35:28.472264Z",
     "shell.execute_reply.started": "2021-11-22T21:35:28.444355Z"
    },
    "tags": []
   },
   "outputs": [],
   "source": [
    "df.to_csv(\"GO_enrichment.all_DEG.csv\",index=False)"
   ]
  },
  {
   "cell_type": "code",
   "execution_count": null,
   "id": "d7c3df52-43b5-4942-8f07-6feef0aa2c83",
   "metadata": {},
   "outputs": [],
   "source": []
  },
  {
   "cell_type": "code",
   "execution_count": null,
   "id": "681b1498-d626-4aab-a240-27c90ff56234",
   "metadata": {},
   "outputs": [],
   "source": []
  }
 ],
 "metadata": {
  "kernelspec": {
   "display_name": "Python 3",
   "language": "python",
   "name": "python3"
  },
  "language_info": {
   "codemirror_mode": {
    "name": "ipython",
    "version": 3
   },
   "file_extension": ".py",
   "mimetype": "text/x-python",
   "name": "python",
   "nbconvert_exporter": "python",
   "pygments_lexer": "ipython3",
   "version": "3.8.12"
  }
 },
 "nbformat": 4,
 "nbformat_minor": 5
}
