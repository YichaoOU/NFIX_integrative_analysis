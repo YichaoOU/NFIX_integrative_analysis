{
 "cells": [
  {
   "cell_type": "code",
   "execution_count": 1,
   "id": "7007f38a-556c-43e1-83d7-a107536334f3",
   "metadata": {
    "execution": {
     "iopub.execute_input": "2021-10-20T05:05:50.491263Z",
     "iopub.status.busy": "2021-10-20T05:05:50.490999Z",
     "iopub.status.idle": "2021-10-20T05:05:54.250580Z",
     "shell.execute_reply": "2021-10-20T05:05:54.249826Z",
     "shell.execute_reply.started": "2021-10-20T05:05:50.491225Z"
    }
   },
   "outputs": [],
   "source": [
    "import pandas as pd"
   ]
  },
  {
   "cell_type": "code",
   "execution_count": 2,
   "id": "74c2606f-8f79-4fbe-9829-42f0a8b964c8",
   "metadata": {
    "execution": {
     "iopub.execute_input": "2021-10-20T05:06:04.302019Z",
     "iopub.status.busy": "2021-10-20T05:06:04.301706Z",
     "iopub.status.idle": "2021-10-20T05:06:04.308973Z",
     "shell.execute_reply": "2021-10-20T05:06:04.308367Z",
     "shell.execute_reply.started": "2021-10-20T05:06:04.301996Z"
    }
   },
   "outputs": [],
   "source": [
    "df = pd.read_csv(\"all_combined_DEG.tsv\",sep=\"\\t\")"
   ]
  },
  {
   "cell_type": "code",
   "execution_count": 3,
   "id": "bc4000c3-8a25-46f4-ac8f-f8f463cedb13",
   "metadata": {
    "execution": {
     "iopub.execute_input": "2021-10-20T05:06:05.732010Z",
     "iopub.status.busy": "2021-10-20T05:06:05.731772Z",
     "iopub.status.idle": "2021-10-20T05:06:05.774098Z",
     "shell.execute_reply": "2021-10-20T05:06:05.773526Z",
     "shell.execute_reply.started": "2021-10-20T05:06:05.731990Z"
    }
   },
   "outputs": [
    {
     "data": {
      "text/html": [
       "<div>\n",
       "<style scoped>\n",
       "    .dataframe tbody tr th:only-of-type {\n",
       "        vertical-align: middle;\n",
       "    }\n",
       "\n",
       "    .dataframe tbody tr th {\n",
       "        vertical-align: top;\n",
       "    }\n",
       "\n",
       "    .dataframe thead th {\n",
       "        text-align: right;\n",
       "    }\n",
       "</style>\n",
       "<table border=\"1\" class=\"dataframe\">\n",
       "  <thead>\n",
       "    <tr style=\"text-align: right;\">\n",
       "      <th></th>\n",
       "      <th>p_val</th>\n",
       "      <th>avg_log2FC</th>\n",
       "      <th>pct.1</th>\n",
       "      <th>pct.2</th>\n",
       "      <th>p_val_adj</th>\n",
       "      <th>fdr</th>\n",
       "      <th>Cluster</th>\n",
       "      <th>geneName</th>\n",
       "      <th>ENTREZID</th>\n",
       "      <th>group</th>\n",
       "      <th>myCluster</th>\n",
       "    </tr>\n",
       "  </thead>\n",
       "  <tbody>\n",
       "    <tr>\n",
       "      <th>0</th>\n",
       "      <td>5.756060e-81</td>\n",
       "      <td>0.847197</td>\n",
       "      <td>0.346</td>\n",
       "      <td>0.005</td>\n",
       "      <td>1.787429e-76</td>\n",
       "      <td>6.907272e-79</td>\n",
       "      <td>LT-HSC.1</td>\n",
       "      <td>Trim12a</td>\n",
       "      <td>76681.0</td>\n",
       "      <td>UP</td>\n",
       "      <td>LT-HSC.1</td>\n",
       "    </tr>\n",
       "    <tr>\n",
       "      <th>1</th>\n",
       "      <td>5.791799e-64</td>\n",
       "      <td>-1.119813</td>\n",
       "      <td>0.008</td>\n",
       "      <td>0.442</td>\n",
       "      <td>1.798527e-59</td>\n",
       "      <td>3.475079e-62</td>\n",
       "      <td>LT-HSC.1</td>\n",
       "      <td>Echdc2</td>\n",
       "      <td>52430.0</td>\n",
       "      <td>DN</td>\n",
       "      <td>LT-HSC.1</td>\n",
       "    </tr>\n",
       "    <tr>\n",
       "      <th>2</th>\n",
       "      <td>8.276152e-55</td>\n",
       "      <td>0.526138</td>\n",
       "      <td>1.000</td>\n",
       "      <td>1.000</td>\n",
       "      <td>2.569993e-50</td>\n",
       "      <td>3.310461e-53</td>\n",
       "      <td>LT-HSC.1</td>\n",
       "      <td>Gm42418</td>\n",
       "      <td>NaN</td>\n",
       "      <td>UP</td>\n",
       "      <td>LT-HSC.1</td>\n",
       "    </tr>\n",
       "    <tr>\n",
       "      <th>3</th>\n",
       "      <td>4.344522e-39</td>\n",
       "      <td>-0.310458</td>\n",
       "      <td>1.000</td>\n",
       "      <td>1.000</td>\n",
       "      <td>1.349104e-34</td>\n",
       "      <td>1.303356e-37</td>\n",
       "      <td>LT-HSC.1</td>\n",
       "      <td>Rpl35a</td>\n",
       "      <td>57808.0</td>\n",
       "      <td>DN</td>\n",
       "      <td>LT-HSC.1</td>\n",
       "    </tr>\n",
       "    <tr>\n",
       "      <th>4</th>\n",
       "      <td>1.984737e-32</td>\n",
       "      <td>-0.239128</td>\n",
       "      <td>1.000</td>\n",
       "      <td>1.000</td>\n",
       "      <td>6.163204e-28</td>\n",
       "      <td>4.763369e-31</td>\n",
       "      <td>LT-HSC.1</td>\n",
       "      <td>Rps29</td>\n",
       "      <td>20090.0</td>\n",
       "      <td>DN</td>\n",
       "      <td>LT-HSC.1</td>\n",
       "    </tr>\n",
       "  </tbody>\n",
       "</table>\n",
       "</div>"
      ],
      "text/plain": [
       "          p_val  avg_log2FC  pct.1  pct.2     p_val_adj           fdr  \\\n",
       "0  5.756060e-81    0.847197  0.346  0.005  1.787429e-76  6.907272e-79   \n",
       "1  5.791799e-64   -1.119813  0.008  0.442  1.798527e-59  3.475079e-62   \n",
       "2  8.276152e-55    0.526138  1.000  1.000  2.569993e-50  3.310461e-53   \n",
       "3  4.344522e-39   -0.310458  1.000  1.000  1.349104e-34  1.303356e-37   \n",
       "4  1.984737e-32   -0.239128  1.000  1.000  6.163204e-28  4.763369e-31   \n",
       "\n",
       "    Cluster geneName  ENTREZID group myCluster  \n",
       "0  LT-HSC.1  Trim12a   76681.0    UP  LT-HSC.1  \n",
       "1  LT-HSC.1   Echdc2   52430.0    DN  LT-HSC.1  \n",
       "2  LT-HSC.1  Gm42418       NaN    UP  LT-HSC.1  \n",
       "3  LT-HSC.1   Rpl35a   57808.0    DN  LT-HSC.1  \n",
       "4  LT-HSC.1    Rps29   20090.0    DN  LT-HSC.1  "
      ]
     },
     "execution_count": 3,
     "metadata": {},
     "output_type": "execute_result"
    }
   ],
   "source": [
    "df.head()"
   ]
  },
  {
   "cell_type": "code",
   "execution_count": 4,
   "id": "97fd2e65-2238-4795-b382-e2806a5e4124",
   "metadata": {
    "execution": {
     "iopub.execute_input": "2021-10-20T05:06:18.045246Z",
     "iopub.status.busy": "2021-10-20T05:06:18.044956Z",
     "iopub.status.idle": "2021-10-20T05:06:18.049175Z",
     "shell.execute_reply": "2021-10-20T05:06:18.048600Z",
     "shell.execute_reply.started": "2021-10-20T05:06:18.045223Z"
    }
   },
   "outputs": [],
   "source": [
    "df = df.sort_values(\"avg_log2FC\")"
   ]
  },
  {
   "cell_type": "code",
   "execution_count": 5,
   "id": "ac953e6a-e0f1-4d92-9757-50da6b4984a7",
   "metadata": {
    "execution": {
     "iopub.execute_input": "2021-10-20T05:06:19.445766Z",
     "iopub.status.busy": "2021-10-20T05:06:19.445584Z",
     "iopub.status.idle": "2021-10-20T05:06:19.456869Z",
     "shell.execute_reply": "2021-10-20T05:06:19.456372Z",
     "shell.execute_reply.started": "2021-10-20T05:06:19.445749Z"
    }
   },
   "outputs": [
    {
     "data": {
      "text/html": [
       "<div>\n",
       "<style scoped>\n",
       "    .dataframe tbody tr th:only-of-type {\n",
       "        vertical-align: middle;\n",
       "    }\n",
       "\n",
       "    .dataframe tbody tr th {\n",
       "        vertical-align: top;\n",
       "    }\n",
       "\n",
       "    .dataframe thead th {\n",
       "        text-align: right;\n",
       "    }\n",
       "</style>\n",
       "<table border=\"1\" class=\"dataframe\">\n",
       "  <thead>\n",
       "    <tr style=\"text-align: right;\">\n",
       "      <th></th>\n",
       "      <th>p_val</th>\n",
       "      <th>avg_log2FC</th>\n",
       "      <th>pct.1</th>\n",
       "      <th>pct.2</th>\n",
       "      <th>p_val_adj</th>\n",
       "      <th>fdr</th>\n",
       "      <th>Cluster</th>\n",
       "      <th>geneName</th>\n",
       "      <th>ENTREZID</th>\n",
       "      <th>group</th>\n",
       "      <th>myCluster</th>\n",
       "    </tr>\n",
       "  </thead>\n",
       "  <tbody>\n",
       "    <tr>\n",
       "      <th>251</th>\n",
       "      <td>4.481369e-88</td>\n",
       "      <td>-1.141771</td>\n",
       "      <td>0.003</td>\n",
       "      <td>0.415</td>\n",
       "      <td>1.391600e-83</td>\n",
       "      <td>4.167674e-86</td>\n",
       "      <td>ST-HSC.1</td>\n",
       "      <td>Echdc2</td>\n",
       "      <td>52430.0</td>\n",
       "      <td>DN</td>\n",
       "      <td>ST-HSC.1</td>\n",
       "    </tr>\n",
       "    <tr>\n",
       "      <th>1</th>\n",
       "      <td>5.791799e-64</td>\n",
       "      <td>-1.119813</td>\n",
       "      <td>0.008</td>\n",
       "      <td>0.442</td>\n",
       "      <td>1.798527e-59</td>\n",
       "      <td>3.475079e-62</td>\n",
       "      <td>LT-HSC.1</td>\n",
       "      <td>Echdc2</td>\n",
       "      <td>52430.0</td>\n",
       "      <td>DN</td>\n",
       "      <td>LT-HSC.1</td>\n",
       "    </tr>\n",
       "    <tr>\n",
       "      <th>116</th>\n",
       "      <td>5.098101e-56</td>\n",
       "      <td>-1.103615</td>\n",
       "      <td>0.013</td>\n",
       "      <td>0.471</td>\n",
       "      <td>1.583113e-51</td>\n",
       "      <td>8.462848e-54</td>\n",
       "      <td>LT-HSC.2</td>\n",
       "      <td>Echdc2</td>\n",
       "      <td>52430.0</td>\n",
       "      <td>DN</td>\n",
       "      <td>LT-HSC.2</td>\n",
       "    </tr>\n",
       "    <tr>\n",
       "      <th>343</th>\n",
       "      <td>1.927169e-30</td>\n",
       "      <td>-1.047393</td>\n",
       "      <td>0.011</td>\n",
       "      <td>0.394</td>\n",
       "      <td>5.984437e-26</td>\n",
       "      <td>3.507447e-28</td>\n",
       "      <td>ST-HSC.2</td>\n",
       "      <td>Echdc2</td>\n",
       "      <td>52430.0</td>\n",
       "      <td>DN</td>\n",
       "      <td>ST-HSC.2</td>\n",
       "    </tr>\n",
       "    <tr>\n",
       "      <th>643</th>\n",
       "      <td>6.483726e-38</td>\n",
       "      <td>-0.942100</td>\n",
       "      <td>0.005</td>\n",
       "      <td>0.367</td>\n",
       "      <td>2.013391e-33</td>\n",
       "      <td>1.361582e-35</td>\n",
       "      <td>MEP</td>\n",
       "      <td>Echdc2</td>\n",
       "      <td>52430.0</td>\n",
       "      <td>DN</td>\n",
       "      <td>MEP</td>\n",
       "    </tr>\n",
       "  </tbody>\n",
       "</table>\n",
       "</div>"
      ],
      "text/plain": [
       "            p_val  avg_log2FC  pct.1  pct.2     p_val_adj           fdr  \\\n",
       "251  4.481369e-88   -1.141771  0.003  0.415  1.391600e-83  4.167674e-86   \n",
       "1    5.791799e-64   -1.119813  0.008  0.442  1.798527e-59  3.475079e-62   \n",
       "116  5.098101e-56   -1.103615  0.013  0.471  1.583113e-51  8.462848e-54   \n",
       "343  1.927169e-30   -1.047393  0.011  0.394  5.984437e-26  3.507447e-28   \n",
       "643  6.483726e-38   -0.942100  0.005  0.367  2.013391e-33  1.361582e-35   \n",
       "\n",
       "      Cluster geneName  ENTREZID group myCluster  \n",
       "251  ST-HSC.1   Echdc2   52430.0    DN  ST-HSC.1  \n",
       "1    LT-HSC.1   Echdc2   52430.0    DN  LT-HSC.1  \n",
       "116  LT-HSC.2   Echdc2   52430.0    DN  LT-HSC.2  \n",
       "343  ST-HSC.2   Echdc2   52430.0    DN  ST-HSC.2  \n",
       "643       MEP   Echdc2   52430.0    DN       MEP  "
      ]
     },
     "execution_count": 5,
     "metadata": {},
     "output_type": "execute_result"
    }
   ],
   "source": [
    "df.head()"
   ]
  },
  {
   "cell_type": "code",
   "execution_count": 6,
   "id": "1d024970-843a-4f12-92bc-871df5fa5546",
   "metadata": {
    "execution": {
     "iopub.execute_input": "2021-10-20T05:06:29.874985Z",
     "iopub.status.busy": "2021-10-20T05:06:29.874686Z",
     "iopub.status.idle": "2021-10-20T05:06:29.879547Z",
     "shell.execute_reply": "2021-10-20T05:06:29.879022Z",
     "shell.execute_reply.started": "2021-10-20T05:06:29.874963Z"
    }
   },
   "outputs": [],
   "source": [
    "df = df.drop_duplicates(\"geneName\")"
   ]
  },
  {
   "cell_type": "code",
   "execution_count": 7,
   "id": "9b9f6856-d2df-418c-978a-099d5af712ef",
   "metadata": {
    "execution": {
     "iopub.execute_input": "2021-10-20T05:06:31.492921Z",
     "iopub.status.busy": "2021-10-20T05:06:31.492734Z",
     "iopub.status.idle": "2021-10-20T05:06:31.496229Z",
     "shell.execute_reply": "2021-10-20T05:06:31.495725Z",
     "shell.execute_reply.started": "2021-10-20T05:06:31.492904Z"
    }
   },
   "outputs": [
    {
     "data": {
      "text/plain": [
       "(530, 11)"
      ]
     },
     "execution_count": 7,
     "metadata": {},
     "output_type": "execute_result"
    }
   ],
   "source": [
    "df.shape"
   ]
  },
  {
   "cell_type": "code",
   "execution_count": 8,
   "id": "2de94f76-067a-42c6-a1f4-7a97a1dcb8e6",
   "metadata": {
    "execution": {
     "iopub.execute_input": "2021-10-20T05:06:38.490614Z",
     "iopub.status.busy": "2021-10-20T05:06:38.490395Z",
     "iopub.status.idle": "2021-10-20T05:06:38.495489Z",
     "shell.execute_reply": "2021-10-20T05:06:38.494958Z",
     "shell.execute_reply.started": "2021-10-20T05:06:38.490597Z"
    }
   },
   "outputs": [
    {
     "data": {
      "text/plain": [
       "UP    377\n",
       "DN    153\n",
       "Name: group, dtype: int64"
      ]
     },
     "execution_count": 8,
     "metadata": {},
     "output_type": "execute_result"
    }
   ],
   "source": [
    "df.group.value_counts()"
   ]
  },
  {
   "cell_type": "code",
   "execution_count": null,
   "id": "6e82eae2-d7d3-4b1d-ba01-2f47103c69e3",
   "metadata": {},
   "outputs": [],
   "source": []
  }
 ],
 "metadata": {
  "kernelspec": {
   "display_name": "Python 3",
   "language": "python",
   "name": "python3"
  },
  "language_info": {
   "codemirror_mode": {
    "name": "ipython",
    "version": 3
   },
   "file_extension": ".py",
   "mimetype": "text/x-python",
   "name": "python",
   "nbconvert_exporter": "python",
   "pygments_lexer": "ipython3",
   "version": "3.8.5"
  }
 },
 "nbformat": 4,
 "nbformat_minor": 5
}
