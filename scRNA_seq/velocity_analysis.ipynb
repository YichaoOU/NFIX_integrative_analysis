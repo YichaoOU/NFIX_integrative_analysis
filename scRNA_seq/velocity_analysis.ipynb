{
 "cells": [
  {
   "cell_type": "code",
   "execution_count": 15,
   "id": "1561cd73-9a88-42fa-b692-8d4f91d94c4f",
   "metadata": {
    "execution": {
     "iopub.execute_input": "2021-07-27T17:48:52.738053Z",
     "iopub.status.busy": "2021-07-27T17:48:52.737851Z",
     "iopub.status.idle": "2021-07-27T17:48:52.742806Z",
     "shell.execute_reply": "2021-07-27T17:48:52.742484Z",
     "shell.execute_reply.started": "2021-07-27T17:48:52.738035Z"
    },
    "tags": []
   },
   "outputs": [
    {
     "data": {
      "text/plain": [
       "['mWT/velocyto/mWT.loom', 'mNFIXko/velocyto/mNFIXko.loom']"
      ]
     },
     "execution_count": 15,
     "metadata": {},
     "output_type": "execute_result"
    }
   ],
   "source": [
    "import glob\n",
    "import velocyto as vcy\n",
    "from sklearn.manifold import TSNE\n",
    "import numpy as np\n",
    "\n",
    "loom_files = glob.glob(\"*/velocyto/*.loom\")\n",
    "loom_files"
   ]
  },
  {
   "cell_type": "code",
   "execution_count": 9,
   "id": "3792e3cd-5459-4ca7-b7b1-896e575fc92b",
   "metadata": {
    "execution": {
     "iopub.execute_input": "2021-07-27T17:45:33.033149Z",
     "iopub.status.busy": "2021-07-27T17:45:33.032945Z",
     "iopub.status.idle": "2021-07-27T17:45:38.267702Z",
     "shell.execute_reply": "2021-07-27T17:45:38.267133Z",
     "shell.execute_reply.started": "2021-07-27T17:45:33.033129Z"
    }
   },
   "outputs": [],
   "source": [
    "vlm = vcy.VelocytoLoom(loom_files[0])"
   ]
  },
  {
   "cell_type": "code",
   "execution_count": 10,
   "id": "8dff18f2-967b-4446-9287-914f38ac8b39",
   "metadata": {
    "execution": {
     "iopub.execute_input": "2021-07-27T17:46:06.951710Z",
     "iopub.status.busy": "2021-07-27T17:46:06.951444Z",
     "iopub.status.idle": "2021-07-27T17:46:08.736750Z",
     "shell.execute_reply": "2021-07-27T17:46:08.736370Z",
     "shell.execute_reply.started": "2021-07-27T17:46:06.951688Z"
    }
   },
   "outputs": [
    {
     "data": {
      "image/png": "[encoded data removed]",
      "text/plain": [
       "<Figure size 230.4x360 with 1 Axes>"
      ]
     },
     "metadata": {
      "needs_background": "light"
     },
     "output_type": "display_data"
    }
   ],
   "source": [
    "vlm.plot_fractions()"
   ]
  },
  {
   "cell_type": "code",
   "execution_count": 12,
   "id": "d84a8236-3704-4f03-9b84-63d9dd9bce50",
   "metadata": {
    "execution": {
     "iopub.execute_input": "2021-07-27T17:47:04.705556Z",
     "iopub.status.busy": "2021-07-27T17:47:04.705351Z",
     "iopub.status.idle": "2021-07-27T17:47:05.710423Z",
     "shell.execute_reply": "2021-07-27T17:47:05.709849Z",
     "shell.execute_reply.started": "2021-07-27T17:47:04.705539Z"
    },
    "tags": []
   },
   "outputs": [],
   "source": [
    "vlm.filter_cells(bool_array=vlm.initial_Ucell_size > np.percentile(vlm.initial_Ucell_size, 0.5))\n"
   ]
  },
  {
   "cell_type": "code",
   "execution_count": 16,
   "id": "48b4a0fe-98c5-4a3f-ac6e-559177a47ae8",
   "metadata": {
    "collapsed": true,
    "execution": {
     "iopub.execute_input": "2021-07-27T17:51:02.420126Z",
     "iopub.status.busy": "2021-07-27T17:51:02.419933Z",
     "iopub.status.idle": "2021-07-27T17:53:14.510086Z",
     "shell.execute_reply": "2021-07-27T17:53:14.509520Z",
     "shell.execute_reply.started": "2021-07-27T17:51:02.420109Z"
    },
    "jupyter": {
     "outputs_hidden": true
    },
    "tags": []
   },
   "outputs": [
    {
     "ename": "IndexError",
     "evalue": "index 0 is out of bounds for axis 0 with size 0",
     "output_type": "error",
     "traceback": [
      "\u001b[0;31m---------------------------------------------------------------------------\u001b[0m",
      "\u001b[0;31mIndexError\u001b[0m                                Traceback (most recent call last)",
      "\u001b[0;32m<ipython-input-16-7f92659d78cc>\u001b[0m in \u001b[0;36m<module>\u001b[0;34m\u001b[0m\n\u001b[1;32m     11\u001b[0m \u001b[0mvlm\u001b[0m\u001b[0;34m.\u001b[0m\u001b[0mknn_imputation\u001b[0m\u001b[0;34m(\u001b[0m\u001b[0mn_pca_dims\u001b[0m\u001b[0;34m=\u001b[0m\u001b[0;36m20\u001b[0m\u001b[0;34m,\u001b[0m \u001b[0mk\u001b[0m\u001b[0;34m=\u001b[0m\u001b[0;36m500\u001b[0m\u001b[0;34m,\u001b[0m \u001b[0mbalanced\u001b[0m\u001b[0;34m=\u001b[0m\u001b[0;32mTrue\u001b[0m\u001b[0;34m,\u001b[0m \u001b[0mb_sight\u001b[0m\u001b[0;34m=\u001b[0m\u001b[0;36m3000\u001b[0m\u001b[0;34m,\u001b[0m \u001b[0mb_maxl\u001b[0m\u001b[0;34m=\u001b[0m\u001b[0;36m1500\u001b[0m\u001b[0;34m,\u001b[0m \u001b[0mn_jobs\u001b[0m\u001b[0;34m=\u001b[0m\u001b[0;36m16\u001b[0m\u001b[0;34m)\u001b[0m\u001b[0;34m\u001b[0m\u001b[0;34m\u001b[0m\u001b[0m\n\u001b[1;32m     12\u001b[0m \u001b[0mvlm\u001b[0m\u001b[0;34m.\u001b[0m\u001b[0mfit_gammas\u001b[0m\u001b[0;34m(\u001b[0m\u001b[0;34m)\u001b[0m\u001b[0;34m\u001b[0m\u001b[0;34m\u001b[0m\u001b[0m\n\u001b[0;32m---> 13\u001b[0;31m \u001b[0mvlm\u001b[0m\u001b[0;34m.\u001b[0m\u001b[0mplot_phase_portraits\u001b[0m\u001b[0;34m(\u001b[0m\u001b[0;34m[\u001b[0m\u001b[0;34m\"Igfbpl1\"\u001b[0m\u001b[0;34m,\u001b[0m \u001b[0;34m\"Pdgfra\"\u001b[0m\u001b[0;34m]\u001b[0m\u001b[0;34m)\u001b[0m\u001b[0;34m\u001b[0m\u001b[0;34m\u001b[0m\u001b[0m\n\u001b[0m\u001b[1;32m     14\u001b[0m \u001b[0mvlm\u001b[0m\u001b[0;34m.\u001b[0m\u001b[0mpredict_U\u001b[0m\u001b[0;34m(\u001b[0m\u001b[0;34m)\u001b[0m\u001b[0;34m\u001b[0m\u001b[0;34m\u001b[0m\u001b[0m\n\u001b[1;32m     15\u001b[0m \u001b[0mvlm\u001b[0m\u001b[0;34m.\u001b[0m\u001b[0mcalculate_velocity\u001b[0m\u001b[0;34m(\u001b[0m\u001b[0;34m)\u001b[0m\u001b[0;34m\u001b[0m\u001b[0;34m\u001b[0m\u001b[0m\n",
      "\u001b[0;32m~/.conda/envs/captureC/lib/python3.8/site-packages/velocyto/analysis.py\u001b[0m in \u001b[0;36mplot_phase_portraits\u001b[0;34m(self, genes)\u001b[0m\n\u001b[1;32m   1994\u001b[0m         \u001b[0mgs\u001b[0m \u001b[0;34m=\u001b[0m \u001b[0mplt\u001b[0m\u001b[0;34m.\u001b[0m\u001b[0mGridSpec\u001b[0m\u001b[0;34m(\u001b[0m\u001b[0msqrtn\u001b[0m\u001b[0;34m,\u001b[0m \u001b[0mint\u001b[0m\u001b[0;34m(\u001b[0m\u001b[0mnp\u001b[0m\u001b[0;34m.\u001b[0m\u001b[0mceil\u001b[0m\u001b[0;34m(\u001b[0m\u001b[0mn\u001b[0m \u001b[0;34m/\u001b[0m \u001b[0msqrtn\u001b[0m\u001b[0;34m)\u001b[0m\u001b[0;34m)\u001b[0m\u001b[0;34m)\u001b[0m\u001b[0;34m\u001b[0m\u001b[0;34m\u001b[0m\u001b[0m\n\u001b[1;32m   1995\u001b[0m         \u001b[0;32mfor\u001b[0m \u001b[0mi\u001b[0m\u001b[0;34m,\u001b[0m \u001b[0mgn\u001b[0m \u001b[0;32min\u001b[0m \u001b[0menumerate\u001b[0m\u001b[0;34m(\u001b[0m\u001b[0mgenes\u001b[0m\u001b[0;34m)\u001b[0m\u001b[0;34m:\u001b[0m\u001b[0;34m\u001b[0m\u001b[0;34m\u001b[0m\u001b[0m\n\u001b[0;32m-> 1996\u001b[0;31m             \u001b[0mself\u001b[0m\u001b[0;34m.\u001b[0m\u001b[0m_plot_phase_portrait\u001b[0m\u001b[0;34m(\u001b[0m\u001b[0mgn\u001b[0m\u001b[0;34m,\u001b[0m \u001b[0mgs\u001b[0m\u001b[0;34m[\u001b[0m\u001b[0mi\u001b[0m\u001b[0;34m]\u001b[0m\u001b[0;34m)\u001b[0m\u001b[0;34m\u001b[0m\u001b[0;34m\u001b[0m\u001b[0m\n\u001b[0m\u001b[1;32m   1997\u001b[0m \u001b[0;34m\u001b[0m\u001b[0m\n\u001b[1;32m   1998\u001b[0m     def plot_grid_arrows(self, quiver_scale: Union[str, float]=\"auto\", scale_type: str= \"relative\", min_mass: float=1, min_magnitude: float=None,\n",
      "\u001b[0;32m~/.conda/envs/captureC/lib/python3.8/site-packages/velocyto/analysis.py\u001b[0m in \u001b[0;36m_plot_phase_portrait\u001b[0;34m(self, gene, gs_i)\u001b[0m\n\u001b[1;32m   1976\u001b[0m         \u001b[0;32melse\u001b[0m\u001b[0;34m:\u001b[0m\u001b[0;34m\u001b[0m\u001b[0;34m\u001b[0m\u001b[0m\n\u001b[1;32m   1977\u001b[0m             \u001b[0mplt\u001b[0m\u001b[0;34m.\u001b[0m\u001b[0msubplot\u001b[0m\u001b[0;34m(\u001b[0m\u001b[0mgs_i\u001b[0m\u001b[0;34m)\u001b[0m\u001b[0;34m\u001b[0m\u001b[0;34m\u001b[0m\u001b[0m\n\u001b[0;32m-> 1978\u001b[0;31m         \u001b[0mix\u001b[0m \u001b[0;34m=\u001b[0m \u001b[0mnp\u001b[0m\u001b[0;34m.\u001b[0m\u001b[0mwhere\u001b[0m\u001b[0;34m(\u001b[0m\u001b[0mself\u001b[0m\u001b[0;34m.\u001b[0m\u001b[0mra\u001b[0m\u001b[0;34m[\u001b[0m\u001b[0;34m\"Gene\"\u001b[0m\u001b[0;34m]\u001b[0m \u001b[0;34m==\u001b[0m \u001b[0mgene\u001b[0m\u001b[0;34m)\u001b[0m\u001b[0;34m[\u001b[0m\u001b[0;36m0\u001b[0m\u001b[0;34m]\u001b[0m\u001b[0;34m[\u001b[0m\u001b[0;36m0\u001b[0m\u001b[0;34m]\u001b[0m\u001b[0;34m\u001b[0m\u001b[0;34m\u001b[0m\u001b[0m\n\u001b[0m\u001b[1;32m   1979\u001b[0m         \u001b[0mscatter_viz\u001b[0m\u001b[0;34m(\u001b[0m\u001b[0mself\u001b[0m\u001b[0;34m.\u001b[0m\u001b[0mSx_sz\u001b[0m\u001b[0;34m[\u001b[0m\u001b[0mix\u001b[0m\u001b[0;34m,\u001b[0m \u001b[0;34m:\u001b[0m\u001b[0;34m]\u001b[0m\u001b[0;34m,\u001b[0m \u001b[0mself\u001b[0m\u001b[0;34m.\u001b[0m\u001b[0mUx_sz\u001b[0m\u001b[0;34m[\u001b[0m\u001b[0mix\u001b[0m\u001b[0;34m,\u001b[0m \u001b[0;34m:\u001b[0m\u001b[0;34m]\u001b[0m\u001b[0;34m,\u001b[0m \u001b[0mc\u001b[0m\u001b[0;34m=\u001b[0m\u001b[0mself\u001b[0m\u001b[0;34m.\u001b[0m\u001b[0mcolorandum\u001b[0m\u001b[0;34m,\u001b[0m \u001b[0ms\u001b[0m\u001b[0;34m=\u001b[0m\u001b[0;36m5\u001b[0m\u001b[0;34m,\u001b[0m \u001b[0malpha\u001b[0m\u001b[0;34m=\u001b[0m\u001b[0;36m0.4\u001b[0m\u001b[0;34m)\u001b[0m\u001b[0;34m\u001b[0m\u001b[0;34m\u001b[0m\u001b[0m\n\u001b[1;32m   1980\u001b[0m         \u001b[0mplt\u001b[0m\u001b[0;34m.\u001b[0m\u001b[0mtitle\u001b[0m\u001b[0;34m(\u001b[0m\u001b[0mgene\u001b[0m\u001b[0;34m)\u001b[0m\u001b[0;34m\u001b[0m\u001b[0;34m\u001b[0m\u001b[0m\n",
      "\u001b[0;31mIndexError\u001b[0m: index 0 is out of bounds for axis 0 with size 0"
     ]
    },
    {
     "data": {
      "image/png": "[encoded data removed]",
      "text/plain": [
       "<Figure size 432x288 with 1 Axes>"
      ]
     },
     "metadata": {
      "needs_background": "light"
     },
     "output_type": "display_data"
    }
   ],
   "source": [
    "vlm.set_clusters(vlm.ca[\"Clusters\"])\n",
    "vlm.score_detection_levels(min_expr_counts=40, min_cells_express=30)\n",
    "vlm.filter_genes(by_detection_levels=True)\n",
    "vlm.score_cv_vs_mean(3000, plot=True, max_expr_avg=35)\n",
    "vlm.filter_genes(by_cv_vs_mean=True)\n",
    "vlm._normalize_S(relative_size=vlm.S.sum(0),\n",
    "             target_size=vlm.S.sum(0).mean())\n",
    "vlm._normalize_U(relative_size=vlm.U.sum(0),\n",
    "             target_size=vlm.U.sum(0).mean())\n",
    "vlm.perform_PCA()\n",
    "vlm.knn_imputation(n_pca_dims=20, k=500, balanced=True, b_sight=3000, b_maxl=1500, n_jobs=16)\n",
    "vlm.fit_gammas()\n",
    "vlm.plot_phase_portraits([\"Igfbpl1\", \"Pdgfra\"])\n",
    "vlm.predict_U()\n",
    "vlm.calculate_velocity()\n",
    "vlm.calculate_shift(assumption=\"constant_velocity\")\n",
    "vlm.extrapolate_cell_at_t(delta_t=1.)\n",
    "vlm.calculate_shift(assumption=\"constant_unspliced\", delta_t=10)\n",
    "vlm.extrapolate_cell_at_t(delta_t=1.)\n"
   ]
  },
  {
   "cell_type": "code",
   "execution_count": 28,
   "id": "28bd690e-904f-4604-8597-4c553ac3321e",
   "metadata": {
    "execution": {
     "iopub.execute_input": "2021-07-27T19:15:39.341872Z",
     "iopub.status.busy": "2021-07-27T19:15:39.341648Z",
     "iopub.status.idle": "2021-07-27T19:15:39.420903Z",
     "shell.execute_reply": "2021-07-27T19:15:39.420379Z",
     "shell.execute_reply.started": "2021-07-27T19:15:39.341855Z"
    },
    "tags": []
   },
   "outputs": [
    {
     "ename": "IndexError",
     "evalue": "index 0 is out of bounds for axis 0 with size 0",
     "output_type": "error",
     "traceback": [
      "\u001b[0;31m---------------------------------------------------------------------------\u001b[0m",
      "\u001b[0;31mIndexError\u001b[0m                                Traceback (most recent call last)",
      "\u001b[0;32m<ipython-input-28-7cfd58e29477>\u001b[0m in \u001b[0;36m<module>\u001b[0;34m\u001b[0m\n\u001b[0;32m----> 1\u001b[0;31m \u001b[0mvlm\u001b[0m\u001b[0;34m.\u001b[0m\u001b[0mplot_phase_portraits\u001b[0m\u001b[0;34m(\u001b[0m\u001b[0;34m[\u001b[0m\u001b[0;34m\"ENSMUST00000148644\"\u001b[0m\u001b[0;34m]\u001b[0m\u001b[0;34m)\u001b[0m\u001b[0;34m\u001b[0m\u001b[0;34m\u001b[0m\u001b[0m\n\u001b[0m",
      "\u001b[0;32m~/.conda/envs/captureC/lib/python3.8/site-packages/velocyto/analysis.py\u001b[0m in \u001b[0;36mplot_phase_portraits\u001b[0;34m(self, genes)\u001b[0m\n\u001b[1;32m   1994\u001b[0m         \u001b[0mgs\u001b[0m \u001b[0;34m=\u001b[0m \u001b[0mplt\u001b[0m\u001b[0;34m.\u001b[0m\u001b[0mGridSpec\u001b[0m\u001b[0;34m(\u001b[0m\u001b[0msqrtn\u001b[0m\u001b[0;34m,\u001b[0m \u001b[0mint\u001b[0m\u001b[0;34m(\u001b[0m\u001b[0mnp\u001b[0m\u001b[0;34m.\u001b[0m\u001b[0mceil\u001b[0m\u001b[0;34m(\u001b[0m\u001b[0mn\u001b[0m \u001b[0;34m/\u001b[0m \u001b[0msqrtn\u001b[0m\u001b[0;34m)\u001b[0m\u001b[0;34m)\u001b[0m\u001b[0;34m)\u001b[0m\u001b[0;34m\u001b[0m\u001b[0;34m\u001b[0m\u001b[0m\n\u001b[1;32m   1995\u001b[0m         \u001b[0;32mfor\u001b[0m \u001b[0mi\u001b[0m\u001b[0;34m,\u001b[0m \u001b[0mgn\u001b[0m \u001b[0;32min\u001b[0m \u001b[0menumerate\u001b[0m\u001b[0;34m(\u001b[0m\u001b[0mgenes\u001b[0m\u001b[0;34m)\u001b[0m\u001b[0;34m:\u001b[0m\u001b[0;34m\u001b[0m\u001b[0;34m\u001b[0m\u001b[0m\n\u001b[0;32m-> 1996\u001b[0;31m             \u001b[0mself\u001b[0m\u001b[0;34m.\u001b[0m\u001b[0m_plot_phase_portrait\u001b[0m\u001b[0;34m(\u001b[0m\u001b[0mgn\u001b[0m\u001b[0;34m,\u001b[0m \u001b[0mgs\u001b[0m\u001b[0;34m[\u001b[0m\u001b[0mi\u001b[0m\u001b[0;34m]\u001b[0m\u001b[0;34m)\u001b[0m\u001b[0;34m\u001b[0m\u001b[0;34m\u001b[0m\u001b[0m\n\u001b[0m\u001b[1;32m   1997\u001b[0m \u001b[0;34m\u001b[0m\u001b[0m\n\u001b[1;32m   1998\u001b[0m     def plot_grid_arrows(self, quiver_scale: Union[str, float]=\"auto\", scale_type: str= \"relative\", min_mass: float=1, min_magnitude: float=None,\n",
      "\u001b[0;32m~/.conda/envs/captureC/lib/python3.8/site-packages/velocyto/analysis.py\u001b[0m in \u001b[0;36m_plot_phase_portrait\u001b[0;34m(self, gene, gs_i)\u001b[0m\n\u001b[1;32m   1976\u001b[0m         \u001b[0;32melse\u001b[0m\u001b[0;34m:\u001b[0m\u001b[0;34m\u001b[0m\u001b[0;34m\u001b[0m\u001b[0m\n\u001b[1;32m   1977\u001b[0m             \u001b[0mplt\u001b[0m\u001b[0;34m.\u001b[0m\u001b[0msubplot\u001b[0m\u001b[0;34m(\u001b[0m\u001b[0mgs_i\u001b[0m\u001b[0;34m)\u001b[0m\u001b[0;34m\u001b[0m\u001b[0;34m\u001b[0m\u001b[0m\n\u001b[0;32m-> 1978\u001b[0;31m         \u001b[0mix\u001b[0m \u001b[0;34m=\u001b[0m \u001b[0mnp\u001b[0m\u001b[0;34m.\u001b[0m\u001b[0mwhere\u001b[0m\u001b[0;34m(\u001b[0m\u001b[0mself\u001b[0m\u001b[0;34m.\u001b[0m\u001b[0mra\u001b[0m\u001b[0;34m[\u001b[0m\u001b[0;34m\"Gene\"\u001b[0m\u001b[0;34m]\u001b[0m \u001b[0;34m==\u001b[0m \u001b[0mgene\u001b[0m\u001b[0;34m)\u001b[0m\u001b[0;34m[\u001b[0m\u001b[0;36m0\u001b[0m\u001b[0;34m]\u001b[0m\u001b[0;34m[\u001b[0m\u001b[0;36m0\u001b[0m\u001b[0;34m]\u001b[0m\u001b[0;34m\u001b[0m\u001b[0;34m\u001b[0m\u001b[0m\n\u001b[0m\u001b[1;32m   1979\u001b[0m         \u001b[0mscatter_viz\u001b[0m\u001b[0;34m(\u001b[0m\u001b[0mself\u001b[0m\u001b[0;34m.\u001b[0m\u001b[0mSx_sz\u001b[0m\u001b[0;34m[\u001b[0m\u001b[0mix\u001b[0m\u001b[0;34m,\u001b[0m \u001b[0;34m:\u001b[0m\u001b[0;34m]\u001b[0m\u001b[0;34m,\u001b[0m \u001b[0mself\u001b[0m\u001b[0;34m.\u001b[0m\u001b[0mUx_sz\u001b[0m\u001b[0;34m[\u001b[0m\u001b[0mix\u001b[0m\u001b[0;34m,\u001b[0m \u001b[0;34m:\u001b[0m\u001b[0;34m]\u001b[0m\u001b[0;34m,\u001b[0m \u001b[0mc\u001b[0m\u001b[0;34m=\u001b[0m\u001b[0mself\u001b[0m\u001b[0;34m.\u001b[0m\u001b[0mcolorandum\u001b[0m\u001b[0;34m,\u001b[0m \u001b[0ms\u001b[0m\u001b[0;34m=\u001b[0m\u001b[0;36m5\u001b[0m\u001b[0;34m,\u001b[0m \u001b[0malpha\u001b[0m\u001b[0;34m=\u001b[0m\u001b[0;36m0.4\u001b[0m\u001b[0;34m)\u001b[0m\u001b[0;34m\u001b[0m\u001b[0;34m\u001b[0m\u001b[0m\n\u001b[1;32m   1980\u001b[0m         \u001b[0mplt\u001b[0m\u001b[0;34m.\u001b[0m\u001b[0mtitle\u001b[0m\u001b[0;34m(\u001b[0m\u001b[0mgene\u001b[0m\u001b[0;34m)\u001b[0m\u001b[0;34m\u001b[0m\u001b[0;34m\u001b[0m\u001b[0m\n",
      "\u001b[0;31mIndexError\u001b[0m: index 0 is out of bounds for axis 0 with size 0"
     ]
    },
    {
     "data": {
      "image/png": "[encoded data removed]",
      "text/plain": [
       "<Figure size 432x288 with 1 Axes>"
      ]
     },
     "metadata": {
      "needs_background": "light"
     },
     "output_type": "display_data"
    }
   ],
   "source": [
    "vlm.plot_phase_portraits([\"ENSMUST00000148644\"])"
   ]
  },
  {
   "cell_type": "code",
   "execution_count": 24,
   "id": "79df3793-112c-4939-9273-881d8f63f40e",
   "metadata": {
    "execution": {
     "iopub.execute_input": "2021-07-27T19:13:20.653826Z",
     "iopub.status.busy": "2021-07-27T19:13:20.653627Z",
     "iopub.status.idle": "2021-07-27T19:13:20.659803Z",
     "shell.execute_reply": "2021-07-27T19:13:20.659323Z",
     "shell.execute_reply.started": "2021-07-27T19:13:20.653809Z"
    },
    "tags": []
   },
   "outputs": [
    {
     "ename": "AttributeError",
     "evalue": "'VelocytoLoom' object has no attribute 'gene_info'",
     "output_type": "error",
     "traceback": [
      "\u001b[0;31m---------------------------------------------------------------------------\u001b[0m",
      "\u001b[0;31mAttributeError\u001b[0m                            Traceback (most recent call last)",
      "\u001b[0;32m<ipython-input-24-45d339a89bfd>\u001b[0m in \u001b[0;36m<module>\u001b[0;34m\u001b[0m\n\u001b[0;32m----> 1\u001b[0;31m \u001b[0mvlm\u001b[0m\u001b[0;34m.\u001b[0m\u001b[0mgene_info\u001b[0m\u001b[0;34m(\u001b[0m\u001b[0;34m)\u001b[0m\u001b[0;34m\u001b[0m\u001b[0;34m\u001b[0m\u001b[0m\n\u001b[0m",
      "\u001b[0;31mAttributeError\u001b[0m: 'VelocytoLoom' object has no attribute 'gene_info'"
     ]
    }
   ],
   "source": [
    "vlm.gene_info()"
   ]
  }
 ],
 "metadata": {
  "kernelspec": {
   "display_name": "Python 3",
   "language": "python",
   "name": "python3"
  },
  "language_info": {
   "codemirror_mode": {
    "name": "ipython",
    "version": 3
   },
   "file_extension": ".py",
   "mimetype": "text/x-python",
   "name": "python",
   "nbconvert_exporter": "python",
   "pygments_lexer": "ipython3",
   "version": "3.8.5"
  }
 },
 "nbformat": 4,
 "nbformat_minor": 5
}
