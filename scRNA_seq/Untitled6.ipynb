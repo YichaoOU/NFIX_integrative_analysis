{
 "cells": [
  {
   "cell_type": "code",
   "execution_count": 1,
   "id": "845ef33f-a99e-44ea-9c4f-34de040ed8bb",
   "metadata": {
    "execution": {
     "iopub.execute_input": "2021-08-20T20:14:22.793593Z",
     "iopub.status.busy": "2021-08-20T20:14:22.793280Z",
     "iopub.status.idle": "2021-08-20T20:14:22.800058Z",
     "shell.execute_reply": "2021-08-20T20:14:22.799670Z",
     "shell.execute_reply.started": "2021-08-20T20:14:22.793526Z"
    }
   },
   "outputs": [],
   "source": [
    "def _asd(my_list_function,a,b):\n",
    "    print (a+b)"
   ]
  },
  {
   "cell_type": "code",
   "execution_count": 3,
   "id": "a3178bbc-b61d-4f71-91ef-f6748b74c4a7",
   "metadata": {
    "execution": {
     "iopub.execute_input": "2021-08-20T20:14:30.663306Z",
     "iopub.status.busy": "2021-08-20T20:14:30.663030Z",
     "iopub.status.idle": "2021-08-20T20:14:30.668481Z",
     "shell.execute_reply": "2021-08-20T20:14:30.667928Z",
     "shell.execute_reply.started": "2021-08-20T20:14:30.663285Z"
    },
    "tags": []
   },
   "outputs": [
    {
     "ename": "TypeError",
     "evalue": "_asd() missing 1 required positional argument: 'b'",
     "output_type": "error",
     "traceback": [
      "\u001b[0;31m---------------------------------------------------------------------------\u001b[0m",
      "\u001b[0;31mTypeError\u001b[0m                                 Traceback (most recent call last)",
      "\u001b[0;32m<ipython-input-3-6b39d69581dd>\u001b[0m in \u001b[0;36m<module>\u001b[0;34m\u001b[0m\n\u001b[0;32m----> 1\u001b[0;31m \u001b[0m_asd\u001b[0m\u001b[0;34m(\u001b[0m\u001b[0;36m1\u001b[0m\u001b[0;34m,\u001b[0m\u001b[0;36m2\u001b[0m\u001b[0;34m)\u001b[0m\u001b[0;34m\u001b[0m\u001b[0;34m\u001b[0m\u001b[0m\n\u001b[0m",
      "\u001b[0;31mTypeError\u001b[0m: _asd() missing 1 required positional argument: 'b'"
     ]
    }
   ],
   "source": [
    "_asd(1,2)"
   ]
  }
 ],
 "metadata": {
  "kernelspec": {
   "display_name": "Python 3",
   "language": "python",
   "name": "python3"
  },
  "language_info": {
   "codemirror_mode": {
    "name": "ipython",
    "version": 3
   },
   "file_extension": ".py",
   "mimetype": "text/x-python",
   "name": "python",
   "nbconvert_exporter": "python",
   "pygments_lexer": "ipython3",
   "version": "3.8.5"
  }
 },
 "nbformat": 4,
 "nbformat_minor": 5
}
