{
 "cells": [
  {
   "cell_type": "code",
   "execution_count": 1,
   "id": "6f130f4f-0187-4bd3-8ebb-c58b75dcf7dd",
   "metadata": {
    "execution": {
     "iopub.execute_input": "2021-09-21T22:03:05.869821Z",
     "iopub.status.busy": "2021-09-21T22:03:05.867685Z",
     "iopub.status.idle": "2021-09-21T22:03:59.904615Z",
     "shell.execute_reply": "2021-09-21T22:03:59.903091Z"
    }
   },
   "outputs": [
    {
     "name": "stderr",
     "output_type": "stream",
     "text": [
      "Attaching SeuratObject\n",
      "\n",
      "\n",
      "Attaching package: ‘dplyr’\n",
      "\n",
      "\n",
      "The following objects are masked from ‘package:stats’:\n",
      "\n",
      "    filter, lag\n",
      "\n",
      "\n",
      "The following objects are masked from ‘package:base’:\n",
      "\n",
      "    intersect, setdiff, setequal, union\n",
      "\n",
      "\n",
      "\n",
      "Attaching package: ‘glue’\n",
      "\n",
      "\n",
      "The following object is masked from ‘package:dplyr’:\n",
      "\n",
      "    collapse\n",
      "\n",
      "\n",
      "\n",
      "Attaching package: ‘cowplot’\n",
      "\n",
      "\n",
      "The following object is masked from ‘package:patchwork’:\n",
      "\n",
      "    align_plots\n",
      "\n",
      "\n",
      "Loading required package: Matrix\n",
      "\n",
      "\n",
      "Attaching package: ‘Matrix’\n",
      "\n",
      "\n",
      "The following objects are masked from ‘package:tidyr’:\n",
      "\n",
      "    expand, pack, unpack\n",
      "\n",
      "\n"
     ]
    }
   ],
   "source": [
    "library(Seurat)\n",
    "\n",
    "library(dplyr)\n",
    "library(glue)\n",
    "library(ggplot2)\n",
    "library(patchwork)\n",
    "library(cowplot)\n",
    "library(stringr)\n",
    "library(tidyr)\n",
    "library(\"dplyr\")\n",
    "library(velocyto.R)\n",
    "library(stringr)\n",
    "library(SeuratWrappers)\n",
    "library(DAseq)\n",
    "load(\"6_18.RData\")\n"
   ]
  },
  {
   "cell_type": "code",
   "execution_count": null,
   "id": "bad48245-e9b2-4e84-8b31-c121849466ff",
   "metadata": {},
   "outputs": [],
   "source": []
  }
 ],
 "metadata": {
  "kernelspec": {
   "display_name": "R",
   "language": "R",
   "name": "ir"
  },
  "language_info": {
   "codemirror_mode": "r",
   "file_extension": ".r",
   "mimetype": "text/x-r-source",
   "name": "R",
   "pygments_lexer": "r",
   "version": "4.0.5"
  }
 },
 "nbformat": 4,
 "nbformat_minor": 5
}
