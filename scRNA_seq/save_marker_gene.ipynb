{
 "cells": [
  {
   "cell_type": "code",
   "execution_count": 1,
   "id": "7abeafdd-e59f-4511-9103-0d20420e810f",
   "metadata": {
    "collapsed": true,
    "execution": {
     "iopub.execute_input": "2021-08-31T19:11:50.448733Z",
     "iopub.status.busy": "2021-08-31T19:11:50.446429Z",
     "iopub.status.idle": "2021-08-31T19:12:45.780218Z",
     "shell.execute_reply": "2021-08-31T19:12:45.778462Z"
    },
    "jupyter": {
     "outputs_hidden": true
    },
    "tags": []
   },
   "outputs": [
    {
     "name": "stderr",
     "output_type": "stream",
     "text": [
      "Attaching SeuratObject\n",
      "\n",
      "\n",
      "Attaching package: 'dplyr'\n",
      "\n",
      "\n",
      "The following objects are masked from 'package:stats':\n",
      "\n",
      "    filter, lag\n",
      "\n",
      "\n",
      "The following objects are masked from 'package:base':\n",
      "\n",
      "    intersect, setdiff, setequal, union\n",
      "\n",
      "\n",
      "\n",
      "Attaching package: 'glue'\n",
      "\n",
      "\n",
      "The following object is masked from 'package:dplyr':\n",
      "\n",
      "    collapse\n",
      "\n",
      "\n",
      "\n",
      "Attaching package: 'cowplot'\n",
      "\n",
      "\n",
      "The following object is masked from 'package:patchwork':\n",
      "\n",
      "    align_plots\n",
      "\n",
      "\n",
      "Loading required package: Matrix\n",
      "\n",
      "\n",
      "Attaching package: 'Matrix'\n",
      "\n",
      "\n",
      "The following objects are masked from 'package:tidyr':\n",
      "\n",
      "    expand, pack, unpack\n",
      "\n",
      "\n"
     ]
    }
   ],
   "source": [
    "library(Seurat)\n",
    "\n",
    "library(dplyr)\n",
    "library(glue)\n",
    "library(ggplot2)\n",
    "library(patchwork)\n",
    "library(cowplot)\n",
    "library(stringr)\n",
    "library(tidyr)\n",
    "library(\"dplyr\")\n",
    "library(velocyto.R)\n",
    "library(stringr)\n",
    "library(SeuratWrappers)\n",
    "library(DAseq)\n",
    "load(\"6_18.RData\")\n"
   ]
  },
  {
   "cell_type": "code",
   "execution_count": 2,
   "id": "689bc55f-3b93-4864-bf1e-c3287fa7ab30",
   "metadata": {
    "execution": {
     "iopub.execute_input": "2021-08-31T19:12:45.806682Z",
     "iopub.status.busy": "2021-08-31T19:12:45.782079Z",
     "iopub.status.idle": "2021-08-31T19:12:51.873315Z",
     "shell.execute_reply": "2021-08-31T19:12:51.871988Z"
    },
    "tags": []
   },
   "outputs": [
    {
     "name": "stderr",
     "output_type": "stream",
     "text": [
      "\n",
      "Attaching package: 'clustifyrdata'\n",
      "\n",
      "\n",
      "The following objects are masked from 'package:clustifyr':\n",
      "\n",
      "    downrefs, s_small, s_small3\n",
      "\n",
      "\n"
     ]
    }
   ],
   "source": [
    "library(clustifyr)\n",
    "library(clustifyrdata)\n",
    "\n",
    "library(dplyr)\n",
    "library(tibble)"
   ]
  },
  {
   "cell_type": "code",
   "execution_count": 3,
   "id": "cf9559d2-5f5e-43da-9e62-770bd544d3ea",
   "metadata": {
    "execution": {
     "iopub.execute_input": "2021-08-31T20:02:38.104866Z",
     "iopub.status.busy": "2021-08-31T20:02:38.103312Z",
     "iopub.status.idle": "2021-08-31T20:23:29.620653Z",
     "shell.execute_reply": "2021-08-31T20:23:29.619025Z"
    }
   },
   "outputs": [
    {
     "name": "stderr",
     "output_type": "stream",
     "text": [
      "Calculating cluster 0\n",
      "\n",
      "Calculating cluster 1\n",
      "\n",
      "Calculating cluster 2\n",
      "\n",
      "Calculating cluster 3\n",
      "\n",
      "Calculating cluster 4\n",
      "\n",
      "Calculating cluster 5\n",
      "\n",
      "Calculating cluster 6\n",
      "\n",
      "Calculating cluster 7\n",
      "\n",
      "Calculating cluster 8\n",
      "\n",
      "Calculating cluster 9\n",
      "\n",
      "Calculating cluster 10\n",
      "\n",
      "Calculating cluster 11\n",
      "\n",
      "Calculating cluster 12\n",
      "\n",
      "Calculating cluster 13\n",
      "\n",
      "Calculating cluster 14\n",
      "\n",
      "Calculating cluster 15\n",
      "\n",
      "Calculating cluster 16\n",
      "\n"
     ]
    }
   ],
   "source": [
    "markers <- FindAllMarkers(merged_obj, min.pct = 0.2, logfc.threshold = 0.25)\n"
   ]
  },
  {
   "cell_type": "code",
   "execution_count": 4,
   "id": "cb7f49c6-335b-4e4c-9a26-f3af5634fde1",
   "metadata": {
    "execution": {
     "iopub.execute_input": "2021-08-31T20:23:29.623346Z",
     "iopub.status.busy": "2021-08-31T20:23:29.622405Z",
     "iopub.status.idle": "2021-08-31T20:23:29.714775Z",
     "shell.execute_reply": "2021-08-31T20:23:29.713405Z"
    }
   },
   "outputs": [],
   "source": [
    "top1000 = markers %>%\n",
    "    group_by(cluster) %>%\n",
    "    top_n(n = 1000, wt = avg_log2FC)"
   ]
  },
  {
   "cell_type": "code",
   "execution_count": 5,
   "id": "bfa51bce-0b70-4809-99e8-2745e185ddcd",
   "metadata": {
    "execution": {
     "iopub.execute_input": "2021-08-31T20:23:29.717429Z",
     "iopub.status.busy": "2021-08-31T20:23:29.716428Z",
     "iopub.status.idle": "2021-08-31T20:23:29.725294Z",
     "shell.execute_reply": "2021-08-31T20:23:29.724200Z"
    }
   },
   "outputs": [],
   "source": [
    "target_genes=c('Ckap4','Fam49a','Epha1','Meis1','Coro2a','Pafah1b3','Il10ra','Socs3','Ahnak','Slc16a3','Atp8b2','Ccl5','Cd22', 'Mag','6530418L21Rik','Bach2','Dapk1','Pdcd1','Dab2','Gpr132','Slc2a3','Trac','Serpinf1','A930004D18Rik','Cd28','Lrrc16a','Ceacam19', 'Pvrl2','Coro2a','1500009L16Rik','Ak1','Tspan17','Nenf','Vldlr','Ak1','Slc14a1','Gcnt2','Pdzk1ip1','Cd74','Ahnak','AI607873','Pkd1l2','Tgm2','Grap2','Dse','Pafah1b3','Dbn1','Dbn1','Hmga2','Bach2','Mpz')"
   ]
  },
  {
   "cell_type": "code",
   "execution_count": 6,
   "id": "a52a2284-2f55-45b3-974d-c5622638afde",
   "metadata": {
    "collapsed": true,
    "execution": {
     "iopub.execute_input": "2021-08-31T20:26:57.809425Z",
     "iopub.status.busy": "2021-08-31T20:26:57.808291Z",
     "iopub.status.idle": "2021-08-31T20:26:57.884935Z",
     "shell.execute_reply": "2021-08-31T20:26:57.883724Z"
    },
    "jupyter": {
     "outputs_hidden": true
    },
    "tags": []
   },
   "outputs": [
    {
     "data": {
      "text/html": [
       "<table class=\"dataframe\">\n",
       "<caption>A grouped_df: 14214 × 7</caption>\n",
       "<thead>\n",
       "\t<tr><th scope=col>p_val</th><th scope=col>avg_log2FC</th><th scope=col>pct.1</th><th scope=col>pct.2</th><th scope=col>p_val_adj</th><th scope=col>cluster</th><th scope=col>gene</th></tr>\n",
       "\t<tr><th scope=col>&lt;dbl&gt;</th><th scope=col>&lt;dbl&gt;</th><th scope=col>&lt;dbl&gt;</th><th scope=col>&lt;dbl&gt;</th><th scope=col>&lt;dbl&gt;</th><th scope=col>&lt;fct&gt;</th><th scope=col>&lt;chr&gt;</th></tr>\n",
       "</thead>\n",
       "<tbody>\n",
       "\t<tr><td>0</td><td>2.576598</td><td>0.987</td><td>0.295</td><td>0</td><td>0</td><td>Car1    </td></tr>\n",
       "\t<tr><td>0</td><td>2.363234</td><td>0.994</td><td>0.437</td><td>0</td><td>0</td><td>Blvrb   </td></tr>\n",
       "\t<tr><td>0</td><td>2.332729</td><td>0.984</td><td>0.339</td><td>0</td><td>0</td><td>C1qtnf12</td></tr>\n",
       "\t<tr><td>0</td><td>1.894340</td><td>0.989</td><td>0.137</td><td>0</td><td>0</td><td>Ermap   </td></tr>\n",
       "\t<tr><td>0</td><td>1.877886</td><td>0.998</td><td>0.910</td><td>0</td><td>0</td><td>Prdx2   </td></tr>\n",
       "\t<tr><td>0</td><td>1.798242</td><td>0.999</td><td>0.817</td><td>0</td><td>0</td><td>Car2    </td></tr>\n",
       "\t<tr><td>0</td><td>1.703454</td><td>0.423</td><td>0.049</td><td>0</td><td>0</td><td>Hbb-bs  </td></tr>\n",
       "\t<tr><td>0</td><td>1.644969</td><td>0.988</td><td>0.438</td><td>0</td><td>0</td><td>Mt1     </td></tr>\n",
       "\t<tr><td>0</td><td>1.597067</td><td>0.979</td><td>0.307</td><td>0</td><td>0</td><td>Cpox    </td></tr>\n",
       "\t<tr><td>0</td><td>1.594549</td><td>0.994</td><td>0.634</td><td>0</td><td>0</td><td>Glrx5   </td></tr>\n",
       "\t<tr><td>0</td><td>1.576871</td><td>0.956</td><td>0.125</td><td>0</td><td>0</td><td>Mt2     </td></tr>\n",
       "\t<tr><td>0</td><td>1.563651</td><td>0.988</td><td>0.370</td><td>0</td><td>0</td><td>Mns1    </td></tr>\n",
       "\t<tr><td>0</td><td>1.502123</td><td>0.913</td><td>0.082</td><td>0</td><td>0</td><td>Rhd     </td></tr>\n",
       "\t<tr><td>0</td><td>1.485785</td><td>0.990</td><td>0.732</td><td>0</td><td>0</td><td>Tmem14c </td></tr>\n",
       "\t<tr><td>0</td><td>1.455999</td><td>0.873</td><td>0.062</td><td>0</td><td>0</td><td>Cldn13  </td></tr>\n",
       "\t<tr><td>0</td><td>1.440341</td><td>0.983</td><td>0.477</td><td>0</td><td>0</td><td>Alad    </td></tr>\n",
       "\t<tr><td>0</td><td>1.433717</td><td>0.973</td><td>0.390</td><td>0</td><td>0</td><td>Hmbs    </td></tr>\n",
       "\t<tr><td>0</td><td>1.421688</td><td>0.972</td><td>0.165</td><td>0</td><td>0</td><td>Klf1    </td></tr>\n",
       "\t<tr><td>0</td><td>1.339221</td><td>0.451</td><td>0.031</td><td>0</td><td>0</td><td>Hba-a1  </td></tr>\n",
       "\t<tr><td>0</td><td>1.323978</td><td>0.973</td><td>0.218</td><td>0</td><td>0</td><td>Aqp1    </td></tr>\n",
       "\t<tr><td>0</td><td>1.312126</td><td>0.982</td><td>0.381</td><td>0</td><td>0</td><td>Minpp1  </td></tr>\n",
       "\t<tr><td>0</td><td>1.304672</td><td>0.912</td><td>0.384</td><td>0</td><td>0</td><td>Hist1h1b</td></tr>\n",
       "\t<tr><td>0</td><td>1.274692</td><td>0.978</td><td>0.376</td><td>0</td><td>0</td><td>Cenpa   </td></tr>\n",
       "\t<tr><td>0</td><td>1.259430</td><td>0.986</td><td>0.476</td><td>0</td><td>0</td><td>Casp3   </td></tr>\n",
       "\t<tr><td>0</td><td>1.247292</td><td>0.805</td><td>0.106</td><td>0</td><td>0</td><td>Ctse    </td></tr>\n",
       "\t<tr><td>0</td><td>1.217310</td><td>0.877</td><td>0.169</td><td>0</td><td>0</td><td>Hebp1   </td></tr>\n",
       "\t<tr><td>0</td><td>1.216497</td><td>0.964</td><td>0.358</td><td>0</td><td>0</td><td>Pla2g12a</td></tr>\n",
       "\t<tr><td>0</td><td>1.204129</td><td>0.922</td><td>0.271</td><td>0</td><td>0</td><td>Tfrc    </td></tr>\n",
       "\t<tr><td>0</td><td>1.200461</td><td>0.890</td><td>0.125</td><td>0</td><td>0</td><td>Smim1   </td></tr>\n",
       "\t<tr><td>0</td><td>1.183900</td><td>0.961</td><td>0.207</td><td>0</td><td>0</td><td>Abcb4   </td></tr>\n",
       "\t<tr><td>⋮</td><td>⋮</td><td>⋮</td><td>⋮</td><td>⋮</td><td>⋮</td><td>⋮</td></tr>\n",
       "\t<tr><td>0.008229560</td><td>-0.2525716</td><td>0.029</td><td>0.222</td><td>1</td><td>16</td><td>Klhl23   </td></tr>\n",
       "\t<tr><td>0.008252109</td><td>-0.2591416</td><td>0.029</td><td>0.222</td><td>1</td><td>16</td><td>Zfp367   </td></tr>\n",
       "\t<tr><td>0.008256453</td><td>-0.3182117</td><td>0.088</td><td>0.315</td><td>1</td><td>16</td><td>Pafah1b3 </td></tr>\n",
       "\t<tr><td>0.008257632</td><td>-0.2884225</td><td>0.059</td><td>0.271</td><td>1</td><td>16</td><td>Agpat2   </td></tr>\n",
       "\t<tr><td>0.008299868</td><td>-0.3591170</td><td>0.059</td><td>0.267</td><td>1</td><td>16</td><td>Gnb4     </td></tr>\n",
       "\t<tr><td>0.008303638</td><td>-0.3108466</td><td>0.618</td><td>0.937</td><td>1</td><td>16</td><td>Hnrnpk   </td></tr>\n",
       "\t<tr><td>0.008327486</td><td>-0.2506692</td><td>0.029</td><td>0.225</td><td>1</td><td>16</td><td>Tmem9    </td></tr>\n",
       "\t<tr><td>0.008333129</td><td>-0.2832884</td><td>0.118</td><td>0.364</td><td>1</td><td>16</td><td>Faf2     </td></tr>\n",
       "\t<tr><td>0.008335860</td><td>-0.3399561</td><td>0.088</td><td>0.310</td><td>1</td><td>16</td><td>Phactr2  </td></tr>\n",
       "\t<tr><td>0.008387359</td><td>-0.3750471</td><td>0.412</td><td>0.789</td><td>1</td><td>16</td><td>Psmb2    </td></tr>\n",
       "\t<tr><td>0.008435142</td><td> 1.0708165</td><td>0.235</td><td>0.115</td><td>1</td><td>16</td><td>Serpinb6b</td></tr>\n",
       "\t<tr><td>0.008512284</td><td>-0.3247500</td><td>0.382</td><td>0.729</td><td>1</td><td>16</td><td>Txnip    </td></tr>\n",
       "\t<tr><td>0.008568608</td><td>-0.2652737</td><td>0.029</td><td>0.220</td><td>1</td><td>16</td><td>Morn2    </td></tr>\n",
       "\t<tr><td>0.008581294</td><td>-0.3314030</td><td>0.529</td><td>0.895</td><td>1</td><td>16</td><td>Rpl13a   </td></tr>\n",
       "\t<tr><td>0.008629545</td><td>-0.3417376</td><td>0.088</td><td>0.304</td><td>1</td><td>16</td><td>Ago1     </td></tr>\n",
       "\t<tr><td>0.008761020</td><td>-0.2877187</td><td>0.059</td><td>0.270</td><td>1</td><td>16</td><td>Dnajb4   </td></tr>\n",
       "\t<tr><td>0.008809608</td><td>-0.3607851</td><td>0.088</td><td>0.311</td><td>1</td><td>16</td><td>Pik3ip1  </td></tr>\n",
       "\t<tr><td>0.008818338</td><td>-0.3514263</td><td>0.441</td><td>0.827</td><td>1</td><td>16</td><td>Cct5     </td></tr>\n",
       "\t<tr><td>0.008993895</td><td>-0.2768704</td><td>0.088</td><td>0.312</td><td>1</td><td>16</td><td>Dyrk1a   </td></tr>\n",
       "\t<tr><td>0.009008144</td><td>-0.2593683</td><td>0.235</td><td>0.553</td><td>1</td><td>16</td><td>Phf20l1  </td></tr>\n",
       "\t<tr><td>0.009023448</td><td>-0.2558302</td><td>0.176</td><td>0.462</td><td>1</td><td>16</td><td>Atp2b4   </td></tr>\n",
       "\t<tr><td>0.009164605</td><td>-0.2620837</td><td>0.029</td><td>0.220</td><td>1</td><td>16</td><td>Supt3    </td></tr>\n",
       "\t<tr><td>0.009191447</td><td>-0.3275114</td><td>0.353</td><td>0.757</td><td>1</td><td>16</td><td>Tmem160  </td></tr>\n",
       "\t<tr><td>0.009309624</td><td> 0.7085822</td><td>0.647</td><td>0.682</td><td>1</td><td>16</td><td>Rsbn1l   </td></tr>\n",
       "\t<tr><td>0.009315683</td><td>-0.2634146</td><td>0.265</td><td>0.579</td><td>1</td><td>16</td><td>Pak1ip1  </td></tr>\n",
       "\t<tr><td>0.009339947</td><td>-0.2574522</td><td>0.059</td><td>0.266</td><td>1</td><td>16</td><td>Hps1     </td></tr>\n",
       "\t<tr><td>0.009516779</td><td>-0.2541053</td><td>0.029</td><td>0.219</td><td>1</td><td>16</td><td>Rab4a    </td></tr>\n",
       "\t<tr><td>0.009726182</td><td>-0.2715585</td><td>0.059</td><td>0.264</td><td>1</td><td>16</td><td>Chst12   </td></tr>\n",
       "\t<tr><td>0.009794714</td><td>-0.2553188</td><td>0.029</td><td>0.218</td><td>1</td><td>16</td><td>Zdhhc17  </td></tr>\n",
       "\t<tr><td>0.009847223</td><td>-0.2507973</td><td>0.029</td><td>0.214</td><td>1</td><td>16</td><td>Tsr2     </td></tr>\n",
       "</tbody>\n",
       "</table>\n"
      ],
      "text/latex": [
       "A grouped\\_df: 14214 × 7\n",
       "\\begin{tabular}{lllllll}\n",
       " p\\_val & avg\\_log2FC & pct.1 & pct.2 & p\\_val\\_adj & cluster & gene\\\\\n",
       " <dbl> & <dbl> & <dbl> & <dbl> & <dbl> & <fct> & <chr>\\\\\n",
       "\\hline\n",
       "\t 0 & 2.576598 & 0.987 & 0.295 & 0 & 0 & Car1    \\\\\n",
       "\t 0 & 2.363234 & 0.994 & 0.437 & 0 & 0 & Blvrb   \\\\\n",
       "\t 0 & 2.332729 & 0.984 & 0.339 & 0 & 0 & C1qtnf12\\\\\n",
       "\t 0 & 1.894340 & 0.989 & 0.137 & 0 & 0 & Ermap   \\\\\n",
       "\t 0 & 1.877886 & 0.998 & 0.910 & 0 & 0 & Prdx2   \\\\\n",
       "\t 0 & 1.798242 & 0.999 & 0.817 & 0 & 0 & Car2    \\\\\n",
       "\t 0 & 1.703454 & 0.423 & 0.049 & 0 & 0 & Hbb-bs  \\\\\n",
       "\t 0 & 1.644969 & 0.988 & 0.438 & 0 & 0 & Mt1     \\\\\n",
       "\t 0 & 1.597067 & 0.979 & 0.307 & 0 & 0 & Cpox    \\\\\n",
       "\t 0 & 1.594549 & 0.994 & 0.634 & 0 & 0 & Glrx5   \\\\\n",
       "\t 0 & 1.576871 & 0.956 & 0.125 & 0 & 0 & Mt2     \\\\\n",
       "\t 0 & 1.563651 & 0.988 & 0.370 & 0 & 0 & Mns1    \\\\\n",
       "\t 0 & 1.502123 & 0.913 & 0.082 & 0 & 0 & Rhd     \\\\\n",
       "\t 0 & 1.485785 & 0.990 & 0.732 & 0 & 0 & Tmem14c \\\\\n",
       "\t 0 & 1.455999 & 0.873 & 0.062 & 0 & 0 & Cldn13  \\\\\n",
       "\t 0 & 1.440341 & 0.983 & 0.477 & 0 & 0 & Alad    \\\\\n",
       "\t 0 & 1.433717 & 0.973 & 0.390 & 0 & 0 & Hmbs    \\\\\n",
       "\t 0 & 1.421688 & 0.972 & 0.165 & 0 & 0 & Klf1    \\\\\n",
       "\t 0 & 1.339221 & 0.451 & 0.031 & 0 & 0 & Hba-a1  \\\\\n",
       "\t 0 & 1.323978 & 0.973 & 0.218 & 0 & 0 & Aqp1    \\\\\n",
       "\t 0 & 1.312126 & 0.982 & 0.381 & 0 & 0 & Minpp1  \\\\\n",
       "\t 0 & 1.304672 & 0.912 & 0.384 & 0 & 0 & Hist1h1b\\\\\n",
       "\t 0 & 1.274692 & 0.978 & 0.376 & 0 & 0 & Cenpa   \\\\\n",
       "\t 0 & 1.259430 & 0.986 & 0.476 & 0 & 0 & Casp3   \\\\\n",
       "\t 0 & 1.247292 & 0.805 & 0.106 & 0 & 0 & Ctse    \\\\\n",
       "\t 0 & 1.217310 & 0.877 & 0.169 & 0 & 0 & Hebp1   \\\\\n",
       "\t 0 & 1.216497 & 0.964 & 0.358 & 0 & 0 & Pla2g12a\\\\\n",
       "\t 0 & 1.204129 & 0.922 & 0.271 & 0 & 0 & Tfrc    \\\\\n",
       "\t 0 & 1.200461 & 0.890 & 0.125 & 0 & 0 & Smim1   \\\\\n",
       "\t 0 & 1.183900 & 0.961 & 0.207 & 0 & 0 & Abcb4   \\\\\n",
       "\t ⋮ & ⋮ & ⋮ & ⋮ & ⋮ & ⋮ & ⋮\\\\\n",
       "\t 0.008229560 & -0.2525716 & 0.029 & 0.222 & 1 & 16 & Klhl23   \\\\\n",
       "\t 0.008252109 & -0.2591416 & 0.029 & 0.222 & 1 & 16 & Zfp367   \\\\\n",
       "\t 0.008256453 & -0.3182117 & 0.088 & 0.315 & 1 & 16 & Pafah1b3 \\\\\n",
       "\t 0.008257632 & -0.2884225 & 0.059 & 0.271 & 1 & 16 & Agpat2   \\\\\n",
       "\t 0.008299868 & -0.3591170 & 0.059 & 0.267 & 1 & 16 & Gnb4     \\\\\n",
       "\t 0.008303638 & -0.3108466 & 0.618 & 0.937 & 1 & 16 & Hnrnpk   \\\\\n",
       "\t 0.008327486 & -0.2506692 & 0.029 & 0.225 & 1 & 16 & Tmem9    \\\\\n",
       "\t 0.008333129 & -0.2832884 & 0.118 & 0.364 & 1 & 16 & Faf2     \\\\\n",
       "\t 0.008335860 & -0.3399561 & 0.088 & 0.310 & 1 & 16 & Phactr2  \\\\\n",
       "\t 0.008387359 & -0.3750471 & 0.412 & 0.789 & 1 & 16 & Psmb2    \\\\\n",
       "\t 0.008435142 &  1.0708165 & 0.235 & 0.115 & 1 & 16 & Serpinb6b\\\\\n",
       "\t 0.008512284 & -0.3247500 & 0.382 & 0.729 & 1 & 16 & Txnip    \\\\\n",
       "\t 0.008568608 & -0.2652737 & 0.029 & 0.220 & 1 & 16 & Morn2    \\\\\n",
       "\t 0.008581294 & -0.3314030 & 0.529 & 0.895 & 1 & 16 & Rpl13a   \\\\\n",
       "\t 0.008629545 & -0.3417376 & 0.088 & 0.304 & 1 & 16 & Ago1     \\\\\n",
       "\t 0.008761020 & -0.2877187 & 0.059 & 0.270 & 1 & 16 & Dnajb4   \\\\\n",
       "\t 0.008809608 & -0.3607851 & 0.088 & 0.311 & 1 & 16 & Pik3ip1  \\\\\n",
       "\t 0.008818338 & -0.3514263 & 0.441 & 0.827 & 1 & 16 & Cct5     \\\\\n",
       "\t 0.008993895 & -0.2768704 & 0.088 & 0.312 & 1 & 16 & Dyrk1a   \\\\\n",
       "\t 0.009008144 & -0.2593683 & 0.235 & 0.553 & 1 & 16 & Phf20l1  \\\\\n",
       "\t 0.009023448 & -0.2558302 & 0.176 & 0.462 & 1 & 16 & Atp2b4   \\\\\n",
       "\t 0.009164605 & -0.2620837 & 0.029 & 0.220 & 1 & 16 & Supt3    \\\\\n",
       "\t 0.009191447 & -0.3275114 & 0.353 & 0.757 & 1 & 16 & Tmem160  \\\\\n",
       "\t 0.009309624 &  0.7085822 & 0.647 & 0.682 & 1 & 16 & Rsbn1l   \\\\\n",
       "\t 0.009315683 & -0.2634146 & 0.265 & 0.579 & 1 & 16 & Pak1ip1  \\\\\n",
       "\t 0.009339947 & -0.2574522 & 0.059 & 0.266 & 1 & 16 & Hps1     \\\\\n",
       "\t 0.009516779 & -0.2541053 & 0.029 & 0.219 & 1 & 16 & Rab4a    \\\\\n",
       "\t 0.009726182 & -0.2715585 & 0.059 & 0.264 & 1 & 16 & Chst12   \\\\\n",
       "\t 0.009794714 & -0.2553188 & 0.029 & 0.218 & 1 & 16 & Zdhhc17  \\\\\n",
       "\t 0.009847223 & -0.2507973 & 0.029 & 0.214 & 1 & 16 & Tsr2     \\\\\n",
       "\\end{tabular}\n"
      ],
      "text/markdown": [
       "\n",
       "A grouped_df: 14214 × 7\n",
       "\n",
       "| p_val &lt;dbl&gt; | avg_log2FC &lt;dbl&gt; | pct.1 &lt;dbl&gt; | pct.2 &lt;dbl&gt; | p_val_adj &lt;dbl&gt; | cluster &lt;fct&gt; | gene &lt;chr&gt; |\n",
       "|---|---|---|---|---|---|---|\n",
       "| 0 | 2.576598 | 0.987 | 0.295 | 0 | 0 | Car1     |\n",
       "| 0 | 2.363234 | 0.994 | 0.437 | 0 | 0 | Blvrb    |\n",
       "| 0 | 2.332729 | 0.984 | 0.339 | 0 | 0 | C1qtnf12 |\n",
       "| 0 | 1.894340 | 0.989 | 0.137 | 0 | 0 | Ermap    |\n",
       "| 0 | 1.877886 | 0.998 | 0.910 | 0 | 0 | Prdx2    |\n",
       "| 0 | 1.798242 | 0.999 | 0.817 | 0 | 0 | Car2     |\n",
       "| 0 | 1.703454 | 0.423 | 0.049 | 0 | 0 | Hbb-bs   |\n",
       "| 0 | 1.644969 | 0.988 | 0.438 | 0 | 0 | Mt1      |\n",
       "| 0 | 1.597067 | 0.979 | 0.307 | 0 | 0 | Cpox     |\n",
       "| 0 | 1.594549 | 0.994 | 0.634 | 0 | 0 | Glrx5    |\n",
       "| 0 | 1.576871 | 0.956 | 0.125 | 0 | 0 | Mt2      |\n",
       "| 0 | 1.563651 | 0.988 | 0.370 | 0 | 0 | Mns1     |\n",
       "| 0 | 1.502123 | 0.913 | 0.082 | 0 | 0 | Rhd      |\n",
       "| 0 | 1.485785 | 0.990 | 0.732 | 0 | 0 | Tmem14c  |\n",
       "| 0 | 1.455999 | 0.873 | 0.062 | 0 | 0 | Cldn13   |\n",
       "| 0 | 1.440341 | 0.983 | 0.477 | 0 | 0 | Alad     |\n",
       "| 0 | 1.433717 | 0.973 | 0.390 | 0 | 0 | Hmbs     |\n",
       "| 0 | 1.421688 | 0.972 | 0.165 | 0 | 0 | Klf1     |\n",
       "| 0 | 1.339221 | 0.451 | 0.031 | 0 | 0 | Hba-a1   |\n",
       "| 0 | 1.323978 | 0.973 | 0.218 | 0 | 0 | Aqp1     |\n",
       "| 0 | 1.312126 | 0.982 | 0.381 | 0 | 0 | Minpp1   |\n",
       "| 0 | 1.304672 | 0.912 | 0.384 | 0 | 0 | Hist1h1b |\n",
       "| 0 | 1.274692 | 0.978 | 0.376 | 0 | 0 | Cenpa    |\n",
       "| 0 | 1.259430 | 0.986 | 0.476 | 0 | 0 | Casp3    |\n",
       "| 0 | 1.247292 | 0.805 | 0.106 | 0 | 0 | Ctse     |\n",
       "| 0 | 1.217310 | 0.877 | 0.169 | 0 | 0 | Hebp1    |\n",
       "| 0 | 1.216497 | 0.964 | 0.358 | 0 | 0 | Pla2g12a |\n",
       "| 0 | 1.204129 | 0.922 | 0.271 | 0 | 0 | Tfrc     |\n",
       "| 0 | 1.200461 | 0.890 | 0.125 | 0 | 0 | Smim1    |\n",
       "| 0 | 1.183900 | 0.961 | 0.207 | 0 | 0 | Abcb4    |\n",
       "| ⋮ | ⋮ | ⋮ | ⋮ | ⋮ | ⋮ | ⋮ |\n",
       "| 0.008229560 | -0.2525716 | 0.029 | 0.222 | 1 | 16 | Klhl23    |\n",
       "| 0.008252109 | -0.2591416 | 0.029 | 0.222 | 1 | 16 | Zfp367    |\n",
       "| 0.008256453 | -0.3182117 | 0.088 | 0.315 | 1 | 16 | Pafah1b3  |\n",
       "| 0.008257632 | -0.2884225 | 0.059 | 0.271 | 1 | 16 | Agpat2    |\n",
       "| 0.008299868 | -0.3591170 | 0.059 | 0.267 | 1 | 16 | Gnb4      |\n",
       "| 0.008303638 | -0.3108466 | 0.618 | 0.937 | 1 | 16 | Hnrnpk    |\n",
       "| 0.008327486 | -0.2506692 | 0.029 | 0.225 | 1 | 16 | Tmem9     |\n",
       "| 0.008333129 | -0.2832884 | 0.118 | 0.364 | 1 | 16 | Faf2      |\n",
       "| 0.008335860 | -0.3399561 | 0.088 | 0.310 | 1 | 16 | Phactr2   |\n",
       "| 0.008387359 | -0.3750471 | 0.412 | 0.789 | 1 | 16 | Psmb2     |\n",
       "| 0.008435142 |  1.0708165 | 0.235 | 0.115 | 1 | 16 | Serpinb6b |\n",
       "| 0.008512284 | -0.3247500 | 0.382 | 0.729 | 1 | 16 | Txnip     |\n",
       "| 0.008568608 | -0.2652737 | 0.029 | 0.220 | 1 | 16 | Morn2     |\n",
       "| 0.008581294 | -0.3314030 | 0.529 | 0.895 | 1 | 16 | Rpl13a    |\n",
       "| 0.008629545 | -0.3417376 | 0.088 | 0.304 | 1 | 16 | Ago1      |\n",
       "| 0.008761020 | -0.2877187 | 0.059 | 0.270 | 1 | 16 | Dnajb4    |\n",
       "| 0.008809608 | -0.3607851 | 0.088 | 0.311 | 1 | 16 | Pik3ip1   |\n",
       "| 0.008818338 | -0.3514263 | 0.441 | 0.827 | 1 | 16 | Cct5      |\n",
       "| 0.008993895 | -0.2768704 | 0.088 | 0.312 | 1 | 16 | Dyrk1a    |\n",
       "| 0.009008144 | -0.2593683 | 0.235 | 0.553 | 1 | 16 | Phf20l1   |\n",
       "| 0.009023448 | -0.2558302 | 0.176 | 0.462 | 1 | 16 | Atp2b4    |\n",
       "| 0.009164605 | -0.2620837 | 0.029 | 0.220 | 1 | 16 | Supt3     |\n",
       "| 0.009191447 | -0.3275114 | 0.353 | 0.757 | 1 | 16 | Tmem160   |\n",
       "| 0.009309624 |  0.7085822 | 0.647 | 0.682 | 1 | 16 | Rsbn1l    |\n",
       "| 0.009315683 | -0.2634146 | 0.265 | 0.579 | 1 | 16 | Pak1ip1   |\n",
       "| 0.009339947 | -0.2574522 | 0.059 | 0.266 | 1 | 16 | Hps1      |\n",
       "| 0.009516779 | -0.2541053 | 0.029 | 0.219 | 1 | 16 | Rab4a     |\n",
       "| 0.009726182 | -0.2715585 | 0.059 | 0.264 | 1 | 16 | Chst12    |\n",
       "| 0.009794714 | -0.2553188 | 0.029 | 0.218 | 1 | 16 | Zdhhc17   |\n",
       "| 0.009847223 | -0.2507973 | 0.029 | 0.214 | 1 | 16 | Tsr2      |\n",
       "\n"
      ],
      "text/plain": [
       "       p_val       avg_log2FC pct.1  pct.2  p_val_adj cluster gene     \n",
       "1      0           2.576598   0.987  0.295  0         0       Car1     \n",
       "2      0           2.363234   0.994  0.437  0         0       Blvrb    \n",
       "3      0           2.332729   0.984  0.339  0         0       C1qtnf12 \n",
       "4      0           1.894340   0.989  0.137  0         0       Ermap    \n",
       "5      0           1.877886   0.998  0.910  0         0       Prdx2    \n",
       "6      0           1.798242   0.999  0.817  0         0       Car2     \n",
       "7      0           1.703454   0.423  0.049  0         0       Hbb-bs   \n",
       "8      0           1.644969   0.988  0.438  0         0       Mt1      \n",
       "9      0           1.597067   0.979  0.307  0         0       Cpox     \n",
       "10     0           1.594549   0.994  0.634  0         0       Glrx5    \n",
       "11     0           1.576871   0.956  0.125  0         0       Mt2      \n",
       "12     0           1.563651   0.988  0.370  0         0       Mns1     \n",
       "13     0           1.502123   0.913  0.082  0         0       Rhd      \n",
       "14     0           1.485785   0.990  0.732  0         0       Tmem14c  \n",
       "15     0           1.455999   0.873  0.062  0         0       Cldn13   \n",
       "16     0           1.440341   0.983  0.477  0         0       Alad     \n",
       "17     0           1.433717   0.973  0.390  0         0       Hmbs     \n",
       "18     0           1.421688   0.972  0.165  0         0       Klf1     \n",
       "19     0           1.339221   0.451  0.031  0         0       Hba-a1   \n",
       "20     0           1.323978   0.973  0.218  0         0       Aqp1     \n",
       "21     0           1.312126   0.982  0.381  0         0       Minpp1   \n",
       "22     0           1.304672   0.912  0.384  0         0       Hist1h1b \n",
       "23     0           1.274692   0.978  0.376  0         0       Cenpa    \n",
       "24     0           1.259430   0.986  0.476  0         0       Casp3    \n",
       "25     0           1.247292   0.805  0.106  0         0       Ctse     \n",
       "26     0           1.217310   0.877  0.169  0         0       Hebp1    \n",
       "27     0           1.216497   0.964  0.358  0         0       Pla2g12a \n",
       "28     0           1.204129   0.922  0.271  0         0       Tfrc     \n",
       "29     0           1.200461   0.890  0.125  0         0       Smim1    \n",
       "30     0           1.183900   0.961  0.207  0         0       Abcb4    \n",
       "<U+22EE> <U+22EE>    <U+22EE>   <U+22EE> <U+22EE> <U+22EE>  <U+22EE> <U+22EE> \n",
       "14185  0.008229560 -0.2525716 0.029  0.222  1         16      Klhl23   \n",
       "14186  0.008252109 -0.2591416 0.029  0.222  1         16      Zfp367   \n",
       "14187  0.008256453 -0.3182117 0.088  0.315  1         16      Pafah1b3 \n",
       "14188  0.008257632 -0.2884225 0.059  0.271  1         16      Agpat2   \n",
       "14189  0.008299868 -0.3591170 0.059  0.267  1         16      Gnb4     \n",
       "14190  0.008303638 -0.3108466 0.618  0.937  1         16      Hnrnpk   \n",
       "14191  0.008327486 -0.2506692 0.029  0.225  1         16      Tmem9    \n",
       "14192  0.008333129 -0.2832884 0.118  0.364  1         16      Faf2     \n",
       "14193  0.008335860 -0.3399561 0.088  0.310  1         16      Phactr2  \n",
       "14194  0.008387359 -0.3750471 0.412  0.789  1         16      Psmb2    \n",
       "14195  0.008435142  1.0708165 0.235  0.115  1         16      Serpinb6b\n",
       "14196  0.008512284 -0.3247500 0.382  0.729  1         16      Txnip    \n",
       "14197  0.008568608 -0.2652737 0.029  0.220  1         16      Morn2    \n",
       "14198  0.008581294 -0.3314030 0.529  0.895  1         16      Rpl13a   \n",
       "14199  0.008629545 -0.3417376 0.088  0.304  1         16      Ago1     \n",
       "14200  0.008761020 -0.2877187 0.059  0.270  1         16      Dnajb4   \n",
       "14201  0.008809608 -0.3607851 0.088  0.311  1         16      Pik3ip1  \n",
       "14202  0.008818338 -0.3514263 0.441  0.827  1         16      Cct5     \n",
       "14203  0.008993895 -0.2768704 0.088  0.312  1         16      Dyrk1a   \n",
       "14204  0.009008144 -0.2593683 0.235  0.553  1         16      Phf20l1  \n",
       "14205  0.009023448 -0.2558302 0.176  0.462  1         16      Atp2b4   \n",
       "14206  0.009164605 -0.2620837 0.029  0.220  1         16      Supt3    \n",
       "14207  0.009191447 -0.3275114 0.353  0.757  1         16      Tmem160  \n",
       "14208  0.009309624  0.7085822 0.647  0.682  1         16      Rsbn1l   \n",
       "14209  0.009315683 -0.2634146 0.265  0.579  1         16      Pak1ip1  \n",
       "14210  0.009339947 -0.2574522 0.059  0.266  1         16      Hps1     \n",
       "14211  0.009516779 -0.2541053 0.029  0.219  1         16      Rab4a    \n",
       "14212  0.009726182 -0.2715585 0.059  0.264  1         16      Chst12   \n",
       "14213  0.009794714 -0.2553188 0.029  0.218  1         16      Zdhhc17  \n",
       "14214  0.009847223 -0.2507973 0.029  0.214  1         16      Tsr2     "
      ]
     },
     "metadata": {},
     "output_type": "display_data"
    }
   ],
   "source": [
    "top1000"
   ]
  },
  {
   "cell_type": "code",
   "execution_count": 7,
   "id": "661dad51-f824-46f2-bec5-b41ade486103",
   "metadata": {
    "execution": {
     "iopub.execute_input": "2021-08-31T20:30:12.737854Z",
     "iopub.status.busy": "2021-08-31T20:30:12.736700Z",
     "iopub.status.idle": "2021-08-31T20:30:15.356920Z",
     "shell.execute_reply": "2021-08-31T20:30:15.355504Z"
    }
   },
   "outputs": [
    {
     "name": "stderr",
     "output_type": "stream",
     "text": [
      "\n",
      "\n",
      "clusterProfiler v3.18.1  For help: https://guangchuangyu.github.io/software/clusterProfiler\n",
      "\n",
      "If you use clusterProfiler in published research, please cite:\n",
      "Guangchuang Yu, Li-Gen Wang, Yanyan Han, Qing-Yu He. clusterProfiler: an R package for comparing biological themes among gene clusters. OMICS: A Journal of Integrative Biology. 2012, 16(5):284-287.\n",
      "\n",
      "\n",
      "Attaching package: 'clusterProfiler'\n",
      "\n",
      "\n",
      "The following object is masked from 'package:stats':\n",
      "\n",
      "    filter\n",
      "\n",
      "\n"
     ]
    }
   ],
   "source": [
    "library(clusterProfiler)\n"
   ]
  },
  {
   "cell_type": "code",
   "execution_count": 8,
   "id": "299985e1-1b96-4c5a-b61e-41da8f883905",
   "metadata": {
    "execution": {
     "iopub.execute_input": "2021-08-31T20:30:58.244981Z",
     "iopub.status.busy": "2021-08-31T20:30:58.243580Z",
     "iopub.status.idle": "2021-08-31T20:30:58.261927Z",
     "shell.execute_reply": "2021-08-31T20:30:58.260461Z"
    }
   },
   "outputs": [],
   "source": [
    "n=50\n",
    "topX = markers %>%\n",
    "    group_by(cluster) %>%\n",
    "    top_n(n = n, wt = avg_log2FC)"
   ]
  },
  {
   "cell_type": "code",
   "execution_count": 51,
   "id": "c406abe1-89cb-4999-ab82-2ea0108fe42b",
   "metadata": {
    "execution": {
     "iopub.execute_input": "2021-08-31T20:51:45.113481Z",
     "iopub.status.busy": "2021-08-31T20:51:45.112405Z",
     "iopub.status.idle": "2021-08-31T20:51:45.130107Z",
     "shell.execute_reply": "2021-08-31T20:51:45.129031Z"
    },
    "tags": []
   },
   "outputs": [
    {
     "data": {
      "text/html": [
       "<table class=\"dataframe\">\n",
       "<caption>A grouped_df: 6 × 7</caption>\n",
       "<thead>\n",
       "\t<tr><th scope=col>p_val</th><th scope=col>avg_log2FC</th><th scope=col>pct.1</th><th scope=col>pct.2</th><th scope=col>p_val_adj</th><th scope=col>cluster</th><th scope=col>gene</th></tr>\n",
       "\t<tr><th scope=col>&lt;dbl&gt;</th><th scope=col>&lt;dbl&gt;</th><th scope=col>&lt;dbl&gt;</th><th scope=col>&lt;dbl&gt;</th><th scope=col>&lt;dbl&gt;</th><th scope=col>&lt;fct&gt;</th><th scope=col>&lt;chr&gt;</th></tr>\n",
       "</thead>\n",
       "<tbody>\n",
       "\t<tr><td>0</td><td>2.576598</td><td>0.987</td><td>0.295</td><td>0</td><td>0</td><td>Car1    </td></tr>\n",
       "\t<tr><td>0</td><td>2.363234</td><td>0.994</td><td>0.437</td><td>0</td><td>0</td><td>Blvrb   </td></tr>\n",
       "\t<tr><td>0</td><td>2.332729</td><td>0.984</td><td>0.339</td><td>0</td><td>0</td><td>C1qtnf12</td></tr>\n",
       "\t<tr><td>0</td><td>1.894340</td><td>0.989</td><td>0.137</td><td>0</td><td>0</td><td>Ermap   </td></tr>\n",
       "\t<tr><td>0</td><td>1.877886</td><td>0.998</td><td>0.910</td><td>0</td><td>0</td><td>Prdx2   </td></tr>\n",
       "\t<tr><td>0</td><td>1.798242</td><td>0.999</td><td>0.817</td><td>0</td><td>0</td><td>Car2    </td></tr>\n",
       "</tbody>\n",
       "</table>\n"
      ],
      "text/latex": [
       "A grouped\\_df: 6 × 7\n",
       "\\begin{tabular}{lllllll}\n",
       " p\\_val & avg\\_log2FC & pct.1 & pct.2 & p\\_val\\_adj & cluster & gene\\\\\n",
       " <dbl> & <dbl> & <dbl> & <dbl> & <dbl> & <fct> & <chr>\\\\\n",
       "\\hline\n",
       "\t 0 & 2.576598 & 0.987 & 0.295 & 0 & 0 & Car1    \\\\\n",
       "\t 0 & 2.363234 & 0.994 & 0.437 & 0 & 0 & Blvrb   \\\\\n",
       "\t 0 & 2.332729 & 0.984 & 0.339 & 0 & 0 & C1qtnf12\\\\\n",
       "\t 0 & 1.894340 & 0.989 & 0.137 & 0 & 0 & Ermap   \\\\\n",
       "\t 0 & 1.877886 & 0.998 & 0.910 & 0 & 0 & Prdx2   \\\\\n",
       "\t 0 & 1.798242 & 0.999 & 0.817 & 0 & 0 & Car2    \\\\\n",
       "\\end{tabular}\n"
      ],
      "text/markdown": [
       "\n",
       "A grouped_df: 6 × 7\n",
       "\n",
       "| p_val &lt;dbl&gt; | avg_log2FC &lt;dbl&gt; | pct.1 &lt;dbl&gt; | pct.2 &lt;dbl&gt; | p_val_adj &lt;dbl&gt; | cluster &lt;fct&gt; | gene &lt;chr&gt; |\n",
       "|---|---|---|---|---|---|---|\n",
       "| 0 | 2.576598 | 0.987 | 0.295 | 0 | 0 | Car1     |\n",
       "| 0 | 2.363234 | 0.994 | 0.437 | 0 | 0 | Blvrb    |\n",
       "| 0 | 2.332729 | 0.984 | 0.339 | 0 | 0 | C1qtnf12 |\n",
       "| 0 | 1.894340 | 0.989 | 0.137 | 0 | 0 | Ermap    |\n",
       "| 0 | 1.877886 | 0.998 | 0.910 | 0 | 0 | Prdx2    |\n",
       "| 0 | 1.798242 | 0.999 | 0.817 | 0 | 0 | Car2     |\n",
       "\n"
      ],
      "text/plain": [
       "  p_val avg_log2FC pct.1 pct.2 p_val_adj cluster gene    \n",
       "1 0     2.576598   0.987 0.295 0         0       Car1    \n",
       "2 0     2.363234   0.994 0.437 0         0       Blvrb   \n",
       "3 0     2.332729   0.984 0.339 0         0       C1qtnf12\n",
       "4 0     1.894340   0.989 0.137 0         0       Ermap   \n",
       "5 0     1.877886   0.998 0.910 0         0       Prdx2   \n",
       "6 0     1.798242   0.999 0.817 0         0       Car2    "
      ]
     },
     "metadata": {},
     "output_type": "display_data"
    }
   ],
   "source": [
    "head(topX)"
   ]
  },
  {
   "cell_type": "code",
   "execution_count": 49,
   "id": "2bc2a8d0-dc65-4b6d-acdf-29c61a154cf1",
   "metadata": {
    "collapsed": true,
    "execution": {
     "iopub.execute_input": "2021-08-31T20:50:41.500755Z",
     "iopub.status.busy": "2021-08-31T20:50:41.499725Z",
     "iopub.status.idle": "2021-08-31T20:50:41.540640Z",
     "shell.execute_reply": "2021-08-31T20:50:41.539555Z"
    },
    "jupyter": {
     "outputs_hidden": true
    },
    "tags": []
   },
   "outputs": [
    {
     "data": {
      "text/html": [
       "<table class=\"dataframe\">\n",
       "<caption>A data.frame: 31063 × 2</caption>\n",
       "<thead>\n",
       "\t<tr><th scope=col>name</th><th scope=col>genes</th></tr>\n",
       "\t<tr><th scope=col>&lt;chr&gt;</th><th scope=col>&lt;chr&gt;</th></tr>\n",
       "</thead>\n",
       "<tbody>\n",
       "\t<tr><td>DEG</td><td>Ckap4        </td></tr>\n",
       "\t<tr><td>DEG</td><td>Fam49a       </td></tr>\n",
       "\t<tr><td>DEG</td><td>Epha1        </td></tr>\n",
       "\t<tr><td>DEG</td><td>Meis1        </td></tr>\n",
       "\t<tr><td>DEG</td><td>Coro2a       </td></tr>\n",
       "\t<tr><td>DEG</td><td>Pafah1b3     </td></tr>\n",
       "\t<tr><td>DEG</td><td>Il10ra       </td></tr>\n",
       "\t<tr><td>DEG</td><td>Socs3        </td></tr>\n",
       "\t<tr><td>DEG</td><td>Ahnak        </td></tr>\n",
       "\t<tr><td>DEG</td><td>Slc16a3      </td></tr>\n",
       "\t<tr><td>DEG</td><td>Atp8b2       </td></tr>\n",
       "\t<tr><td>DEG</td><td>Ccl5         </td></tr>\n",
       "\t<tr><td>DEG</td><td>Cd22         </td></tr>\n",
       "\t<tr><td>DEG</td><td>Mag          </td></tr>\n",
       "\t<tr><td>DEG</td><td>6530418L21Rik</td></tr>\n",
       "\t<tr><td>DEG</td><td>Bach2        </td></tr>\n",
       "\t<tr><td>DEG</td><td>Dapk1        </td></tr>\n",
       "\t<tr><td>DEG</td><td>Pdcd1        </td></tr>\n",
       "\t<tr><td>DEG</td><td>Dab2         </td></tr>\n",
       "\t<tr><td>DEG</td><td>Gpr132       </td></tr>\n",
       "\t<tr><td>DEG</td><td>Slc2a3       </td></tr>\n",
       "\t<tr><td>DEG</td><td>Trac         </td></tr>\n",
       "\t<tr><td>DEG</td><td>Serpinf1     </td></tr>\n",
       "\t<tr><td>DEG</td><td>A930004D18Rik</td></tr>\n",
       "\t<tr><td>DEG</td><td>Cd28         </td></tr>\n",
       "\t<tr><td>DEG</td><td>Lrrc16a      </td></tr>\n",
       "\t<tr><td>DEG</td><td>Ceacam19     </td></tr>\n",
       "\t<tr><td>DEG</td><td>Pvrl2        </td></tr>\n",
       "\t<tr><td>DEG</td><td>Coro2a       </td></tr>\n",
       "\t<tr><td>DEG</td><td>1500009L16Rik</td></tr>\n",
       "\t<tr><td>⋮</td><td>⋮</td></tr>\n",
       "\t<tr><td>not_DEG</td><td>AC164084.3    </td></tr>\n",
       "\t<tr><td>not_DEG</td><td>AC164084.1    </td></tr>\n",
       "\t<tr><td>not_DEG</td><td>AC140325.2    </td></tr>\n",
       "\t<tr><td>not_DEG</td><td>AC140325.1    </td></tr>\n",
       "\t<tr><td>not_DEG</td><td>Gm3286.1      </td></tr>\n",
       "\t<tr><td>not_DEG</td><td>AC140325.3    </td></tr>\n",
       "\t<tr><td>not_DEG</td><td>AC140325.4    </td></tr>\n",
       "\t<tr><td>not_DEG</td><td>Ccl27.1       </td></tr>\n",
       "\t<tr><td>not_DEG</td><td>Il11ra2.2     </td></tr>\n",
       "\t<tr><td>not_DEG</td><td>Ccl19.1       </td></tr>\n",
       "\t<tr><td>not_DEG</td><td>Ccl21a.1      </td></tr>\n",
       "\t<tr><td>not_DEG</td><td>Gm10931       </td></tr>\n",
       "\t<tr><td>not_DEG</td><td>CT868723.1    </td></tr>\n",
       "\t<tr><td>not_DEG</td><td>AC125178.1    </td></tr>\n",
       "\t<tr><td>not_DEG</td><td>AC125178.3    </td></tr>\n",
       "\t<tr><td>not_DEG</td><td>AC125178.2    </td></tr>\n",
       "\t<tr><td>not_DEG</td><td>Vmn1r186      </td></tr>\n",
       "\t<tr><td>not_DEG</td><td>AC102264.1    </td></tr>\n",
       "\t<tr><td>not_DEG</td><td>AC125149.3    </td></tr>\n",
       "\t<tr><td>not_DEG</td><td>AC125149.5    </td></tr>\n",
       "\t<tr><td>not_DEG</td><td>AC125149.1    </td></tr>\n",
       "\t<tr><td>not_DEG</td><td>AC125149.2    </td></tr>\n",
       "\t<tr><td>not_DEG</td><td>AC125149.4    </td></tr>\n",
       "\t<tr><td>not_DEG</td><td>AC234645.1    </td></tr>\n",
       "\t<tr><td>not_DEG</td><td>AC168977.2    </td></tr>\n",
       "\t<tr><td>not_DEG</td><td>AC168977.1    </td></tr>\n",
       "\t<tr><td>not_DEG</td><td>AC149090.1    </td></tr>\n",
       "\t<tr><td>not_DEG</td><td>CAAA01118383.1</td></tr>\n",
       "\t<tr><td>not_DEG</td><td>Vmn2r122      </td></tr>\n",
       "\t<tr><td>not_DEG</td><td>CAAA01147332.1</td></tr>\n",
       "</tbody>\n",
       "</table>\n"
      ],
      "text/latex": [
       "A data.frame: 31063 × 2\n",
       "\\begin{tabular}{ll}\n",
       " name & genes\\\\\n",
       " <chr> & <chr>\\\\\n",
       "\\hline\n",
       "\t DEG & Ckap4        \\\\\n",
       "\t DEG & Fam49a       \\\\\n",
       "\t DEG & Epha1        \\\\\n",
       "\t DEG & Meis1        \\\\\n",
       "\t DEG & Coro2a       \\\\\n",
       "\t DEG & Pafah1b3     \\\\\n",
       "\t DEG & Il10ra       \\\\\n",
       "\t DEG & Socs3        \\\\\n",
       "\t DEG & Ahnak        \\\\\n",
       "\t DEG & Slc16a3      \\\\\n",
       "\t DEG & Atp8b2       \\\\\n",
       "\t DEG & Ccl5         \\\\\n",
       "\t DEG & Cd22         \\\\\n",
       "\t DEG & Mag          \\\\\n",
       "\t DEG & 6530418L21Rik\\\\\n",
       "\t DEG & Bach2        \\\\\n",
       "\t DEG & Dapk1        \\\\\n",
       "\t DEG & Pdcd1        \\\\\n",
       "\t DEG & Dab2         \\\\\n",
       "\t DEG & Gpr132       \\\\\n",
       "\t DEG & Slc2a3       \\\\\n",
       "\t DEG & Trac         \\\\\n",
       "\t DEG & Serpinf1     \\\\\n",
       "\t DEG & A930004D18Rik\\\\\n",
       "\t DEG & Cd28         \\\\\n",
       "\t DEG & Lrrc16a      \\\\\n",
       "\t DEG & Ceacam19     \\\\\n",
       "\t DEG & Pvrl2        \\\\\n",
       "\t DEG & Coro2a       \\\\\n",
       "\t DEG & 1500009L16Rik\\\\\n",
       "\t ⋮ & ⋮\\\\\n",
       "\t not\\_DEG & AC164084.3    \\\\\n",
       "\t not\\_DEG & AC164084.1    \\\\\n",
       "\t not\\_DEG & AC140325.2    \\\\\n",
       "\t not\\_DEG & AC140325.1    \\\\\n",
       "\t not\\_DEG & Gm3286.1      \\\\\n",
       "\t not\\_DEG & AC140325.3    \\\\\n",
       "\t not\\_DEG & AC140325.4    \\\\\n",
       "\t not\\_DEG & Ccl27.1       \\\\\n",
       "\t not\\_DEG & Il11ra2.2     \\\\\n",
       "\t not\\_DEG & Ccl19.1       \\\\\n",
       "\t not\\_DEG & Ccl21a.1      \\\\\n",
       "\t not\\_DEG & Gm10931       \\\\\n",
       "\t not\\_DEG & CT868723.1    \\\\\n",
       "\t not\\_DEG & AC125178.1    \\\\\n",
       "\t not\\_DEG & AC125178.3    \\\\\n",
       "\t not\\_DEG & AC125178.2    \\\\\n",
       "\t not\\_DEG & Vmn1r186      \\\\\n",
       "\t not\\_DEG & AC102264.1    \\\\\n",
       "\t not\\_DEG & AC125149.3    \\\\\n",
       "\t not\\_DEG & AC125149.5    \\\\\n",
       "\t not\\_DEG & AC125149.1    \\\\\n",
       "\t not\\_DEG & AC125149.2    \\\\\n",
       "\t not\\_DEG & AC125149.4    \\\\\n",
       "\t not\\_DEG & AC234645.1    \\\\\n",
       "\t not\\_DEG & AC168977.2    \\\\\n",
       "\t not\\_DEG & AC168977.1    \\\\\n",
       "\t not\\_DEG & AC149090.1    \\\\\n",
       "\t not\\_DEG & CAAA01118383.1\\\\\n",
       "\t not\\_DEG & Vmn2r122      \\\\\n",
       "\t not\\_DEG & CAAA01147332.1\\\\\n",
       "\\end{tabular}\n"
      ],
      "text/markdown": [
       "\n",
       "A data.frame: 31063 × 2\n",
       "\n",
       "| name &lt;chr&gt; | genes &lt;chr&gt; |\n",
       "|---|---|\n",
       "| DEG | Ckap4         |\n",
       "| DEG | Fam49a        |\n",
       "| DEG | Epha1         |\n",
       "| DEG | Meis1         |\n",
       "| DEG | Coro2a        |\n",
       "| DEG | Pafah1b3      |\n",
       "| DEG | Il10ra        |\n",
       "| DEG | Socs3         |\n",
       "| DEG | Ahnak         |\n",
       "| DEG | Slc16a3       |\n",
       "| DEG | Atp8b2        |\n",
       "| DEG | Ccl5          |\n",
       "| DEG | Cd22          |\n",
       "| DEG | Mag           |\n",
       "| DEG | 6530418L21Rik |\n",
       "| DEG | Bach2         |\n",
       "| DEG | Dapk1         |\n",
       "| DEG | Pdcd1         |\n",
       "| DEG | Dab2          |\n",
       "| DEG | Gpr132        |\n",
       "| DEG | Slc2a3        |\n",
       "| DEG | Trac          |\n",
       "| DEG | Serpinf1      |\n",
       "| DEG | A930004D18Rik |\n",
       "| DEG | Cd28          |\n",
       "| DEG | Lrrc16a       |\n",
       "| DEG | Ceacam19      |\n",
       "| DEG | Pvrl2         |\n",
       "| DEG | Coro2a        |\n",
       "| DEG | 1500009L16Rik |\n",
       "| ⋮ | ⋮ |\n",
       "| not_DEG | AC164084.3     |\n",
       "| not_DEG | AC164084.1     |\n",
       "| not_DEG | AC140325.2     |\n",
       "| not_DEG | AC140325.1     |\n",
       "| not_DEG | Gm3286.1       |\n",
       "| not_DEG | AC140325.3     |\n",
       "| not_DEG | AC140325.4     |\n",
       "| not_DEG | Ccl27.1        |\n",
       "| not_DEG | Il11ra2.2      |\n",
       "| not_DEG | Ccl19.1        |\n",
       "| not_DEG | Ccl21a.1       |\n",
       "| not_DEG | Gm10931        |\n",
       "| not_DEG | CT868723.1     |\n",
       "| not_DEG | AC125178.1     |\n",
       "| not_DEG | AC125178.3     |\n",
       "| not_DEG | AC125178.2     |\n",
       "| not_DEG | Vmn1r186       |\n",
       "| not_DEG | AC102264.1     |\n",
       "| not_DEG | AC125149.3     |\n",
       "| not_DEG | AC125149.5     |\n",
       "| not_DEG | AC125149.1     |\n",
       "| not_DEG | AC125149.2     |\n",
       "| not_DEG | AC125149.4     |\n",
       "| not_DEG | AC234645.1     |\n",
       "| not_DEG | AC168977.2     |\n",
       "| not_DEG | AC168977.1     |\n",
       "| not_DEG | AC149090.1     |\n",
       "| not_DEG | CAAA01118383.1 |\n",
       "| not_DEG | Vmn2r122       |\n",
       "| not_DEG | CAAA01147332.1 |\n",
       "\n"
      ],
      "text/plain": [
       "       name    genes         \n",
       "1      DEG     Ckap4         \n",
       "2      DEG     Fam49a        \n",
       "3      DEG     Epha1         \n",
       "4      DEG     Meis1         \n",
       "5      DEG     Coro2a        \n",
       "6      DEG     Pafah1b3      \n",
       "7      DEG     Il10ra        \n",
       "8      DEG     Socs3         \n",
       "9      DEG     Ahnak         \n",
       "10     DEG     Slc16a3       \n",
       "11     DEG     Atp8b2        \n",
       "12     DEG     Ccl5          \n",
       "13     DEG     Cd22          \n",
       "14     DEG     Mag           \n",
       "15     DEG     6530418L21Rik \n",
       "16     DEG     Bach2         \n",
       "17     DEG     Dapk1         \n",
       "18     DEG     Pdcd1         \n",
       "19     DEG     Dab2          \n",
       "20     DEG     Gpr132        \n",
       "21     DEG     Slc2a3        \n",
       "22     DEG     Trac          \n",
       "23     DEG     Serpinf1      \n",
       "24     DEG     A930004D18Rik \n",
       "25     DEG     Cd28          \n",
       "26     DEG     Lrrc16a       \n",
       "27     DEG     Ceacam19      \n",
       "28     DEG     Pvrl2         \n",
       "29     DEG     Coro2a        \n",
       "30     DEG     1500009L16Rik \n",
       "<U+22EE> <U+22EE> <U+22EE>      \n",
       "31034  not_DEG AC164084.3    \n",
       "31035  not_DEG AC164084.1    \n",
       "31036  not_DEG AC140325.2    \n",
       "31037  not_DEG AC140325.1    \n",
       "31038  not_DEG Gm3286.1      \n",
       "31039  not_DEG AC140325.3    \n",
       "31040  not_DEG AC140325.4    \n",
       "31041  not_DEG Ccl27.1       \n",
       "31042  not_DEG Il11ra2.2     \n",
       "31043  not_DEG Ccl19.1       \n",
       "31044  not_DEG Ccl21a.1      \n",
       "31045  not_DEG Gm10931       \n",
       "31046  not_DEG CT868723.1    \n",
       "31047  not_DEG AC125178.1    \n",
       "31048  not_DEG AC125178.3    \n",
       "31049  not_DEG AC125178.2    \n",
       "31050  not_DEG Vmn1r186      \n",
       "31051  not_DEG AC102264.1    \n",
       "31052  not_DEG AC125149.3    \n",
       "31053  not_DEG AC125149.5    \n",
       "31054  not_DEG AC125149.1    \n",
       "31055  not_DEG AC125149.2    \n",
       "31056  not_DEG AC125149.4    \n",
       "31057  not_DEG AC234645.1    \n",
       "31058  not_DEG AC168977.2    \n",
       "31059  not_DEG AC168977.1    \n",
       "31060  not_DEG AC149090.1    \n",
       "31061  not_DEG CAAA01118383.1\n",
       "31062  not_DEG Vmn2r122      \n",
       "31063  not_DEG CAAA01147332.1"
      ]
     },
     "metadata": {},
     "output_type": "display_data"
    }
   ],
   "source": [
    "a=data.frame(name=\"DEG\",genes=target_genes)\n",
    "b=data.frame(name=\"not_DEG\",genes=setdiff(rownames(merged_obj@assays$RNA@meta.features),target_genes))\n",
    "c=rbind(a,b)\n",
    "c"
   ]
  },
  {
   "cell_type": "code",
   "execution_count": 44,
   "id": "6debed6d-a285-4ec3-80f1-3f6f906235d3",
   "metadata": {
    "execution": {
     "iopub.execute_input": "2021-08-31T20:41:59.659806Z",
     "iopub.status.busy": "2021-08-31T20:41:59.658798Z",
     "iopub.status.idle": "2021-08-31T20:41:59.673475Z",
     "shell.execute_reply": "2021-08-31T20:41:59.672328Z"
    },
    "tags": []
   },
   "outputs": [],
   "source": [
    "em=enricher(topX$gene, TERM2GENE=a,pvalueCutoff =1,universe=setdiff(rownames(merged_obj@assays$RNA@meta.features),topX$gene))"
   ]
  },
  {
   "cell_type": "code",
   "execution_count": 50,
   "id": "d475cc4a-1827-4a10-9f99-520d969d77b7",
   "metadata": {
    "execution": {
     "iopub.execute_input": "2021-08-31T20:50:54.207026Z",
     "iopub.status.busy": "2021-08-31T20:50:54.205976Z",
     "iopub.status.idle": "2021-08-31T20:50:54.312205Z",
     "shell.execute_reply": "2021-08-31T20:50:54.311086Z"
    },
    "tags": []
   },
   "outputs": [
    {
     "data": {
      "text/html": [
       "<table class=\"dataframe\">\n",
       "<caption>A data.frame: 1 × 9</caption>\n",
       "<thead>\n",
       "\t<tr><th></th><th scope=col>ID</th><th scope=col>Description</th><th scope=col>GeneRatio</th><th scope=col>BgRatio</th><th scope=col>pvalue</th><th scope=col>p.adjust</th><th scope=col>qvalue</th><th scope=col>geneID</th><th scope=col>Count</th></tr>\n",
       "\t<tr><th></th><th scope=col>&lt;chr&gt;</th><th scope=col>&lt;chr&gt;</th><th scope=col>&lt;chr&gt;</th><th scope=col>&lt;chr&gt;</th><th scope=col>&lt;dbl&gt;</th><th scope=col>&lt;dbl&gt;</th><th scope=col>&lt;lgl&gt;</th><th scope=col>&lt;chr&gt;</th><th scope=col>&lt;int&gt;</th></tr>\n",
       "</thead>\n",
       "<tbody>\n",
       "\t<tr><th scope=row>DEG</th><td>DEG</td><td>DEG</td><td>9/482</td><td>45/31057</td><td>2.617957e-08</td><td>2.617957e-08</td><td>NA</td><td>Gcnt2/Cd74/Vldlr/Meis1/Pdzk1ip1/Tgm2/Slc14a1/Ahnak/Ccl5</td><td>9</td></tr>\n",
       "</tbody>\n",
       "</table>\n"
      ],
      "text/latex": [
       "A data.frame: 1 × 9\n",
       "\\begin{tabular}{r|lllllllll}\n",
       "  & ID & Description & GeneRatio & BgRatio & pvalue & p.adjust & qvalue & geneID & Count\\\\\n",
       "  & <chr> & <chr> & <chr> & <chr> & <dbl> & <dbl> & <lgl> & <chr> & <int>\\\\\n",
       "\\hline\n",
       "\tDEG & DEG & DEG & 9/482 & 45/31057 & 2.617957e-08 & 2.617957e-08 & NA & Gcnt2/Cd74/Vldlr/Meis1/Pdzk1ip1/Tgm2/Slc14a1/Ahnak/Ccl5 & 9\\\\\n",
       "\\end{tabular}\n"
      ],
      "text/markdown": [
       "\n",
       "A data.frame: 1 × 9\n",
       "\n",
       "| <!--/--> | ID &lt;chr&gt; | Description &lt;chr&gt; | GeneRatio &lt;chr&gt; | BgRatio &lt;chr&gt; | pvalue &lt;dbl&gt; | p.adjust &lt;dbl&gt; | qvalue &lt;lgl&gt; | geneID &lt;chr&gt; | Count &lt;int&gt; |\n",
       "|---|---|---|---|---|---|---|---|---|---|\n",
       "| DEG | DEG | DEG | 9/482 | 45/31057 | 2.617957e-08 | 2.617957e-08 | NA | Gcnt2/Cd74/Vldlr/Meis1/Pdzk1ip1/Tgm2/Slc14a1/Ahnak/Ccl5 | 9 |\n",
       "\n"
      ],
      "text/plain": [
       "    ID  Description GeneRatio BgRatio  pvalue       p.adjust     qvalue\n",
       "DEG DEG DEG         9/482     45/31057 2.617957e-08 2.617957e-08 NA    \n",
       "    geneID                                                  Count\n",
       "DEG Gcnt2/Cd74/Vldlr/Meis1/Pdzk1ip1/Tgm2/Slc14a1/Ahnak/Ccl5 9    "
      ]
     },
     "metadata": {},
     "output_type": "display_data"
    }
   ],
   "source": [
    "em=enricher(topX$gene, TERM2GENE=c,pvalueCutoff =1)\n",
    "head(em)"
   ]
  },
  {
   "cell_type": "code",
   "execution_count": 53,
   "id": "bd56494e-42c5-4a93-b9ee-642b941dd58a",
   "metadata": {
    "collapsed": true,
    "execution": {
     "iopub.execute_input": "2021-08-31T20:52:21.717606Z",
     "iopub.status.busy": "2021-08-31T20:52:21.716572Z",
     "iopub.status.idle": "2021-08-31T20:52:24.360008Z",
     "shell.execute_reply": "2021-08-31T20:52:24.358928Z"
    },
    "jupyter": {
     "outputs_hidden": true
    },
    "tags": []
   },
   "outputs": [
    {
     "data": {
      "image/png": "[encoded data removed]",
      "text/plain": [
       "plot without title"
      ]
     },
     "metadata": {
      "image/png": {
       "height": 600,
       "width": 720
      }
     },
     "output_type": "display_data"
    }
   ],
   "source": [
    "result <- compareCluster(gene~cluster, data=topX, fun=\"enricher\",qvalueCutoff=0.5,pvalueCutoff=0.2,TERM2GENE=c)\n",
    "options(repr.plot.width = 12, repr.plot.height = 10)\n",
    "dotplot(result)"
   ]
  },
  {
   "cell_type": "code",
   "execution_count": 54,
   "id": "55074d5d-ac6e-4340-b729-10d30c49ac6c",
   "metadata": {
    "execution": {
     "iopub.execute_input": "2021-08-31T20:53:24.730390Z",
     "iopub.status.busy": "2021-08-31T20:53:24.729361Z",
     "iopub.status.idle": "2021-08-31T20:53:24.751037Z",
     "shell.execute_reply": "2021-08-31T20:53:24.749569Z"
    },
    "tags": []
   },
   "outputs": [],
   "source": [
    "library(enrichplot)"
   ]
  },
  {
   "cell_type": "code",
   "execution_count": 56,
   "id": "bbce7312-fa2c-423c-a7b9-4d173a9b7d98",
   "metadata": {
    "execution": {
     "iopub.execute_input": "2021-08-31T20:53:49.710170Z",
     "iopub.status.busy": "2021-08-31T20:53:49.709282Z",
     "iopub.status.idle": "2021-08-31T20:53:49.726234Z",
     "shell.execute_reply": "2021-08-31T20:53:49.725086Z"
    },
    "tags": []
   },
   "outputs": [
    {
     "data": {
      "text/html": [
       "<table class=\"dataframe\">\n",
       "<caption>A data.frame: 6 × 11</caption>\n",
       "<thead>\n",
       "\t<tr><th></th><th scope=col>Cluster</th><th scope=col>cluster</th><th scope=col>ID</th><th scope=col>Description</th><th scope=col>GeneRatio</th><th scope=col>BgRatio</th><th scope=col>pvalue</th><th scope=col>p.adjust</th><th scope=col>qvalue</th><th scope=col>geneID</th><th scope=col>Count</th></tr>\n",
       "\t<tr><th></th><th scope=col>&lt;fct&gt;</th><th scope=col>&lt;chr&gt;</th><th scope=col>&lt;chr&gt;</th><th scope=col>&lt;chr&gt;</th><th scope=col>&lt;chr&gt;</th><th scope=col>&lt;chr&gt;</th><th scope=col>&lt;dbl&gt;</th><th scope=col>&lt;dbl&gt;</th><th scope=col>&lt;lgl&gt;</th><th scope=col>&lt;chr&gt;</th><th scope=col>&lt;int&gt;</th></tr>\n",
       "</thead>\n",
       "<tbody>\n",
       "\t<tr><th scope=row>1</th><td>2 </td><td>2 </td><td>DEG</td><td>DEG</td><td>4/50</td><td>45/31057</td><td>8.433706e-07</td><td>8.433706e-07</td><td>NA</td><td>Gcnt2/Cd74/Vldlr/Meis1        </td><td>4</td></tr>\n",
       "\t<tr><th scope=row>2</th><td>3 </td><td>3 </td><td>DEG</td><td>DEG</td><td>5/50</td><td>45/31057</td><td>1.024713e-08</td><td>1.024713e-08</td><td>NA</td><td>Cd74/Pdzk1ip1/Meis1/Tgm2/Gcnt2</td><td>5</td></tr>\n",
       "\t<tr><th scope=row>3</th><td>5 </td><td>5 </td><td>DEG</td><td>DEG</td><td>2/50</td><td>45/31057</td><td>2.405947e-03</td><td>2.405947e-03</td><td>NA</td><td>Slc14a1/Meis1                 </td><td>2</td></tr>\n",
       "\t<tr><th scope=row>4</th><td>7 </td><td>7 </td><td>DEG</td><td>DEG</td><td>3/50</td><td>45/31057</td><td>5.311997e-05</td><td>5.311997e-05</td><td>NA</td><td>Tgm2/Pdzk1ip1/Meis1           </td><td>3</td></tr>\n",
       "\t<tr><th scope=row>5</th><td>9 </td><td>9 </td><td>DEG</td><td>DEG</td><td>3/50</td><td>45/31057</td><td>5.311997e-05</td><td>5.311997e-05</td><td>NA</td><td>Cd74/Gcnt2/Meis1              </td><td>3</td></tr>\n",
       "\t<tr><th scope=row>6</th><td>14</td><td>14</td><td>DEG</td><td>DEG</td><td>2/46</td><td>45/31057</td><td>2.040271e-03</td><td>2.040271e-03</td><td>NA</td><td>Vldlr/Pdzk1ip1                </td><td>2</td></tr>\n",
       "</tbody>\n",
       "</table>\n"
      ],
      "text/latex": [
       "A data.frame: 6 × 11\n",
       "\\begin{tabular}{r|lllllllllll}\n",
       "  & Cluster & cluster & ID & Description & GeneRatio & BgRatio & pvalue & p.adjust & qvalue & geneID & Count\\\\\n",
       "  & <fct> & <chr> & <chr> & <chr> & <chr> & <chr> & <dbl> & <dbl> & <lgl> & <chr> & <int>\\\\\n",
       "\\hline\n",
       "\t1 & 2  & 2  & DEG & DEG & 4/50 & 45/31057 & 8.433706e-07 & 8.433706e-07 & NA & Gcnt2/Cd74/Vldlr/Meis1         & 4\\\\\n",
       "\t2 & 3  & 3  & DEG & DEG & 5/50 & 45/31057 & 1.024713e-08 & 1.024713e-08 & NA & Cd74/Pdzk1ip1/Meis1/Tgm2/Gcnt2 & 5\\\\\n",
       "\t3 & 5  & 5  & DEG & DEG & 2/50 & 45/31057 & 2.405947e-03 & 2.405947e-03 & NA & Slc14a1/Meis1                  & 2\\\\\n",
       "\t4 & 7  & 7  & DEG & DEG & 3/50 & 45/31057 & 5.311997e-05 & 5.311997e-05 & NA & Tgm2/Pdzk1ip1/Meis1            & 3\\\\\n",
       "\t5 & 9  & 9  & DEG & DEG & 3/50 & 45/31057 & 5.311997e-05 & 5.311997e-05 & NA & Cd74/Gcnt2/Meis1               & 3\\\\\n",
       "\t6 & 14 & 14 & DEG & DEG & 2/46 & 45/31057 & 2.040271e-03 & 2.040271e-03 & NA & Vldlr/Pdzk1ip1                 & 2\\\\\n",
       "\\end{tabular}\n"
      ],
      "text/markdown": [
       "\n",
       "A data.frame: 6 × 11\n",
       "\n",
       "| <!--/--> | Cluster &lt;fct&gt; | cluster &lt;chr&gt; | ID &lt;chr&gt; | Description &lt;chr&gt; | GeneRatio &lt;chr&gt; | BgRatio &lt;chr&gt; | pvalue &lt;dbl&gt; | p.adjust &lt;dbl&gt; | qvalue &lt;lgl&gt; | geneID &lt;chr&gt; | Count &lt;int&gt; |\n",
       "|---|---|---|---|---|---|---|---|---|---|---|---|\n",
       "| 1 | 2  | 2  | DEG | DEG | 4/50 | 45/31057 | 8.433706e-07 | 8.433706e-07 | NA | Gcnt2/Cd74/Vldlr/Meis1         | 4 |\n",
       "| 2 | 3  | 3  | DEG | DEG | 5/50 | 45/31057 | 1.024713e-08 | 1.024713e-08 | NA | Cd74/Pdzk1ip1/Meis1/Tgm2/Gcnt2 | 5 |\n",
       "| 3 | 5  | 5  | DEG | DEG | 2/50 | 45/31057 | 2.405947e-03 | 2.405947e-03 | NA | Slc14a1/Meis1                  | 2 |\n",
       "| 4 | 7  | 7  | DEG | DEG | 3/50 | 45/31057 | 5.311997e-05 | 5.311997e-05 | NA | Tgm2/Pdzk1ip1/Meis1            | 3 |\n",
       "| 5 | 9  | 9  | DEG | DEG | 3/50 | 45/31057 | 5.311997e-05 | 5.311997e-05 | NA | Cd74/Gcnt2/Meis1               | 3 |\n",
       "| 6 | 14 | 14 | DEG | DEG | 2/46 | 45/31057 | 2.040271e-03 | 2.040271e-03 | NA | Vldlr/Pdzk1ip1                 | 2 |\n",
       "\n"
      ],
      "text/plain": [
       "  Cluster cluster ID  Description GeneRatio BgRatio  pvalue       p.adjust    \n",
       "1 2       2       DEG DEG         4/50      45/31057 8.433706e-07 8.433706e-07\n",
       "2 3       3       DEG DEG         5/50      45/31057 1.024713e-08 1.024713e-08\n",
       "3 5       5       DEG DEG         2/50      45/31057 2.405947e-03 2.405947e-03\n",
       "4 7       7       DEG DEG         3/50      45/31057 5.311997e-05 5.311997e-05\n",
       "5 9       9       DEG DEG         3/50      45/31057 5.311997e-05 5.311997e-05\n",
       "6 14      14      DEG DEG         2/46      45/31057 2.040271e-03 2.040271e-03\n",
       "  qvalue geneID                         Count\n",
       "1 NA     Gcnt2/Cd74/Vldlr/Meis1         4    \n",
       "2 NA     Cd74/Pdzk1ip1/Meis1/Tgm2/Gcnt2 5    \n",
       "3 NA     Slc14a1/Meis1                  2    \n",
       "4 NA     Tgm2/Pdzk1ip1/Meis1            3    \n",
       "5 NA     Cd74/Gcnt2/Meis1               3    \n",
       "6 NA     Vldlr/Pdzk1ip1                 2    "
      ]
     },
     "metadata": {},
     "output_type": "display_data"
    }
   ],
   "source": [
    "head(result)"
   ]
  },
  {
   "cell_type": "code",
   "execution_count": 67,
   "id": "9e0e1c4f-fe5d-4c6f-b895-5e44339307dc",
   "metadata": {
    "execution": {
     "iopub.execute_input": "2021-08-31T21:02:28.673516Z",
     "iopub.status.busy": "2021-08-31T21:02:28.672379Z",
     "iopub.status.idle": "2021-08-31T21:02:28.683569Z",
     "shell.execute_reply": "2021-08-31T21:02:28.682321Z"
    },
    "tags": []
   },
   "outputs": [],
   "source": [
    "result=mutate(result,qscore=-log(p.adjust, base=10))"
   ]
  },
  {
   "cell_type": "code",
   "execution_count": 68,
   "id": "60210d84-86cf-4c9e-85e7-b5a7dbc4d4a2",
   "metadata": {
    "execution": {
     "iopub.execute_input": "2021-08-31T21:02:30.003059Z",
     "iopub.status.busy": "2021-08-31T21:02:30.001933Z",
     "iopub.status.idle": "2021-08-31T21:02:30.020954Z",
     "shell.execute_reply": "2021-08-31T21:02:30.019681Z"
    },
    "tags": []
   },
   "outputs": [
    {
     "data": {
      "text/html": [
       "<table class=\"dataframe\">\n",
       "<caption>A data.frame: 6 × 12</caption>\n",
       "<thead>\n",
       "\t<tr><th></th><th scope=col>Cluster</th><th scope=col>cluster</th><th scope=col>ID</th><th scope=col>Description</th><th scope=col>GeneRatio</th><th scope=col>BgRatio</th><th scope=col>pvalue</th><th scope=col>p.adjust</th><th scope=col>qvalue</th><th scope=col>geneID</th><th scope=col>Count</th><th scope=col>qscore</th></tr>\n",
       "\t<tr><th></th><th scope=col>&lt;fct&gt;</th><th scope=col>&lt;chr&gt;</th><th scope=col>&lt;chr&gt;</th><th scope=col>&lt;chr&gt;</th><th scope=col>&lt;chr&gt;</th><th scope=col>&lt;chr&gt;</th><th scope=col>&lt;dbl&gt;</th><th scope=col>&lt;dbl&gt;</th><th scope=col>&lt;lgl&gt;</th><th scope=col>&lt;chr&gt;</th><th scope=col>&lt;int&gt;</th><th scope=col>&lt;dbl&gt;</th></tr>\n",
       "</thead>\n",
       "<tbody>\n",
       "\t<tr><th scope=row>1</th><td>2 </td><td>2 </td><td>DEG</td><td>DEG</td><td>4/50</td><td>45/31057</td><td>8.433706e-07</td><td>8.433706e-07</td><td>NA</td><td>Gcnt2/Cd74/Vldlr/Meis1        </td><td>4</td><td>6.073982</td></tr>\n",
       "\t<tr><th scope=row>2</th><td>3 </td><td>3 </td><td>DEG</td><td>DEG</td><td>5/50</td><td>45/31057</td><td>1.024713e-08</td><td>1.024713e-08</td><td>NA</td><td>Cd74/Pdzk1ip1/Meis1/Tgm2/Gcnt2</td><td>5</td><td>7.989398</td></tr>\n",
       "\t<tr><th scope=row>3</th><td>5 </td><td>5 </td><td>DEG</td><td>DEG</td><td>2/50</td><td>45/31057</td><td>2.405947e-03</td><td>2.405947e-03</td><td>NA</td><td>Slc14a1/Meis1                 </td><td>2</td><td>2.618714</td></tr>\n",
       "\t<tr><th scope=row>4</th><td>7 </td><td>7 </td><td>DEG</td><td>DEG</td><td>3/50</td><td>45/31057</td><td>5.311997e-05</td><td>5.311997e-05</td><td>NA</td><td>Tgm2/Pdzk1ip1/Meis1           </td><td>3</td><td>4.274742</td></tr>\n",
       "\t<tr><th scope=row>5</th><td>9 </td><td>9 </td><td>DEG</td><td>DEG</td><td>3/50</td><td>45/31057</td><td>5.311997e-05</td><td>5.311997e-05</td><td>NA</td><td>Cd74/Gcnt2/Meis1              </td><td>3</td><td>4.274742</td></tr>\n",
       "\t<tr><th scope=row>6</th><td>14</td><td>14</td><td>DEG</td><td>DEG</td><td>2/46</td><td>45/31057</td><td>2.040271e-03</td><td>2.040271e-03</td><td>NA</td><td>Vldlr/Pdzk1ip1                </td><td>2</td><td>2.690312</td></tr>\n",
       "</tbody>\n",
       "</table>\n"
      ],
      "text/latex": [
       "A data.frame: 6 × 12\n",
       "\\begin{tabular}{r|llllllllllll}\n",
       "  & Cluster & cluster & ID & Description & GeneRatio & BgRatio & pvalue & p.adjust & qvalue & geneID & Count & qscore\\\\\n",
       "  & <fct> & <chr> & <chr> & <chr> & <chr> & <chr> & <dbl> & <dbl> & <lgl> & <chr> & <int> & <dbl>\\\\\n",
       "\\hline\n",
       "\t1 & 2  & 2  & DEG & DEG & 4/50 & 45/31057 & 8.433706e-07 & 8.433706e-07 & NA & Gcnt2/Cd74/Vldlr/Meis1         & 4 & 6.073982\\\\\n",
       "\t2 & 3  & 3  & DEG & DEG & 5/50 & 45/31057 & 1.024713e-08 & 1.024713e-08 & NA & Cd74/Pdzk1ip1/Meis1/Tgm2/Gcnt2 & 5 & 7.989398\\\\\n",
       "\t3 & 5  & 5  & DEG & DEG & 2/50 & 45/31057 & 2.405947e-03 & 2.405947e-03 & NA & Slc14a1/Meis1                  & 2 & 2.618714\\\\\n",
       "\t4 & 7  & 7  & DEG & DEG & 3/50 & 45/31057 & 5.311997e-05 & 5.311997e-05 & NA & Tgm2/Pdzk1ip1/Meis1            & 3 & 4.274742\\\\\n",
       "\t5 & 9  & 9  & DEG & DEG & 3/50 & 45/31057 & 5.311997e-05 & 5.311997e-05 & NA & Cd74/Gcnt2/Meis1               & 3 & 4.274742\\\\\n",
       "\t6 & 14 & 14 & DEG & DEG & 2/46 & 45/31057 & 2.040271e-03 & 2.040271e-03 & NA & Vldlr/Pdzk1ip1                 & 2 & 2.690312\\\\\n",
       "\\end{tabular}\n"
      ],
      "text/markdown": [
       "\n",
       "A data.frame: 6 × 12\n",
       "\n",
       "| <!--/--> | Cluster &lt;fct&gt; | cluster &lt;chr&gt; | ID &lt;chr&gt; | Description &lt;chr&gt; | GeneRatio &lt;chr&gt; | BgRatio &lt;chr&gt; | pvalue &lt;dbl&gt; | p.adjust &lt;dbl&gt; | qvalue &lt;lgl&gt; | geneID &lt;chr&gt; | Count &lt;int&gt; | qscore &lt;dbl&gt; |\n",
       "|---|---|---|---|---|---|---|---|---|---|---|---|---|\n",
       "| 1 | 2  | 2  | DEG | DEG | 4/50 | 45/31057 | 8.433706e-07 | 8.433706e-07 | NA | Gcnt2/Cd74/Vldlr/Meis1         | 4 | 6.073982 |\n",
       "| 2 | 3  | 3  | DEG | DEG | 5/50 | 45/31057 | 1.024713e-08 | 1.024713e-08 | NA | Cd74/Pdzk1ip1/Meis1/Tgm2/Gcnt2 | 5 | 7.989398 |\n",
       "| 3 | 5  | 5  | DEG | DEG | 2/50 | 45/31057 | 2.405947e-03 | 2.405947e-03 | NA | Slc14a1/Meis1                  | 2 | 2.618714 |\n",
       "| 4 | 7  | 7  | DEG | DEG | 3/50 | 45/31057 | 5.311997e-05 | 5.311997e-05 | NA | Tgm2/Pdzk1ip1/Meis1            | 3 | 4.274742 |\n",
       "| 5 | 9  | 9  | DEG | DEG | 3/50 | 45/31057 | 5.311997e-05 | 5.311997e-05 | NA | Cd74/Gcnt2/Meis1               | 3 | 4.274742 |\n",
       "| 6 | 14 | 14 | DEG | DEG | 2/46 | 45/31057 | 2.040271e-03 | 2.040271e-03 | NA | Vldlr/Pdzk1ip1                 | 2 | 2.690312 |\n",
       "\n"
      ],
      "text/plain": [
       "  Cluster cluster ID  Description GeneRatio BgRatio  pvalue       p.adjust    \n",
       "1 2       2       DEG DEG         4/50      45/31057 8.433706e-07 8.433706e-07\n",
       "2 3       3       DEG DEG         5/50      45/31057 1.024713e-08 1.024713e-08\n",
       "3 5       5       DEG DEG         2/50      45/31057 2.405947e-03 2.405947e-03\n",
       "4 7       7       DEG DEG         3/50      45/31057 5.311997e-05 5.311997e-05\n",
       "5 9       9       DEG DEG         3/50      45/31057 5.311997e-05 5.311997e-05\n",
       "6 14      14      DEG DEG         2/46      45/31057 2.040271e-03 2.040271e-03\n",
       "  qvalue geneID                         Count qscore  \n",
       "1 NA     Gcnt2/Cd74/Vldlr/Meis1         4     6.073982\n",
       "2 NA     Cd74/Pdzk1ip1/Meis1/Tgm2/Gcnt2 5     7.989398\n",
       "3 NA     Slc14a1/Meis1                  2     2.618714\n",
       "4 NA     Tgm2/Pdzk1ip1/Meis1            3     4.274742\n",
       "5 NA     Cd74/Gcnt2/Meis1               3     4.274742\n",
       "6 NA     Vldlr/Pdzk1ip1                 2     2.690312"
      ]
     },
     "metadata": {},
     "output_type": "display_data"
    }
   ],
   "source": [
    "head(result)"
   ]
  },
  {
   "cell_type": "code",
   "execution_count": 74,
   "id": "aa2411ea-ac58-4ec9-83e4-242332875721",
   "metadata": {
    "execution": {
     "iopub.execute_input": "2021-08-31T21:11:08.310552Z",
     "iopub.status.busy": "2021-08-31T21:11:08.307617Z",
     "iopub.status.idle": "2021-08-31T21:11:08.320958Z",
     "shell.execute_reply": "2021-08-31T21:11:08.319577Z"
    },
    "tags": []
   },
   "outputs": [],
   "source": [
    "result = arrange(result, -qscore)"
   ]
  },
  {
   "cell_type": "code",
   "execution_count": 81,
   "id": "8a1b6d10-872b-46ac-9647-055439e4bc71",
   "metadata": {
    "execution": {
     "iopub.execute_input": "2021-08-31T21:13:09.729766Z",
     "iopub.status.busy": "2021-08-31T21:13:09.728685Z",
     "iopub.status.idle": "2021-08-31T21:13:09.747657Z",
     "shell.execute_reply": "2021-08-31T21:13:09.746452Z"
    },
    "tags": []
   },
   "outputs": [
    {
     "data": {
      "text/html": [
       "<table class=\"dataframe\">\n",
       "<caption>A data.frame: 8 × 12</caption>\n",
       "<thead>\n",
       "\t<tr><th></th><th scope=col>Cluster</th><th scope=col>cluster</th><th scope=col>ID</th><th scope=col>Description</th><th scope=col>GeneRatio</th><th scope=col>BgRatio</th><th scope=col>pvalue</th><th scope=col>p.adjust</th><th scope=col>qvalue</th><th scope=col>geneID</th><th scope=col>Count</th><th scope=col>qscore</th></tr>\n",
       "\t<tr><th></th><th scope=col>&lt;fct&gt;</th><th scope=col>&lt;chr&gt;</th><th scope=col>&lt;chr&gt;</th><th scope=col>&lt;chr&gt;</th><th scope=col>&lt;chr&gt;</th><th scope=col>&lt;chr&gt;</th><th scope=col>&lt;dbl&gt;</th><th scope=col>&lt;dbl&gt;</th><th scope=col>&lt;lgl&gt;</th><th scope=col>&lt;chr&gt;</th><th scope=col>&lt;int&gt;</th><th scope=col>&lt;dbl&gt;</th></tr>\n",
       "</thead>\n",
       "<tbody>\n",
       "\t<tr><th scope=row>1</th><td>3 </td><td>3 </td><td>DEG</td><td>DEG</td><td>5/50</td><td>45/31057</td><td>1.024713e-08</td><td>1.024713e-08</td><td>NA</td><td>Cd74/Pdzk1ip1/Meis1/Tgm2/Gcnt2</td><td>5</td><td>7.989398</td></tr>\n",
       "\t<tr><th scope=row>2</th><td>2 </td><td>2 </td><td>DEG</td><td>DEG</td><td>4/50</td><td>45/31057</td><td>8.433706e-07</td><td>8.433706e-07</td><td>NA</td><td>Gcnt2/Cd74/Vldlr/Meis1        </td><td>4</td><td>6.073982</td></tr>\n",
       "\t<tr><th scope=row>3</th><td>7 </td><td>7 </td><td>DEG</td><td>DEG</td><td>3/50</td><td>45/31057</td><td>5.311997e-05</td><td>5.311997e-05</td><td>NA</td><td>Tgm2/Pdzk1ip1/Meis1           </td><td>3</td><td>4.274742</td></tr>\n",
       "\t<tr><th scope=row>4</th><td>9 </td><td>9 </td><td>DEG</td><td>DEG</td><td>3/50</td><td>45/31057</td><td>5.311997e-05</td><td>5.311997e-05</td><td>NA</td><td>Cd74/Gcnt2/Meis1              </td><td>3</td><td>4.274742</td></tr>\n",
       "\t<tr><th scope=row>5</th><td>14</td><td>14</td><td>DEG</td><td>DEG</td><td>2/46</td><td>45/31057</td><td>2.040271e-03</td><td>2.040271e-03</td><td>NA</td><td>Vldlr/Pdzk1ip1                </td><td>2</td><td>2.690312</td></tr>\n",
       "\t<tr><th scope=row>6</th><td>5 </td><td>5 </td><td>DEG</td><td>DEG</td><td>2/50</td><td>45/31057</td><td>2.405947e-03</td><td>2.405947e-03</td><td>NA</td><td>Slc14a1/Meis1                 </td><td>2</td><td>2.618714</td></tr>\n",
       "\t<tr><th scope=row>7</th><td>16</td><td>16</td><td>DEG</td><td>DEG</td><td>2/50</td><td>45/31057</td><td>2.405947e-03</td><td>2.405947e-03</td><td>NA</td><td>Ccl5/Ahnak                    </td><td>2</td><td>2.618714</td></tr>\n",
       "\t<tr><th scope=row>8</th><td>15</td><td>15</td><td>DEG</td><td>DEG</td><td>1/50</td><td>45/31057</td><td>6.998751e-02</td><td>6.998751e-02</td><td>NA</td><td>Ahnak                         </td><td>1</td><td>1.154979</td></tr>\n",
       "</tbody>\n",
       "</table>\n"
      ],
      "text/latex": [
       "A data.frame: 8 × 12\n",
       "\\begin{tabular}{r|llllllllllll}\n",
       "  & Cluster & cluster & ID & Description & GeneRatio & BgRatio & pvalue & p.adjust & qvalue & geneID & Count & qscore\\\\\n",
       "  & <fct> & <chr> & <chr> & <chr> & <chr> & <chr> & <dbl> & <dbl> & <lgl> & <chr> & <int> & <dbl>\\\\\n",
       "\\hline\n",
       "\t1 & 3  & 3  & DEG & DEG & 5/50 & 45/31057 & 1.024713e-08 & 1.024713e-08 & NA & Cd74/Pdzk1ip1/Meis1/Tgm2/Gcnt2 & 5 & 7.989398\\\\\n",
       "\t2 & 2  & 2  & DEG & DEG & 4/50 & 45/31057 & 8.433706e-07 & 8.433706e-07 & NA & Gcnt2/Cd74/Vldlr/Meis1         & 4 & 6.073982\\\\\n",
       "\t3 & 7  & 7  & DEG & DEG & 3/50 & 45/31057 & 5.311997e-05 & 5.311997e-05 & NA & Tgm2/Pdzk1ip1/Meis1            & 3 & 4.274742\\\\\n",
       "\t4 & 9  & 9  & DEG & DEG & 3/50 & 45/31057 & 5.311997e-05 & 5.311997e-05 & NA & Cd74/Gcnt2/Meis1               & 3 & 4.274742\\\\\n",
       "\t5 & 14 & 14 & DEG & DEG & 2/46 & 45/31057 & 2.040271e-03 & 2.040271e-03 & NA & Vldlr/Pdzk1ip1                 & 2 & 2.690312\\\\\n",
       "\t6 & 5  & 5  & DEG & DEG & 2/50 & 45/31057 & 2.405947e-03 & 2.405947e-03 & NA & Slc14a1/Meis1                  & 2 & 2.618714\\\\\n",
       "\t7 & 16 & 16 & DEG & DEG & 2/50 & 45/31057 & 2.405947e-03 & 2.405947e-03 & NA & Ccl5/Ahnak                     & 2 & 2.618714\\\\\n",
       "\t8 & 15 & 15 & DEG & DEG & 1/50 & 45/31057 & 6.998751e-02 & 6.998751e-02 & NA & Ahnak                          & 1 & 1.154979\\\\\n",
       "\\end{tabular}\n"
      ],
      "text/markdown": [
       "\n",
       "A data.frame: 8 × 12\n",
       "\n",
       "| <!--/--> | Cluster &lt;fct&gt; | cluster &lt;chr&gt; | ID &lt;chr&gt; | Description &lt;chr&gt; | GeneRatio &lt;chr&gt; | BgRatio &lt;chr&gt; | pvalue &lt;dbl&gt; | p.adjust &lt;dbl&gt; | qvalue &lt;lgl&gt; | geneID &lt;chr&gt; | Count &lt;int&gt; | qscore &lt;dbl&gt; |\n",
       "|---|---|---|---|---|---|---|---|---|---|---|---|---|\n",
       "| 1 | 3  | 3  | DEG | DEG | 5/50 | 45/31057 | 1.024713e-08 | 1.024713e-08 | NA | Cd74/Pdzk1ip1/Meis1/Tgm2/Gcnt2 | 5 | 7.989398 |\n",
       "| 2 | 2  | 2  | DEG | DEG | 4/50 | 45/31057 | 8.433706e-07 | 8.433706e-07 | NA | Gcnt2/Cd74/Vldlr/Meis1         | 4 | 6.073982 |\n",
       "| 3 | 7  | 7  | DEG | DEG | 3/50 | 45/31057 | 5.311997e-05 | 5.311997e-05 | NA | Tgm2/Pdzk1ip1/Meis1            | 3 | 4.274742 |\n",
       "| 4 | 9  | 9  | DEG | DEG | 3/50 | 45/31057 | 5.311997e-05 | 5.311997e-05 | NA | Cd74/Gcnt2/Meis1               | 3 | 4.274742 |\n",
       "| 5 | 14 | 14 | DEG | DEG | 2/46 | 45/31057 | 2.040271e-03 | 2.040271e-03 | NA | Vldlr/Pdzk1ip1                 | 2 | 2.690312 |\n",
       "| 6 | 5  | 5  | DEG | DEG | 2/50 | 45/31057 | 2.405947e-03 | 2.405947e-03 | NA | Slc14a1/Meis1                  | 2 | 2.618714 |\n",
       "| 7 | 16 | 16 | DEG | DEG | 2/50 | 45/31057 | 2.405947e-03 | 2.405947e-03 | NA | Ccl5/Ahnak                     | 2 | 2.618714 |\n",
       "| 8 | 15 | 15 | DEG | DEG | 1/50 | 45/31057 | 6.998751e-02 | 6.998751e-02 | NA | Ahnak                          | 1 | 1.154979 |\n",
       "\n"
      ],
      "text/plain": [
       "  Cluster cluster ID  Description GeneRatio BgRatio  pvalue       p.adjust    \n",
       "1 3       3       DEG DEG         5/50      45/31057 1.024713e-08 1.024713e-08\n",
       "2 2       2       DEG DEG         4/50      45/31057 8.433706e-07 8.433706e-07\n",
       "3 7       7       DEG DEG         3/50      45/31057 5.311997e-05 5.311997e-05\n",
       "4 9       9       DEG DEG         3/50      45/31057 5.311997e-05 5.311997e-05\n",
       "5 14      14      DEG DEG         2/46      45/31057 2.040271e-03 2.040271e-03\n",
       "6 5       5       DEG DEG         2/50      45/31057 2.405947e-03 2.405947e-03\n",
       "7 16      16      DEG DEG         2/50      45/31057 2.405947e-03 2.405947e-03\n",
       "8 15      15      DEG DEG         1/50      45/31057 6.998751e-02 6.998751e-02\n",
       "  qvalue geneID                         Count qscore  \n",
       "1 NA     Cd74/Pdzk1ip1/Meis1/Tgm2/Gcnt2 5     7.989398\n",
       "2 NA     Gcnt2/Cd74/Vldlr/Meis1         4     6.073982\n",
       "3 NA     Tgm2/Pdzk1ip1/Meis1            3     4.274742\n",
       "4 NA     Cd74/Gcnt2/Meis1               3     4.274742\n",
       "5 NA     Vldlr/Pdzk1ip1                 2     2.690312\n",
       "6 NA     Slc14a1/Meis1                  2     2.618714\n",
       "7 NA     Ccl5/Ahnak                     2     2.618714\n",
       "8 NA     Ahnak                          1     1.154979"
      ]
     },
     "metadata": {},
     "output_type": "display_data"
    }
   ],
   "source": [
    "head(result,n=20)"
   ]
  },
  {
   "cell_type": "code",
   "execution_count": 99,
   "id": "859f8206-7db7-4f8c-a4e1-0269bcee80cf",
   "metadata": {
    "execution": {
     "iopub.execute_input": "2021-08-31T21:35:31.739369Z",
     "iopub.status.busy": "2021-08-31T21:35:31.738297Z",
     "iopub.status.idle": "2021-08-31T21:35:31.922209Z",
     "shell.execute_reply": "2021-08-31T21:35:31.921091Z"
    },
    "tags": []
   },
   "outputs": [
    {
     "data": {
      "image/png": "[encoded data removed]",
      "text/plain": [
       "plot without title"
      ]
     },
     "metadata": {
      "image/png": {
       "height": 600,
       "width": 600
      }
     },
     "output_type": "display_data"
    }
   ],
   "source": [
    "ggplot(data=result,aes(x=Count,y=cluster,fill=qscore))+geom_bar(stat=\"identity\")+scale_fill_continuous(low=\"blue\", high=\"red\")"
   ]
  },
  {
   "cell_type": "code",
   "execution_count": null,
   "id": "c4a1577a-c0fa-4a64-ad5a-889d33f30d58",
   "metadata": {},
   "outputs": [],
   "source": []
  },
  {
   "cell_type": "code",
   "execution_count": 83,
   "id": "6b7cd72e-ca29-4b01-baae-a23604dcc8d5",
   "metadata": {
    "execution": {
     "iopub.execute_input": "2021-08-31T21:16:40.112265Z",
     "iopub.status.busy": "2021-08-31T21:16:40.111021Z",
     "iopub.status.idle": "2021-08-31T21:16:41.029709Z",
     "shell.execute_reply": "2021-08-31T21:16:41.028444Z"
    }
   },
   "outputs": [
    {
     "data": {
      "text/html": [
       "<table class=\"dataframe\">\n",
       "<caption>A data.frame: 10 × 14</caption>\n",
       "<thead>\n",
       "\t<tr><th></th><th scope=col>orig.ident</th><th scope=col>nCount_RNA</th><th scope=col>nFeature_RNA</th><th scope=col>nCount_ADT</th><th scope=col>nFeature_ADT</th><th scope=col>percent.mt</th><th scope=col>RNA.weight</th><th scope=col>ADT.weight</th><th scope=col>wsnn_res.1</th><th scope=col>seurat_clusters</th><th scope=col>Blood_pred</th><th scope=col>BM_pred</th><th scope=col>Bone_pred</th><th scope=col>id</th></tr>\n",
       "\t<tr><th></th><th scope=col>&lt;chr&gt;</th><th scope=col>&lt;dbl&gt;</th><th scope=col>&lt;int&gt;</th><th scope=col>&lt;dbl&gt;</th><th scope=col>&lt;int&gt;</th><th scope=col>&lt;dbl&gt;</th><th scope=col>&lt;dbl&gt;</th><th scope=col>&lt;dbl&gt;</th><th scope=col>&lt;fct&gt;</th><th scope=col>&lt;fct&gt;</th><th scope=col>&lt;fct&gt;</th><th scope=col>&lt;fct&gt;</th><th scope=col>&lt;fct&gt;</th><th scope=col>&lt;chr&gt;</th></tr>\n",
       "</thead>\n",
       "<tbody>\n",
       "\t<tr><th scope=row>mWT_AAACCCAAGTGATCGG-1</th><td>mWT</td><td> 3787</td><td>1690</td><td>103</td><td>7</td><td>5.307631</td><td>0.129729865</td><td>0.8702701</td><td>9</td><td>9</td><td>9</td><td>9                      </td><td>9                      </td><td>reference</td></tr>\n",
       "\t<tr><th scope=row>mWT_AAACCCACAAACCATC-1</th><td>mWT</td><td>13420</td><td>3991</td><td>284</td><td>8</td><td>3.204173</td><td>0.040801805</td><td>0.9591982</td><td>3</td><td>3</td><td>3</td><td>Hematopoietic Stem Cell</td><td>3                      </td><td>reference</td></tr>\n",
       "\t<tr><th scope=row>mWT_AAACCCACAGCCATTA-1</th><td>mWT</td><td>11463</td><td>3649</td><td>180</td><td>8</td><td>2.852656</td><td>0.118308303</td><td>0.8816917</td><td>9</td><td>9</td><td>9</td><td>9                      </td><td>9                      </td><td>reference</td></tr>\n",
       "\t<tr><th scope=row>mWT_AAACCCATCTGTCCCA-1</th><td>mWT</td><td> 4328</td><td>1881</td><td> 58</td><td>7</td><td>4.875231</td><td>0.131311467</td><td>0.8686885</td><td>2</td><td>2</td><td>2</td><td>Hematopoietic Stem Cell</td><td>Hematopoietic Stem Cell</td><td>reference</td></tr>\n",
       "\t<tr><th scope=row>mWT_AAACGAATCGAAGGAC-1</th><td>mWT</td><td> 3817</td><td>1681</td><td>129</td><td>8</td><td>5.789887</td><td>0.218265923</td><td>0.7817341</td><td>2</td><td>2</td><td>2</td><td>Hematopoietic Stem Cell</td><td>Hematopoietic Stem Cell</td><td>reference</td></tr>\n",
       "\t<tr><th scope=row>mWT_AAACGAATCGGCTTCT-1</th><td>mWT</td><td> 2896</td><td>1274</td><td>107</td><td>7</td><td>5.352210</td><td>0.140741945</td><td>0.8592581</td><td>9</td><td>9</td><td>9</td><td>9                      </td><td>9                      </td><td>reference</td></tr>\n",
       "\t<tr><th scope=row>mWT_AAACGCTCAAGTGACG-1</th><td>mWT</td><td> 4721</td><td>1961</td><td>114</td><td>8</td><td>5.994493</td><td>0.042580206</td><td>0.9574198</td><td>2</td><td>2</td><td>2</td><td>Hematopoietic Stem Cell</td><td>Hematopoietic Stem Cell</td><td>reference</td></tr>\n",
       "\t<tr><th scope=row>mWT_AAAGAACAGGAAAGGT-1</th><td>mWT</td><td> 3803</td><td>1640</td><td>161</td><td>8</td><td>6.021562</td><td>0.002434168</td><td>0.9975658</td><td>2</td><td>2</td><td>2</td><td>Hematopoietic Stem Cell</td><td>Hematopoietic Stem Cell</td><td>reference</td></tr>\n",
       "\t<tr><th scope=row>mWT_AAAGGATTCACCACAA-1</th><td>mWT</td><td> 5210</td><td>2082</td><td> 46</td><td>8</td><td>5.239923</td><td>0.081846468</td><td>0.9181535</td><td>2</td><td>2</td><td>2</td><td>Hematopoietic Stem Cell</td><td>Hematopoietic Stem Cell</td><td>reference</td></tr>\n",
       "\t<tr><th scope=row>mWT_AAAGGTACAAGAGCTG-1</th><td>mWT</td><td> 5832</td><td>2150</td><td>136</td><td>7</td><td>5.006859</td><td>0.163492916</td><td>0.8365071</td><td>9</td><td>9</td><td>9</td><td>9                      </td><td>9                      </td><td>reference</td></tr>\n",
       "</tbody>\n",
       "</table>\n"
      ],
      "text/latex": [
       "A data.frame: 10 × 14\n",
       "\\begin{tabular}{r|llllllllllllll}\n",
       "  & orig.ident & nCount\\_RNA & nFeature\\_RNA & nCount\\_ADT & nFeature\\_ADT & percent.mt & RNA.weight & ADT.weight & wsnn\\_res.1 & seurat\\_clusters & Blood\\_pred & BM\\_pred & Bone\\_pred & id\\\\\n",
       "  & <chr> & <dbl> & <int> & <dbl> & <int> & <dbl> & <dbl> & <dbl> & <fct> & <fct> & <fct> & <fct> & <fct> & <chr>\\\\\n",
       "\\hline\n",
       "\tmWT\\_AAACCCAAGTGATCGG-1 & mWT &  3787 & 1690 & 103 & 7 & 5.307631 & 0.129729865 & 0.8702701 & 9 & 9 & 9 & 9                       & 9                       & reference\\\\\n",
       "\tmWT\\_AAACCCACAAACCATC-1 & mWT & 13420 & 3991 & 284 & 8 & 3.204173 & 0.040801805 & 0.9591982 & 3 & 3 & 3 & Hematopoietic Stem Cell & 3                       & reference\\\\\n",
       "\tmWT\\_AAACCCACAGCCATTA-1 & mWT & 11463 & 3649 & 180 & 8 & 2.852656 & 0.118308303 & 0.8816917 & 9 & 9 & 9 & 9                       & 9                       & reference\\\\\n",
       "\tmWT\\_AAACCCATCTGTCCCA-1 & mWT &  4328 & 1881 &  58 & 7 & 4.875231 & 0.131311467 & 0.8686885 & 2 & 2 & 2 & Hematopoietic Stem Cell & Hematopoietic Stem Cell & reference\\\\\n",
       "\tmWT\\_AAACGAATCGAAGGAC-1 & mWT &  3817 & 1681 & 129 & 8 & 5.789887 & 0.218265923 & 0.7817341 & 2 & 2 & 2 & Hematopoietic Stem Cell & Hematopoietic Stem Cell & reference\\\\\n",
       "\tmWT\\_AAACGAATCGGCTTCT-1 & mWT &  2896 & 1274 & 107 & 7 & 5.352210 & 0.140741945 & 0.8592581 & 9 & 9 & 9 & 9                       & 9                       & reference\\\\\n",
       "\tmWT\\_AAACGCTCAAGTGACG-1 & mWT &  4721 & 1961 & 114 & 8 & 5.994493 & 0.042580206 & 0.9574198 & 2 & 2 & 2 & Hematopoietic Stem Cell & Hematopoietic Stem Cell & reference\\\\\n",
       "\tmWT\\_AAAGAACAGGAAAGGT-1 & mWT &  3803 & 1640 & 161 & 8 & 6.021562 & 0.002434168 & 0.9975658 & 2 & 2 & 2 & Hematopoietic Stem Cell & Hematopoietic Stem Cell & reference\\\\\n",
       "\tmWT\\_AAAGGATTCACCACAA-1 & mWT &  5210 & 2082 &  46 & 8 & 5.239923 & 0.081846468 & 0.9181535 & 2 & 2 & 2 & Hematopoietic Stem Cell & Hematopoietic Stem Cell & reference\\\\\n",
       "\tmWT\\_AAAGGTACAAGAGCTG-1 & mWT &  5832 & 2150 & 136 & 7 & 5.006859 & 0.163492916 & 0.8365071 & 9 & 9 & 9 & 9                       & 9                       & reference\\\\\n",
       "\\end{tabular}\n"
      ],
      "text/markdown": [
       "\n",
       "A data.frame: 10 × 14\n",
       "\n",
       "| <!--/--> | orig.ident &lt;chr&gt; | nCount_RNA &lt;dbl&gt; | nFeature_RNA &lt;int&gt; | nCount_ADT &lt;dbl&gt; | nFeature_ADT &lt;int&gt; | percent.mt &lt;dbl&gt; | RNA.weight &lt;dbl&gt; | ADT.weight &lt;dbl&gt; | wsnn_res.1 &lt;fct&gt; | seurat_clusters &lt;fct&gt; | Blood_pred &lt;fct&gt; | BM_pred &lt;fct&gt; | Bone_pred &lt;fct&gt; | id &lt;chr&gt; |\n",
       "|---|---|---|---|---|---|---|---|---|---|---|---|---|---|---|\n",
       "| mWT_AAACCCAAGTGATCGG-1 | mWT |  3787 | 1690 | 103 | 7 | 5.307631 | 0.129729865 | 0.8702701 | 9 | 9 | 9 | 9                       | 9                       | reference |\n",
       "| mWT_AAACCCACAAACCATC-1 | mWT | 13420 | 3991 | 284 | 8 | 3.204173 | 0.040801805 | 0.9591982 | 3 | 3 | 3 | Hematopoietic Stem Cell | 3                       | reference |\n",
       "| mWT_AAACCCACAGCCATTA-1 | mWT | 11463 | 3649 | 180 | 8 | 2.852656 | 0.118308303 | 0.8816917 | 9 | 9 | 9 | 9                       | 9                       | reference |\n",
       "| mWT_AAACCCATCTGTCCCA-1 | mWT |  4328 | 1881 |  58 | 7 | 4.875231 | 0.131311467 | 0.8686885 | 2 | 2 | 2 | Hematopoietic Stem Cell | Hematopoietic Stem Cell | reference |\n",
       "| mWT_AAACGAATCGAAGGAC-1 | mWT |  3817 | 1681 | 129 | 8 | 5.789887 | 0.218265923 | 0.7817341 | 2 | 2 | 2 | Hematopoietic Stem Cell | Hematopoietic Stem Cell | reference |\n",
       "| mWT_AAACGAATCGGCTTCT-1 | mWT |  2896 | 1274 | 107 | 7 | 5.352210 | 0.140741945 | 0.8592581 | 9 | 9 | 9 | 9                       | 9                       | reference |\n",
       "| mWT_AAACGCTCAAGTGACG-1 | mWT |  4721 | 1961 | 114 | 8 | 5.994493 | 0.042580206 | 0.9574198 | 2 | 2 | 2 | Hematopoietic Stem Cell | Hematopoietic Stem Cell | reference |\n",
       "| mWT_AAAGAACAGGAAAGGT-1 | mWT |  3803 | 1640 | 161 | 8 | 6.021562 | 0.002434168 | 0.9975658 | 2 | 2 | 2 | Hematopoietic Stem Cell | Hematopoietic Stem Cell | reference |\n",
       "| mWT_AAAGGATTCACCACAA-1 | mWT |  5210 | 2082 |  46 | 8 | 5.239923 | 0.081846468 | 0.9181535 | 2 | 2 | 2 | Hematopoietic Stem Cell | Hematopoietic Stem Cell | reference |\n",
       "| mWT_AAAGGTACAAGAGCTG-1 | mWT |  5832 | 2150 | 136 | 7 | 5.006859 | 0.163492916 | 0.8365071 | 9 | 9 | 9 | 9                       | 9                       | reference |\n",
       "\n"
      ],
      "text/plain": [
       "                       orig.ident nCount_RNA nFeature_RNA nCount_ADT\n",
       "mWT_AAACCCAAGTGATCGG-1 mWT         3787      1690         103       \n",
       "mWT_AAACCCACAAACCATC-1 mWT        13420      3991         284       \n",
       "mWT_AAACCCACAGCCATTA-1 mWT        11463      3649         180       \n",
       "mWT_AAACCCATCTGTCCCA-1 mWT         4328      1881          58       \n",
       "mWT_AAACGAATCGAAGGAC-1 mWT         3817      1681         129       \n",
       "mWT_AAACGAATCGGCTTCT-1 mWT         2896      1274         107       \n",
       "mWT_AAACGCTCAAGTGACG-1 mWT         4721      1961         114       \n",
       "mWT_AAAGAACAGGAAAGGT-1 mWT         3803      1640         161       \n",
       "mWT_AAAGGATTCACCACAA-1 mWT         5210      2082          46       \n",
       "mWT_AAAGGTACAAGAGCTG-1 mWT         5832      2150         136       \n",
       "                       nFeature_ADT percent.mt RNA.weight  ADT.weight\n",
       "mWT_AAACCCAAGTGATCGG-1 7            5.307631   0.129729865 0.8702701 \n",
       "mWT_AAACCCACAAACCATC-1 8            3.204173   0.040801805 0.9591982 \n",
       "mWT_AAACCCACAGCCATTA-1 8            2.852656   0.118308303 0.8816917 \n",
       "mWT_AAACCCATCTGTCCCA-1 7            4.875231   0.131311467 0.8686885 \n",
       "mWT_AAACGAATCGAAGGAC-1 8            5.789887   0.218265923 0.7817341 \n",
       "mWT_AAACGAATCGGCTTCT-1 7            5.352210   0.140741945 0.8592581 \n",
       "mWT_AAACGCTCAAGTGACG-1 8            5.994493   0.042580206 0.9574198 \n",
       "mWT_AAAGAACAGGAAAGGT-1 8            6.021562   0.002434168 0.9975658 \n",
       "mWT_AAAGGATTCACCACAA-1 8            5.239923   0.081846468 0.9181535 \n",
       "mWT_AAAGGTACAAGAGCTG-1 7            5.006859   0.163492916 0.8365071 \n",
       "                       wsnn_res.1 seurat_clusters Blood_pred\n",
       "mWT_AAACCCAAGTGATCGG-1 9          9               9         \n",
       "mWT_AAACCCACAAACCATC-1 3          3               3         \n",
       "mWT_AAACCCACAGCCATTA-1 9          9               9         \n",
       "mWT_AAACCCATCTGTCCCA-1 2          2               2         \n",
       "mWT_AAACGAATCGAAGGAC-1 2          2               2         \n",
       "mWT_AAACGAATCGGCTTCT-1 9          9               9         \n",
       "mWT_AAACGCTCAAGTGACG-1 2          2               2         \n",
       "mWT_AAAGAACAGGAAAGGT-1 2          2               2         \n",
       "mWT_AAAGGATTCACCACAA-1 2          2               2         \n",
       "mWT_AAAGGTACAAGAGCTG-1 9          9               9         \n",
       "                       BM_pred                 Bone_pred              \n",
       "mWT_AAACCCAAGTGATCGG-1 9                       9                      \n",
       "mWT_AAACCCACAAACCATC-1 Hematopoietic Stem Cell 3                      \n",
       "mWT_AAACCCACAGCCATTA-1 9                       9                      \n",
       "mWT_AAACCCATCTGTCCCA-1 Hematopoietic Stem Cell Hematopoietic Stem Cell\n",
       "mWT_AAACGAATCGAAGGAC-1 Hematopoietic Stem Cell Hematopoietic Stem Cell\n",
       "mWT_AAACGAATCGGCTTCT-1 9                       9                      \n",
       "mWT_AAACGCTCAAGTGACG-1 Hematopoietic Stem Cell Hematopoietic Stem Cell\n",
       "mWT_AAAGAACAGGAAAGGT-1 Hematopoietic Stem Cell Hematopoietic Stem Cell\n",
       "mWT_AAAGGATTCACCACAA-1 Hematopoietic Stem Cell Hematopoietic Stem Cell\n",
       "mWT_AAAGGTACAAGAGCTG-1 9                       9                      \n",
       "                       id       \n",
       "mWT_AAACCCAAGTGATCGG-1 reference\n",
       "mWT_AAACCCACAAACCATC-1 reference\n",
       "mWT_AAACCCACAGCCATTA-1 reference\n",
       "mWT_AAACCCATCTGTCCCA-1 reference\n",
       "mWT_AAACGAATCGAAGGAC-1 reference\n",
       "mWT_AAACGAATCGGCTTCT-1 reference\n",
       "mWT_AAACGCTCAAGTGACG-1 reference\n",
       "mWT_AAAGAACAGGAAAGGT-1 reference\n",
       "mWT_AAAGGATTCACCACAA-1 reference\n",
       "mWT_AAAGGTACAAGAGCTG-1 reference"
      ]
     },
     "metadata": {},
     "output_type": "display_data"
    }
   ],
   "source": [
    "HSC=subset(x = merged_obj, idents  = c(\"2\",\"3\",\"7\",\"9\"))\n",
    "head(HSC)"
   ]
  },
  {
   "cell_type": "code",
   "execution_count": 84,
   "id": "bb16bcb5-b768-469b-8bfb-74798df663f0",
   "metadata": {
    "execution": {
     "iopub.execute_input": "2021-08-31T21:17:24.975276Z",
     "iopub.status.busy": "2021-08-31T21:17:24.974044Z",
     "iopub.status.idle": "2021-08-31T21:17:34.803027Z",
     "shell.execute_reply": "2021-08-31T21:17:34.801587Z"
    }
   },
   "outputs": [
    {
     "name": "stderr",
     "output_type": "stream",
     "text": [
      "Calculating cluster 2\n",
      "\n",
      "Calculating cluster 3\n",
      "\n",
      "Calculating cluster 7\n",
      "\n",
      "Calculating cluster 9\n",
      "\n"
     ]
    },
    {
     "ename": "ERROR",
     "evalue": "Error in corrplot(cor.exp, method = \"number\", is.corr = FALSE, col = rev(brewer.pal(n = 10, : could not find function \"corrplot\"\n",
     "output_type": "error",
     "traceback": [
      "Error in corrplot(cor.exp, method = \"number\", is.corr = FALSE, col = rev(brewer.pal(n = 10, : could not find function \"corrplot\"\nTraceback:\n"
     ]
    }
   ],
   "source": [
    "options(repr.plot.width = 10, repr.plot.height = 10)\n",
    "markers2 <- FindAllMarkers(HSC, min.pct = 0.2, logfc.threshold = 0.2,test.use=\"wilcox\")\n"
   ]
  },
  {
   "cell_type": "code",
   "execution_count": 85,
   "id": "32ff2803-c9ab-4f28-83b3-f175da4dd56b",
   "metadata": {
    "execution": {
     "iopub.execute_input": "2021-08-31T21:19:59.007642Z",
     "iopub.status.busy": "2021-08-31T21:19:59.006505Z",
     "iopub.status.idle": "2021-08-31T21:19:59.025215Z",
     "shell.execute_reply": "2021-08-31T21:19:59.023798Z"
    },
    "tags": []
   },
   "outputs": [
    {
     "data": {
      "text/html": [
       "<table class=\"dataframe\">\n",
       "<caption>A data.frame: 6 × 7</caption>\n",
       "<thead>\n",
       "\t<tr><th></th><th scope=col>p_val</th><th scope=col>avg_log2FC</th><th scope=col>pct.1</th><th scope=col>pct.2</th><th scope=col>p_val_adj</th><th scope=col>cluster</th><th scope=col>gene</th></tr>\n",
       "\t<tr><th></th><th scope=col>&lt;dbl&gt;</th><th scope=col>&lt;dbl&gt;</th><th scope=col>&lt;dbl&gt;</th><th scope=col>&lt;dbl&gt;</th><th scope=col>&lt;dbl&gt;</th><th scope=col>&lt;fct&gt;</th><th scope=col>&lt;chr&gt;</th></tr>\n",
       "</thead>\n",
       "<tbody>\n",
       "\t<tr><th scope=row>Wfdc17</th><td>8.151739e-102</td><td> 1.1314281</td><td>0.356</td><td>0.100</td><td>2.531359e-97</td><td>2</td><td>Wfdc17 </td></tr>\n",
       "\t<tr><th scope=row>H2afy</th><td>1.592893e-101</td><td> 0.7881931</td><td>0.935</td><td>0.898</td><td>4.946411e-97</td><td>2</td><td>H2afy  </td></tr>\n",
       "\t<tr><th scope=row>Cd34</th><td> 3.769291e-95</td><td> 0.7654281</td><td>0.651</td><td>0.380</td><td>1.170478e-90</td><td>2</td><td>Cd34   </td></tr>\n",
       "\t<tr><th scope=row>Flt3</th><td> 9.976010e-84</td><td> 0.6416433</td><td>0.326</td><td>0.097</td><td>3.097850e-79</td><td>2</td><td>Flt3   </td></tr>\n",
       "\t<tr><th scope=row>Ramp1</th><td> 2.184882e-80</td><td> 0.6177680</td><td>0.858</td><td>0.722</td><td>6.784714e-76</td><td>2</td><td>Ramp1  </td></tr>\n",
       "\t<tr><th scope=row>Aldh1a1</th><td> 2.021345e-79</td><td>-0.6234296</td><td>0.094</td><td>0.354</td><td>6.276883e-75</td><td>2</td><td>Aldh1a1</td></tr>\n",
       "</tbody>\n",
       "</table>\n"
      ],
      "text/latex": [
       "A data.frame: 6 × 7\n",
       "\\begin{tabular}{r|lllllll}\n",
       "  & p\\_val & avg\\_log2FC & pct.1 & pct.2 & p\\_val\\_adj & cluster & gene\\\\\n",
       "  & <dbl> & <dbl> & <dbl> & <dbl> & <dbl> & <fct> & <chr>\\\\\n",
       "\\hline\n",
       "\tWfdc17 & 8.151739e-102 &  1.1314281 & 0.356 & 0.100 & 2.531359e-97 & 2 & Wfdc17 \\\\\n",
       "\tH2afy & 1.592893e-101 &  0.7881931 & 0.935 & 0.898 & 4.946411e-97 & 2 & H2afy  \\\\\n",
       "\tCd34 &  3.769291e-95 &  0.7654281 & 0.651 & 0.380 & 1.170478e-90 & 2 & Cd34   \\\\\n",
       "\tFlt3 &  9.976010e-84 &  0.6416433 & 0.326 & 0.097 & 3.097850e-79 & 2 & Flt3   \\\\\n",
       "\tRamp1 &  2.184882e-80 &  0.6177680 & 0.858 & 0.722 & 6.784714e-76 & 2 & Ramp1  \\\\\n",
       "\tAldh1a1 &  2.021345e-79 & -0.6234296 & 0.094 & 0.354 & 6.276883e-75 & 2 & Aldh1a1\\\\\n",
       "\\end{tabular}\n"
      ],
      "text/markdown": [
       "\n",
       "A data.frame: 6 × 7\n",
       "\n",
       "| <!--/--> | p_val &lt;dbl&gt; | avg_log2FC &lt;dbl&gt; | pct.1 &lt;dbl&gt; | pct.2 &lt;dbl&gt; | p_val_adj &lt;dbl&gt; | cluster &lt;fct&gt; | gene &lt;chr&gt; |\n",
       "|---|---|---|---|---|---|---|---|\n",
       "| Wfdc17 | 8.151739e-102 |  1.1314281 | 0.356 | 0.100 | 2.531359e-97 | 2 | Wfdc17  |\n",
       "| H2afy | 1.592893e-101 |  0.7881931 | 0.935 | 0.898 | 4.946411e-97 | 2 | H2afy   |\n",
       "| Cd34 |  3.769291e-95 |  0.7654281 | 0.651 | 0.380 | 1.170478e-90 | 2 | Cd34    |\n",
       "| Flt3 |  9.976010e-84 |  0.6416433 | 0.326 | 0.097 | 3.097850e-79 | 2 | Flt3    |\n",
       "| Ramp1 |  2.184882e-80 |  0.6177680 | 0.858 | 0.722 | 6.784714e-76 | 2 | Ramp1   |\n",
       "| Aldh1a1 |  2.021345e-79 | -0.6234296 | 0.094 | 0.354 | 6.276883e-75 | 2 | Aldh1a1 |\n",
       "\n"
      ],
      "text/plain": [
       "        p_val         avg_log2FC pct.1 pct.2 p_val_adj    cluster gene   \n",
       "Wfdc17  8.151739e-102  1.1314281 0.356 0.100 2.531359e-97 2       Wfdc17 \n",
       "H2afy   1.592893e-101  0.7881931 0.935 0.898 4.946411e-97 2       H2afy  \n",
       "Cd34     3.769291e-95  0.7654281 0.651 0.380 1.170478e-90 2       Cd34   \n",
       "Flt3     9.976010e-84  0.6416433 0.326 0.097 3.097850e-79 2       Flt3   \n",
       "Ramp1    2.184882e-80  0.6177680 0.858 0.722 6.784714e-76 2       Ramp1  \n",
       "Aldh1a1  2.021345e-79 -0.6234296 0.094 0.354 6.276883e-75 2       Aldh1a1"
      ]
     },
     "metadata": {},
     "output_type": "display_data"
    }
   ],
   "source": [
    "head(markers2)"
   ]
  },
  {
   "cell_type": "code",
   "execution_count": 91,
   "id": "67c468ec-35c9-4c4b-a068-09180b685973",
   "metadata": {
    "execution": {
     "iopub.execute_input": "2021-08-31T21:27:32.808170Z",
     "iopub.status.busy": "2021-08-31T21:27:32.807125Z",
     "iopub.status.idle": "2021-08-31T21:27:32.817954Z",
     "shell.execute_reply": "2021-08-31T21:27:32.816561Z"
    },
    "tags": []
   },
   "outputs": [],
   "source": [
    "sub_markers1 = subset(x = markers,  !(cluster %in% c(2,3,7,9)))"
   ]
  },
  {
   "cell_type": "code",
   "execution_count": 92,
   "id": "5c7756c8-0145-4170-b673-2bae6deb1376",
   "metadata": {
    "execution": {
     "iopub.execute_input": "2021-08-31T21:27:34.759244Z",
     "iopub.status.busy": "2021-08-31T21:27:34.758219Z",
     "iopub.status.idle": "2021-08-31T21:27:34.769495Z",
     "shell.execute_reply": "2021-08-31T21:27:34.768422Z"
    },
    "tags": []
   },
   "outputs": [
    {
     "data": {
      "text/html": [
       "<style>\n",
       ".list-inline {list-style: none; margin:0; padding: 0}\n",
       ".list-inline>li {display: inline-block}\n",
       ".list-inline>li:not(:last-child)::after {content: \"\\00b7\"; padding: 0 .5ex}\n",
       "</style>\n",
       "<ol class=list-inline><li>0</li><li>1</li><li>4</li><li>5</li><li>6</li><li>8</li><li>10</li><li>11</li><li>12</li><li>13</li><li>14</li><li>15</li><li>16</li></ol>\n",
       "\n",
       "<details>\n",
       "\t<summary style=display:list-item;cursor:pointer>\n",
       "\t\t<strong>Levels</strong>:\n",
       "\t</summary>\n",
       "\t<style>\n",
       "\t.list-inline {list-style: none; margin:0; padding: 0}\n",
       "\t.list-inline>li {display: inline-block}\n",
       "\t.list-inline>li:not(:last-child)::after {content: \"\\00b7\"; padding: 0 .5ex}\n",
       "\t</style>\n",
       "\t<ol class=list-inline><li>'0'</li><li>'1'</li><li>'2'</li><li>'3'</li><li>'4'</li><li>'5'</li><li>'6'</li><li>'7'</li><li>'8'</li><li>'9'</li><li>'10'</li><li>'11'</li><li>'12'</li><li>'13'</li><li>'14'</li><li>'15'</li><li>'16'</li></ol>\n",
       "</details>"
      ],
      "text/latex": [
       "\\begin{enumerate*}\n",
       "\\item 0\n",
       "\\item 1\n",
       "\\item 4\n",
       "\\item 5\n",
       "\\item 6\n",
       "\\item 8\n",
       "\\item 10\n",
       "\\item 11\n",
       "\\item 12\n",
       "\\item 13\n",
       "\\item 14\n",
       "\\item 15\n",
       "\\item 16\n",
       "\\end{enumerate*}\n",
       "\n",
       "\\emph{Levels}: \\begin{enumerate*}\n",
       "\\item '0'\n",
       "\\item '1'\n",
       "\\item '2'\n",
       "\\item '3'\n",
       "\\item '4'\n",
       "\\item '5'\n",
       "\\item '6'\n",
       "\\item '7'\n",
       "\\item '8'\n",
       "\\item '9'\n",
       "\\item '10'\n",
       "\\item '11'\n",
       "\\item '12'\n",
       "\\item '13'\n",
       "\\item '14'\n",
       "\\item '15'\n",
       "\\item '16'\n",
       "\\end{enumerate*}\n"
      ],
      "text/markdown": [
       "1. 0\n",
       "2. 1\n",
       "3. 4\n",
       "4. 5\n",
       "5. 6\n",
       "6. 8\n",
       "7. 10\n",
       "8. 11\n",
       "9. 12\n",
       "10. 13\n",
       "11. 14\n",
       "12. 15\n",
       "13. 16\n",
       "\n",
       "\n",
       "\n",
       "**Levels**: 1. '0'\n",
       "2. '1'\n",
       "3. '2'\n",
       "4. '3'\n",
       "5. '4'\n",
       "6. '5'\n",
       "7. '6'\n",
       "8. '7'\n",
       "9. '8'\n",
       "10. '9'\n",
       "11. '10'\n",
       "12. '11'\n",
       "13. '12'\n",
       "14. '13'\n",
       "15. '14'\n",
       "16. '15'\n",
       "17. '16'\n",
       "\n",
       "\n"
      ],
      "text/plain": [
       " [1] 0  1  4  5  6  8  10 11 12 13 14 15 16\n",
       "Levels: 0 1 2 3 4 5 6 7 8 9 10 11 12 13 14 15 16"
      ]
     },
     "metadata": {},
     "output_type": "display_data"
    }
   ],
   "source": [
    "unique(sub_markers1$cluster)"
   ]
  },
  {
   "cell_type": "code",
   "execution_count": 93,
   "id": "95d4f1ed-0e21-45dd-a7b0-cd66fabb9807",
   "metadata": {
    "execution": {
     "iopub.execute_input": "2021-08-31T21:28:06.353780Z",
     "iopub.status.busy": "2021-08-31T21:28:06.352761Z",
     "iopub.status.idle": "2021-08-31T21:28:06.364341Z",
     "shell.execute_reply": "2021-08-31T21:28:06.363125Z"
    }
   },
   "outputs": [],
   "source": [
    "total_markers=rbind(sub_markers1,markers2)"
   ]
  },
  {
   "cell_type": "code",
   "execution_count": 101,
   "id": "20e70fe2-4ca9-413a-9775-21f0133a687c",
   "metadata": {
    "tags": []
   },
   "outputs": [
    {
     "data": {
      "image/png": "[encoded data removed]",
      "text/plain": [
       "plot without title"
      ]
     },
     "metadata": {
      "image/png": {
       "height": 600,
       "width": 600
      }
     },
     "output_type": "display_data"
    }
   ],
   "source": [
    "n=50\n",
    "topX = markers %>%\n",
    "    group_by(cluster) %>%\n",
    "    top_n(n = n, wt = avg_log2FC)\n",
    "result <- compareCluster(gene~cluster, data=topX, fun=\"enricher\",qvalueCutoff=1,pvalueCutoff=1,TERM2GENE=c)\n",
    "result=mutate(result,qscore=-log(p.adjust, base=10))\n",
    "ggplot(data=result,aes(x=Count,y=cluster,fill=qscore))+geom_bar(stat=\"identity\")+scale_fill_continuous(low=\"blue\", high=\"red\")"
   ]
  },
  {
   "cell_type": "code",
   "execution_count": 113,
   "id": "d3df774e-db99-4595-830c-3b13c5f77d34",
   "metadata": {
    "execution": {
     "iopub.execute_input": "2021-08-31T21:40:52.158438Z",
     "iopub.status.busy": "2021-08-31T21:40:52.155699Z",
     "iopub.status.idle": "2021-08-31T21:40:52.416455Z",
     "shell.execute_reply": "2021-08-31T21:40:52.415409Z"
    },
    "tags": []
   },
   "outputs": [
    {
     "data": {
      "image/png": "[encoded data removed]",
      "text/plain": [
       "plot without title"
      ]
     },
     "metadata": {
      "image/png": {
       "height": 600,
       "width": 600
      }
     },
     "output_type": "display_data"
    }
   ],
   "source": [
    "ggplot(data=result,aes(x=Count,y=reorder(cluster,Count),fill=qscore))+geom_bar(stat=\"identity\")+scale_fill_continuous(low=\"blue\", high=\"red\")+\n",
    "theme(axis.text = element_text(face=\"plain\", color=\"black\", \n",
    "                           size=15, angle=0),text = element_text(face=\"plain\", color=\"black\", \n",
    "                           size=15, angle=0))\n",
    "ggsave(\"DEG_overlap_marker_genes_top50.pdf\",height=3,width=4)"
   ]
  },
  {
   "cell_type": "code",
   "execution_count": 114,
   "id": "9936ea22-e0bb-48c0-815f-89d3a81c244c",
   "metadata": {
    "execution": {
     "iopub.execute_input": "2021-08-31T21:41:51.646443Z",
     "iopub.status.busy": "2021-08-31T21:41:51.645390Z",
     "iopub.status.idle": "2021-08-31T21:41:53.357130Z",
     "shell.execute_reply": "2021-08-31T21:41:53.356082Z"
    }
   },
   "outputs": [
    {
     "data": {
      "image/png": "[encoded data removed]",
      "text/plain": [
       "plot without title"
      ]
     },
     "metadata": {
      "image/png": {
       "height": 600,
       "width": 600
      }
     },
     "output_type": "display_data"
    }
   ],
   "source": [
    "n=20\n",
    "topX = markers %>%\n",
    "    group_by(cluster) %>%\n",
    "    top_n(n = n, wt = avg_log2FC)\n",
    "result <- compareCluster(gene~cluster, data=topX, fun=\"enricher\",qvalueCutoff=1,pvalueCutoff=1,TERM2GENE=c)\n",
    "result=mutate(result,qscore=-log(p.adjust, base=10))\n",
    "ggplot(data=result,aes(x=Count,y=reorder(cluster,Count),fill=qscore))+geom_bar(stat=\"identity\")+scale_fill_continuous(low=\"blue\", high=\"red\")+\n",
    "theme(axis.text = element_text(face=\"plain\", color=\"black\", \n",
    "                           size=15, angle=0),text = element_text(face=\"plain\", color=\"black\", \n",
    "                           size=15, angle=0))\n",
    "ggsave(\"DEG_overlap_marker_genes_top20.pdf\",height=3,width=4)"
   ]
  },
  {
   "cell_type": "code",
   "execution_count": 118,
   "id": "c18eab2a-19ea-419f-b989-db6c7f1f865d",
   "metadata": {
    "execution": {
     "iopub.execute_input": "2021-08-31T21:43:36.387688Z",
     "iopub.status.busy": "2021-08-31T21:43:36.386630Z",
     "iopub.status.idle": "2021-08-31T21:43:38.971434Z",
     "shell.execute_reply": "2021-08-31T21:43:38.970296Z"
    },
    "tags": []
   },
   "outputs": [
    {
     "data": {
      "image/png": "[encoded data removed]",
      "text/plain": [
       "plot without title"
      ]
     },
     "metadata": {
      "image/png": {
       "height": 600,
       "width": 600
      }
     },
     "output_type": "display_data"
    }
   ],
   "source": [
    "n=50\n",
    "topX = markers %>%\n",
    "    group_by(cluster) %>%\n",
    "    top_n(n = n, wt = avg_log2FC)\n",
    "result <- compareCluster(gene~cluster, data=topX, fun=\"enricher\",qvalueCutoff=1,pvalueCutoff=1,TERM2GENE=c)\n",
    "result=mutate(result,qscore=-log(p.adjust, base=10))\n",
    "ggplot(data=result,aes(x=Count,y=reorder(cluster,Count),fill=qscore))+geom_bar(stat=\"identity\")+scale_fill_continuous(low=\"blue\", high=\"red\")+\n",
    "theme(axis.text = element_text(face=\"plain\", color=\"black\", \n",
    "                           size=15, angle=0),text = element_text(face=\"plain\", color=\"black\", \n",
    "                           size=15, angle=0))\n"
   ]
  },
  {
   "cell_type": "code",
   "execution_count": 120,
   "id": "bfe35e33-3e1b-4468-93db-ce390542dd2a",
   "metadata": {
    "execution": {
     "iopub.execute_input": "2021-08-31T21:44:03.549856Z",
     "iopub.status.busy": "2021-08-31T21:44:03.548720Z",
     "iopub.status.idle": "2021-08-31T21:44:03.559339Z",
     "shell.execute_reply": "2021-08-31T21:44:03.558233Z"
    },
    "tags": []
   },
   "outputs": [],
   "source": [
    "write.table(result,\"DEG_overlap.top50.csv\",sep=\",\")"
   ]
  },
  {
   "cell_type": "code",
   "execution_count": 121,
   "id": "ea0753d6-4c94-4a43-8459-bc547f113539",
   "metadata": {
    "execution": {
     "iopub.execute_input": "2021-08-31T21:44:20.859479Z",
     "iopub.status.busy": "2021-08-31T21:44:20.858359Z",
     "iopub.status.idle": "2021-08-31T21:44:20.877755Z",
     "shell.execute_reply": "2021-08-31T21:44:20.876585Z"
    },
    "tags": []
   },
   "outputs": [
    {
     "data": {
      "text/html": [
       "<table class=\"dataframe\">\n",
       "<caption>A data.frame: 6 × 12</caption>\n",
       "<thead>\n",
       "\t<tr><th></th><th scope=col>Cluster</th><th scope=col>cluster</th><th scope=col>ID</th><th scope=col>Description</th><th scope=col>GeneRatio</th><th scope=col>BgRatio</th><th scope=col>pvalue</th><th scope=col>p.adjust</th><th scope=col>qvalue</th><th scope=col>geneID</th><th scope=col>Count</th><th scope=col>qscore</th></tr>\n",
       "\t<tr><th></th><th scope=col>&lt;fct&gt;</th><th scope=col>&lt;chr&gt;</th><th scope=col>&lt;chr&gt;</th><th scope=col>&lt;chr&gt;</th><th scope=col>&lt;chr&gt;</th><th scope=col>&lt;chr&gt;</th><th scope=col>&lt;dbl&gt;</th><th scope=col>&lt;dbl&gt;</th><th scope=col>&lt;lgl&gt;</th><th scope=col>&lt;chr&gt;</th><th scope=col>&lt;int&gt;</th><th scope=col>&lt;dbl&gt;</th></tr>\n",
       "</thead>\n",
       "<tbody>\n",
       "\t<tr><th scope=row>1</th><td>2 </td><td>2 </td><td>DEG</td><td>DEG</td><td>4/50</td><td>45/31057</td><td>8.433706e-07</td><td>8.433706e-07</td><td>NA</td><td>Gcnt2/Cd74/Vldlr/Meis1        </td><td>4</td><td>6.073982</td></tr>\n",
       "\t<tr><th scope=row>2</th><td>3 </td><td>3 </td><td>DEG</td><td>DEG</td><td>5/50</td><td>45/31057</td><td>1.024713e-08</td><td>1.024713e-08</td><td>NA</td><td>Cd74/Pdzk1ip1/Meis1/Tgm2/Gcnt2</td><td>5</td><td>7.989398</td></tr>\n",
       "\t<tr><th scope=row>3</th><td>5 </td><td>5 </td><td>DEG</td><td>DEG</td><td>2/50</td><td>45/31057</td><td>2.405947e-03</td><td>2.405947e-03</td><td>NA</td><td>Slc14a1/Meis1                 </td><td>2</td><td>2.618714</td></tr>\n",
       "\t<tr><th scope=row>4</th><td>7 </td><td>7 </td><td>DEG</td><td>DEG</td><td>3/50</td><td>45/31057</td><td>5.311997e-05</td><td>5.311997e-05</td><td>NA</td><td>Tgm2/Pdzk1ip1/Meis1           </td><td>3</td><td>4.274742</td></tr>\n",
       "\t<tr><th scope=row>5</th><td>9 </td><td>9 </td><td>DEG</td><td>DEG</td><td>3/50</td><td>45/31057</td><td>5.311997e-05</td><td>5.311997e-05</td><td>NA</td><td>Cd74/Gcnt2/Meis1              </td><td>3</td><td>4.274742</td></tr>\n",
       "\t<tr><th scope=row>6</th><td>14</td><td>14</td><td>DEG</td><td>DEG</td><td>2/46</td><td>45/31057</td><td>2.040271e-03</td><td>2.040271e-03</td><td>NA</td><td>Vldlr/Pdzk1ip1                </td><td>2</td><td>2.690312</td></tr>\n",
       "</tbody>\n",
       "</table>\n"
      ],
      "text/latex": [
       "A data.frame: 6 × 12\n",
       "\\begin{tabular}{r|llllllllllll}\n",
       "  & Cluster & cluster & ID & Description & GeneRatio & BgRatio & pvalue & p.adjust & qvalue & geneID & Count & qscore\\\\\n",
       "  & <fct> & <chr> & <chr> & <chr> & <chr> & <chr> & <dbl> & <dbl> & <lgl> & <chr> & <int> & <dbl>\\\\\n",
       "\\hline\n",
       "\t1 & 2  & 2  & DEG & DEG & 4/50 & 45/31057 & 8.433706e-07 & 8.433706e-07 & NA & Gcnt2/Cd74/Vldlr/Meis1         & 4 & 6.073982\\\\\n",
       "\t2 & 3  & 3  & DEG & DEG & 5/50 & 45/31057 & 1.024713e-08 & 1.024713e-08 & NA & Cd74/Pdzk1ip1/Meis1/Tgm2/Gcnt2 & 5 & 7.989398\\\\\n",
       "\t3 & 5  & 5  & DEG & DEG & 2/50 & 45/31057 & 2.405947e-03 & 2.405947e-03 & NA & Slc14a1/Meis1                  & 2 & 2.618714\\\\\n",
       "\t4 & 7  & 7  & DEG & DEG & 3/50 & 45/31057 & 5.311997e-05 & 5.311997e-05 & NA & Tgm2/Pdzk1ip1/Meis1            & 3 & 4.274742\\\\\n",
       "\t5 & 9  & 9  & DEG & DEG & 3/50 & 45/31057 & 5.311997e-05 & 5.311997e-05 & NA & Cd74/Gcnt2/Meis1               & 3 & 4.274742\\\\\n",
       "\t6 & 14 & 14 & DEG & DEG & 2/46 & 45/31057 & 2.040271e-03 & 2.040271e-03 & NA & Vldlr/Pdzk1ip1                 & 2 & 2.690312\\\\\n",
       "\\end{tabular}\n"
      ],
      "text/markdown": [
       "\n",
       "A data.frame: 6 × 12\n",
       "\n",
       "| <!--/--> | Cluster &lt;fct&gt; | cluster &lt;chr&gt; | ID &lt;chr&gt; | Description &lt;chr&gt; | GeneRatio &lt;chr&gt; | BgRatio &lt;chr&gt; | pvalue &lt;dbl&gt; | p.adjust &lt;dbl&gt; | qvalue &lt;lgl&gt; | geneID &lt;chr&gt; | Count &lt;int&gt; | qscore &lt;dbl&gt; |\n",
       "|---|---|---|---|---|---|---|---|---|---|---|---|---|\n",
       "| 1 | 2  | 2  | DEG | DEG | 4/50 | 45/31057 | 8.433706e-07 | 8.433706e-07 | NA | Gcnt2/Cd74/Vldlr/Meis1         | 4 | 6.073982 |\n",
       "| 2 | 3  | 3  | DEG | DEG | 5/50 | 45/31057 | 1.024713e-08 | 1.024713e-08 | NA | Cd74/Pdzk1ip1/Meis1/Tgm2/Gcnt2 | 5 | 7.989398 |\n",
       "| 3 | 5  | 5  | DEG | DEG | 2/50 | 45/31057 | 2.405947e-03 | 2.405947e-03 | NA | Slc14a1/Meis1                  | 2 | 2.618714 |\n",
       "| 4 | 7  | 7  | DEG | DEG | 3/50 | 45/31057 | 5.311997e-05 | 5.311997e-05 | NA | Tgm2/Pdzk1ip1/Meis1            | 3 | 4.274742 |\n",
       "| 5 | 9  | 9  | DEG | DEG | 3/50 | 45/31057 | 5.311997e-05 | 5.311997e-05 | NA | Cd74/Gcnt2/Meis1               | 3 | 4.274742 |\n",
       "| 6 | 14 | 14 | DEG | DEG | 2/46 | 45/31057 | 2.040271e-03 | 2.040271e-03 | NA | Vldlr/Pdzk1ip1                 | 2 | 2.690312 |\n",
       "\n"
      ],
      "text/plain": [
       "  Cluster cluster ID  Description GeneRatio BgRatio  pvalue       p.adjust    \n",
       "1 2       2       DEG DEG         4/50      45/31057 8.433706e-07 8.433706e-07\n",
       "2 3       3       DEG DEG         5/50      45/31057 1.024713e-08 1.024713e-08\n",
       "3 5       5       DEG DEG         2/50      45/31057 2.405947e-03 2.405947e-03\n",
       "4 7       7       DEG DEG         3/50      45/31057 5.311997e-05 5.311997e-05\n",
       "5 9       9       DEG DEG         3/50      45/31057 5.311997e-05 5.311997e-05\n",
       "6 14      14      DEG DEG         2/46      45/31057 2.040271e-03 2.040271e-03\n",
       "  qvalue geneID                         Count qscore  \n",
       "1 NA     Gcnt2/Cd74/Vldlr/Meis1         4     6.073982\n",
       "2 NA     Cd74/Pdzk1ip1/Meis1/Tgm2/Gcnt2 5     7.989398\n",
       "3 NA     Slc14a1/Meis1                  2     2.618714\n",
       "4 NA     Tgm2/Pdzk1ip1/Meis1            3     4.274742\n",
       "5 NA     Cd74/Gcnt2/Meis1               3     4.274742\n",
       "6 NA     Vldlr/Pdzk1ip1                 2     2.690312"
      ]
     },
     "metadata": {},
     "output_type": "display_data"
    }
   ],
   "source": [
    "head(result)"
   ]
  },
  {
   "cell_type": "code",
   "execution_count": 122,
   "id": "d60abe2d-abdb-4e2c-b073-951d21c101d8",
   "metadata": {
    "execution": {
     "iopub.execute_input": "2021-08-31T21:46:21.202557Z",
     "iopub.status.busy": "2021-08-31T21:46:21.201432Z",
     "iopub.status.idle": "2021-08-31T21:46:21.212932Z",
     "shell.execute_reply": "2021-08-31T21:46:21.211852Z"
    },
    "tags": []
   },
   "outputs": [
    {
     "data": {
      "text/html": [
       "51"
      ],
      "text/latex": [
       "51"
      ],
      "text/markdown": [
       "51"
      ],
      "text/plain": [
       "[1] 51"
      ]
     },
     "metadata": {},
     "output_type": "display_data"
    }
   ],
   "source": [
    "length(target_genes)"
   ]
  },
  {
   "cell_type": "code",
   "execution_count": 124,
   "id": "b33987a3-37f2-49d1-9eed-6c43ebbf5294",
   "metadata": {
    "execution": {
     "iopub.execute_input": "2021-09-01T05:07:55.767562Z",
     "iopub.status.busy": "2021-09-01T05:07:55.766414Z",
     "iopub.status.idle": "2021-09-01T05:19:12.804130Z",
     "shell.execute_reply": "2021-09-01T05:19:12.802413Z"
    },
    "tags": []
   },
   "outputs": [
    {
     "name": "stderr",
     "output_type": "stream",
     "text": [
      "Registered S3 method overwritten by 'cli':\n",
      "  method     from         \n",
      "  print.boxx spatstat.geom\n",
      "\n",
      "Downloading GitHub repo xmc811/Scillus@development\n",
      "\n"
     ]
    },
    {
     "name": "stdout",
     "output_type": "stream",
     "text": [
      "pillar       (1.6.1   -> 1.6.2 ) [CRAN]\n",
      "tibble       (3.1.3   -> 3.1.4 ) [CRAN]\n",
      "R6           (2.5.0   -> 2.5.1 ) [CRAN]\n",
      "RcppAnnoy    (0.0.18  -> 0.0.19) [CRAN]\n",
      "cachem       (1.0.5   -> 1.0.6 ) [CRAN]\n",
      "later        (1.2.0   -> 1.3.0 ) [CRAN]\n",
      "htmltools    (0.5.1.1 -> 0.5.2 ) [CRAN]\n",
      "httpuv       (1.6.1   -> 1.6.2 ) [CRAN]\n",
      "stringi      (1.7.3   -> 1.7.4 ) [CRAN]\n",
      "matrixStats  (0.60.0  -> 0.60.1) [CRAN]\n",
      "future       (1.21.0  -> 1.22.1) [CRAN]\n",
      "future.apply (1.7.0   -> 1.8.1 ) [CRAN]\n",
      "xfun         (0.24    -> 0.25  ) [CRAN]\n",
      "tinytex      (0.32    -> 0.33  ) [CRAN]\n",
      "BiocGenerics (0.36.0  -> 0.36.1) [CRAN]\n",
      "rmarkdown    (2.9     -> 2.10  ) [CRAN]\n",
      "Seurat       (4.0.3   -> 4.0.4 ) [CRAN]\n",
      "formattable  (NA      -> 0.2.1 ) [CRAN]\n"
     ]
    },
    {
     "name": "stderr",
     "output_type": "stream",
     "text": [
      "Installing 18 packages: pillar, tibble, R6, RcppAnnoy, cachem, later, htmltools, httpuv, stringi, matrixStats, future, future.apply, xfun, tinytex, BiocGenerics, rmarkdown, Seurat, formattable\n",
      "\n"
     ]
    },
    {
     "name": "stdout",
     "output_type": "stream",
     "text": [
      "\u001b[32mv\u001b[39m  \u001b[90mchecking for file '/research/rgs01/scratch_lsf/lsftmpdir/noderome226/137683109_1.tmpdir/RtmprHoZMI/remotes1e8113051ff/xmc811-Scillus-4e7884d/DESCRIPTION'\u001b[39m\u001b[36m\u001b[36m (545ms)\u001b[36m\u001b[39m\n",
      "\u001b[90m-\u001b[39m\u001b[90m  \u001b[39m\u001b[90mpreparing 'Scillus':\u001b[39m\u001b[36m\u001b[39m\n",
      "\u001b[32mv\u001b[39m  \u001b[90mchecking DESCRIPTION meta-information\u001b[39m\u001b[36m\u001b[39m\n",
      "\u001b[90m-\u001b[39m\u001b[90m  \u001b[39m\u001b[90mchecking for LF line-endings in source and make files and shell scripts\u001b[39m\u001b[36m\u001b[39m\n",
      "\u001b[90m-\u001b[39m\u001b[90m  \u001b[39m\u001b[90mchecking for empty or unneeded directories\u001b[39m\u001b[36m\u001b[39m\n",
      "   Removed empty directory 'Scillus/test'\n",
      "\u001b[90m-\u001b[39m\u001b[90m  \u001b[39m\u001b[90mbuilding 'Scillus_0.5.0.tar.gz'\u001b[39m\u001b[36m\u001b[39m\n",
      "   Warning: invalid uid value replaced by that for user 'nobody'\n",
      "   Warning: invalid gid value replaced by that for user 'nobody'\n",
      "   \n",
      "\r"
     ]
    }
   ],
   "source": [
    "devtools::install_github(\"xmc811/Scillus\", ref = \"development\")\n"
   ]
  },
  {
   "cell_type": "code",
   "execution_count": 123,
   "id": "7be581a3-90fa-479b-a942-426f575d5496",
   "metadata": {
    "execution": {
     "iopub.execute_input": "2021-08-31T21:52:19.165009Z",
     "iopub.status.busy": "2021-08-31T21:52:19.163866Z",
     "iopub.status.idle": "2021-08-31T21:59:51.051700Z",
     "shell.execute_reply": "2021-08-31T21:59:51.049841Z"
    },
    "tags": []
   },
   "outputs": [],
   "source": [
    "save.image(\"8_31_marker_genes_and_DEG_overlap.RData\")"
   ]
  }
 ],
 "metadata": {
  "kernelspec": {
   "display_name": "R",
   "language": "R",
   "name": "ir"
  },
  "language_info": {
   "codemirror_mode": "r",
   "file_extension": ".r",
   "mimetype": "text/x-r-source",
   "name": "R",
   "pygments_lexer": "r",
   "version": "4.0.5"
  }
 },
 "nbformat": 4,
 "nbformat_minor": 5
}
