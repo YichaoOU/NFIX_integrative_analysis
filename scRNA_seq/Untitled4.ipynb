{
 "cells": [
  {
   "cell_type": "code",
   "execution_count": 1,
   "id": "f59ea1eb-eac8-4f26-a29e-5054dc0c8d18",
   "metadata": {
    "execution": {
     "iopub.execute_input": "2021-08-17T21:37:06.344623Z",
     "iopub.status.busy": "2021-08-17T21:37:06.342369Z",
     "iopub.status.idle": "2021-08-17T21:37:09.941392Z",
     "shell.execute_reply": "2021-08-17T21:37:09.940138Z"
    }
   },
   "outputs": [
    {
     "name": "stderr",
     "output_type": "stream",
     "text": [
      "Loading required package: AnnotationDbi\n",
      "\n",
      "Loading required package: stats4\n",
      "\n",
      "Loading required package: BiocGenerics\n",
      "\n",
      "Loading required package: parallel\n",
      "\n",
      "\n",
      "Attaching package: ‘BiocGenerics’\n",
      "\n",
      "\n",
      "The following objects are masked from ‘package:parallel’:\n",
      "\n",
      "    clusterApply, clusterApplyLB, clusterCall, clusterEvalQ,\n",
      "    clusterExport, clusterMap, parApply, parCapply, parLapply,\n",
      "    parLapplyLB, parRapply, parSapply, parSapplyLB\n",
      "\n",
      "\n",
      "The following objects are masked from ‘package:stats’:\n",
      "\n",
      "    IQR, mad, sd, var, xtabs\n",
      "\n",
      "\n",
      "The following objects are masked from ‘package:base’:\n",
      "\n",
      "    anyDuplicated, append, as.data.frame, basename, cbind, colnames,\n",
      "    dirname, do.call, duplicated, eval, evalq, Filter, Find, get, grep,\n",
      "    grepl, intersect, is.unsorted, lapply, Map, mapply, match, mget,\n",
      "    order, paste, pmax, pmax.int, pmin, pmin.int, Position, rank,\n",
      "    rbind, Reduce, rownames, sapply, setdiff, sort, table, tapply,\n",
      "    union, unique, unsplit, which.max, which.min\n",
      "\n",
      "\n",
      "Loading required package: Biobase\n",
      "\n",
      "Welcome to Bioconductor\n",
      "\n",
      "    Vignettes contain introductory material; view with\n",
      "    'browseVignettes()'. To cite Bioconductor, see\n",
      "    'citation(\"Biobase\")', and for packages 'citation(\"pkgname\")'.\n",
      "\n",
      "\n",
      "Loading required package: IRanges\n",
      "\n",
      "Loading required package: S4Vectors\n",
      "\n",
      "\n",
      "Attaching package: ‘S4Vectors’\n",
      "\n",
      "\n",
      "The following object is masked from ‘package:base’:\n",
      "\n",
      "    expand.grid\n",
      "\n",
      "\n",
      "\n",
      "\n"
     ]
    }
   ],
   "source": [
    "library(org.Mm.eg.db)"
   ]
  },
  {
   "cell_type": "code",
   "execution_count": 3,
   "id": "3f7b9e9d-ef43-426c-80b1-689b4e0957cd",
   "metadata": {
    "execution": {
     "iopub.execute_input": "2021-08-17T21:37:38.330836Z",
     "iopub.status.busy": "2021-08-17T21:37:38.329766Z",
     "iopub.status.idle": "2021-08-17T21:37:38.385941Z",
     "shell.execute_reply": "2021-08-17T21:37:38.384794Z"
    },
    "tags": []
   },
   "outputs": [
    {
     "data": {
      "text/html": [
       "71927"
      ],
      "text/latex": [
       "71927"
      ],
      "text/markdown": [
       "71927"
      ],
      "text/plain": [
       "[1] 71927"
      ]
     },
     "metadata": {},
     "output_type": "display_data"
    }
   ],
   "source": [
    "k = keys(org.Mm.eg.db, keytype=\"ENTREZID\")\n",
    "length(k)"
   ]
  },
  {
   "cell_type": "code",
   "execution_count": 9,
   "id": "5a2a7add-51fd-4da4-9aa5-37424c10062b",
   "metadata": {
    "execution": {
     "iopub.execute_input": "2021-08-17T21:41:28.176583Z",
     "iopub.status.busy": "2021-08-17T21:41:28.175580Z",
     "iopub.status.idle": "2021-08-17T21:41:28.576852Z",
     "shell.execute_reply": "2021-08-17T21:41:28.575644Z"
    },
    "tags": []
   },
   "outputs": [
    {
     "name": "stderr",
     "output_type": "stream",
     "text": [
      "'select()' returned 1:1 mapping between keys and columns\n",
      "\n"
     ]
    },
    {
     "data": {
      "text/html": [
       "<table class=\"dataframe\">\n",
       "<caption>A data.frame: 6 × 2</caption>\n",
       "<thead>\n",
       "\t<tr><th></th><th scope=col>ENTREZID</th><th scope=col>GENENAME</th></tr>\n",
       "\t<tr><th></th><th scope=col>&lt;chr&gt;</th><th scope=col>&lt;chr&gt;</th></tr>\n",
       "</thead>\n",
       "<tbody>\n",
       "\t<tr><th scope=row>1</th><td>11287</td><td>PZP, alpha-2-macroglobulin like                    </td></tr>\n",
       "\t<tr><th scope=row>2</th><td>11298</td><td>arylalkylamine N-acetyltransferase                 </td></tr>\n",
       "\t<tr><th scope=row>3</th><td>11302</td><td>apoptosis-associated tyrosine kinase               </td></tr>\n",
       "\t<tr><th scope=row>4</th><td>11303</td><td>ATP-binding cassette, sub-family A (ABC1), member 1</td></tr>\n",
       "\t<tr><th scope=row>5</th><td>11304</td><td>ATP-binding cassette, sub-family A (ABC1), member 4</td></tr>\n",
       "\t<tr><th scope=row>6</th><td>11305</td><td>ATP-binding cassette, sub-family A (ABC1), member 2</td></tr>\n",
       "</tbody>\n",
       "</table>\n"
      ],
      "text/latex": [
       "A data.frame: 6 × 2\n",
       "\\begin{tabular}{r|ll}\n",
       "  & ENTREZID & GENENAME\\\\\n",
       "  & <chr> & <chr>\\\\\n",
       "\\hline\n",
       "\t1 & 11287 & PZP, alpha-2-macroglobulin like                    \\\\\n",
       "\t2 & 11298 & arylalkylamine N-acetyltransferase                 \\\\\n",
       "\t3 & 11302 & apoptosis-associated tyrosine kinase               \\\\\n",
       "\t4 & 11303 & ATP-binding cassette, sub-family A (ABC1), member 1\\\\\n",
       "\t5 & 11304 & ATP-binding cassette, sub-family A (ABC1), member 4\\\\\n",
       "\t6 & 11305 & ATP-binding cassette, sub-family A (ABC1), member 2\\\\\n",
       "\\end{tabular}\n"
      ],
      "text/markdown": [
       "\n",
       "A data.frame: 6 × 2\n",
       "\n",
       "| <!--/--> | ENTREZID &lt;chr&gt; | GENENAME &lt;chr&gt; |\n",
       "|---|---|---|\n",
       "| 1 | 11287 | PZP, alpha-2-macroglobulin like                     |\n",
       "| 2 | 11298 | arylalkylamine N-acetyltransferase                  |\n",
       "| 3 | 11302 | apoptosis-associated tyrosine kinase                |\n",
       "| 4 | 11303 | ATP-binding cassette, sub-family A (ABC1), member 1 |\n",
       "| 5 | 11304 | ATP-binding cassette, sub-family A (ABC1), member 4 |\n",
       "| 6 | 11305 | ATP-binding cassette, sub-family A (ABC1), member 2 |\n",
       "\n"
      ],
      "text/plain": [
       "  ENTREZID GENENAME                                           \n",
       "1 11287    PZP, alpha-2-macroglobulin like                    \n",
       "2 11298    arylalkylamine N-acetyltransferase                 \n",
       "3 11302    apoptosis-associated tyrosine kinase               \n",
       "4 11303    ATP-binding cassette, sub-family A (ABC1), member 1\n",
       "5 11304    ATP-binding cassette, sub-family A (ABC1), member 4\n",
       "6 11305    ATP-binding cassette, sub-family A (ABC1), member 2"
      ]
     },
     "metadata": {},
     "output_type": "display_data"
    }
   ],
   "source": [
    "res = select(org.Mm.eg.db, keys=k, columns=\"GENENAME\", keytype=\"ENTREZID\")\n",
    "head(res)"
   ]
  },
  {
   "cell_type": "code",
   "execution_count": 11,
   "id": "b2eac522-f457-41c9-b050-f9a89b795717",
   "metadata": {
    "execution": {
     "iopub.execute_input": "2021-08-17T21:41:47.868486Z",
     "iopub.status.busy": "2021-08-17T21:41:47.867506Z",
     "iopub.status.idle": "2021-08-17T21:41:47.880717Z",
     "shell.execute_reply": "2021-08-17T21:41:47.879752Z"
    },
    "tags": []
   },
   "outputs": [
    {
     "name": "stderr",
     "output_type": "stream",
     "text": [
      "\n",
      "Please see: help('select') for usage information\n",
      "\n"
     ]
    },
    {
     "data": {
      "text/plain": [
       "OrgDb object:\n",
       "| DBSCHEMAVERSION: 2.1\n",
       "| Db type: OrgDb\n",
       "| Supporting package: AnnotationDbi\n",
       "| DBSCHEMA: MOUSE_DB\n",
       "| ORGANISM: Mus musculus\n",
       "| SPECIES: Mouse\n",
       "| EGSOURCEDATE: 2020-Sep23\n",
       "| EGSOURCENAME: Entrez Gene\n",
       "| EGSOURCEURL: ftp://ftp.ncbi.nlm.nih.gov/gene/DATA\n",
       "| CENTRALID: EG\n",
       "| TAXID: 10090\n",
       "| GOSOURCENAME: Gene Ontology\n",
       "| GOSOURCEURL: http://current.geneontology.org/ontology/go-basic.obo\n",
       "| GOSOURCEDATE: 2020-09-10\n",
       "| GOEGSOURCEDATE: 2020-Sep23\n",
       "| GOEGSOURCENAME: Entrez Gene\n",
       "| GOEGSOURCEURL: ftp://ftp.ncbi.nlm.nih.gov/gene/DATA\n",
       "| KEGGSOURCENAME: KEGG GENOME\n",
       "| KEGGSOURCEURL: ftp://ftp.genome.jp/pub/kegg/genomes\n",
       "| KEGGSOURCEDATE: 2011-Mar15\n",
       "| GPSOURCENAME: UCSC Genome Bioinformatics (Mus musculus)\n",
       "| GPSOURCEURL: \n",
       "| GPSOURCEDATE: 2020-Aug27\n",
       "| ENSOURCEDATE: 2020-Aug18\n",
       "| ENSOURCENAME: Ensembl\n",
       "| ENSOURCEURL: ftp://ftp.ensembl.org/pub/current_fasta\n",
       "| UPSOURCENAME: Uniprot\n",
       "| UPSOURCEURL: http://www.UniProt.org/\n",
       "| UPSOURCEDATE: Mon Oct  5 00:23:44 2020"
      ]
     },
     "metadata": {},
     "output_type": "display_data"
    }
   ],
   "source": [
    "org.Mm.eg.db"
   ]
  },
  {
   "cell_type": "code",
   "execution_count": 8,
   "id": "b0426a44-8b91-4e5b-a2f5-a466e801f326",
   "metadata": {
    "execution": {
     "iopub.execute_input": "2021-08-17T21:38:32.989740Z",
     "iopub.status.busy": "2021-08-17T21:38:32.988672Z",
     "iopub.status.idle": "2021-08-17T21:38:33.376083Z",
     "shell.execute_reply": "2021-08-17T21:38:33.374814Z"
    },
    "tags": []
   },
   "outputs": [],
   "source": [
    "write.table(res,\"test.csv\")"
   ]
  }
 ],
 "metadata": {
  "kernelspec": {
   "display_name": "R",
   "language": "R",
   "name": "ir"
  },
  "language_info": {
   "codemirror_mode": "r",
   "file_extension": ".r",
   "mimetype": "text/x-r-source",
   "name": "R",
   "pygments_lexer": "r",
   "version": "4.0.5"
  }
 },
 "nbformat": 4,
 "nbformat_minor": 5
}
