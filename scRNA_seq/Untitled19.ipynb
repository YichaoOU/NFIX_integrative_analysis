{
 "cells": [
  {
   "cell_type": "code",
   "execution_count": 1,
   "id": "fadae7a3-c95e-4aa1-8925-7ffdbcfc0891",
   "metadata": {
    "execution": {
     "iopub.execute_input": "2021-11-08T19:16:32.092199Z",
     "iopub.status.busy": "2021-11-08T19:16:32.090662Z",
     "iopub.status.idle": "2021-11-08T19:16:33.434437Z",
     "shell.execute_reply": "2021-11-08T19:16:33.433262Z"
    }
   },
   "outputs": [],
   "source": [
    "library(ggplot2)"
   ]
  },
  {
   "cell_type": "code",
   "execution_count": 4,
   "id": "21941352-9bde-45b9-aacb-11ef9e25a7cc",
   "metadata": {
    "execution": {
     "iopub.execute_input": "2021-11-08T19:17:53.005016Z",
     "iopub.status.busy": "2021-11-08T19:17:53.003688Z",
     "iopub.status.idle": "2021-11-08T19:17:53.018221Z",
     "shell.execute_reply": "2021-11-08T19:17:53.016986Z"
    },
    "tags": []
   },
   "outputs": [],
   "source": [
    "df = read.table(\"direct_targets.csv\",sep=\",\")"
   ]
  },
  {
   "cell_type": "code",
   "execution_count": 16,
   "id": "0339b9be-66ce-4a4f-a802-3b8374806a21",
   "metadata": {
    "execution": {
     "iopub.execute_input": "2021-11-08T21:31:01.772716Z",
     "iopub.status.busy": "2021-11-08T21:31:01.771689Z",
     "iopub.status.idle": "2021-11-08T21:31:01.812670Z",
     "shell.execute_reply": "2021-11-08T21:31:01.811576Z"
    },
    "tags": []
   },
   "outputs": [
    {
     "data": {
      "text/html": [
       "<table class=\"dataframe\">\n",
       "<caption>A data.frame: 1111 × 3</caption>\n",
       "<thead>\n",
       "\t<tr><th scope=col>V1</th><th scope=col>V2</th><th scope=col>V3</th></tr>\n",
       "\t<tr><th scope=col>&lt;chr&gt;</th><th scope=col>&lt;chr&gt;</th><th scope=col>&lt;int&gt;</th></tr>\n",
       "</thead>\n",
       "<tbody>\n",
       "\t<tr><td>CMP    </td><td>peaks     </td><td>23</td></tr>\n",
       "\t<tr><td>MPP    </td><td>peaks     </td><td>66</td></tr>\n",
       "\t<tr><td>CFUe   </td><td>peaks     </td><td>30</td></tr>\n",
       "\t<tr><td>Ery    </td><td>peaks     </td><td>20</td></tr>\n",
       "\t<tr><td>MEP    </td><td>peaks     </td><td>75</td></tr>\n",
       "\t<tr><td>GMP    </td><td>peaks     </td><td>25</td></tr>\n",
       "\t<tr><td>MEG    </td><td>peaks     </td><td>28</td></tr>\n",
       "\t<tr><td>LTHSC.1</td><td>peaks     </td><td>49</td></tr>\n",
       "\t<tr><td>LTHSC.2</td><td>peaks     </td><td>67</td></tr>\n",
       "\t<tr><td>STHSC.1</td><td>peaks     </td><td>26</td></tr>\n",
       "\t<tr><td>STHSC.2</td><td>peaks     </td><td>37</td></tr>\n",
       "\t<tr><td>CMP    </td><td>background</td><td>19</td></tr>\n",
       "\t<tr><td>MPP    </td><td>background</td><td>41</td></tr>\n",
       "\t<tr><td>CFUe   </td><td>background</td><td>29</td></tr>\n",
       "\t<tr><td>Ery    </td><td>background</td><td>12</td></tr>\n",
       "\t<tr><td>MEP    </td><td>background</td><td>42</td></tr>\n",
       "\t<tr><td>GMP    </td><td>background</td><td>16</td></tr>\n",
       "\t<tr><td>MEG    </td><td>background</td><td>13</td></tr>\n",
       "\t<tr><td>LTHSC.1</td><td>background</td><td>43</td></tr>\n",
       "\t<tr><td>LTHSC.2</td><td>background</td><td>37</td></tr>\n",
       "\t<tr><td>STHSC.1</td><td>background</td><td>37</td></tr>\n",
       "\t<tr><td>STHSC.2</td><td>background</td><td>39</td></tr>\n",
       "\t<tr><td>CMP    </td><td>background</td><td>14</td></tr>\n",
       "\t<tr><td>MPP    </td><td>background</td><td>41</td></tr>\n",
       "\t<tr><td>CFUe   </td><td>background</td><td>26</td></tr>\n",
       "\t<tr><td>Ery    </td><td>background</td><td>13</td></tr>\n",
       "\t<tr><td>MEP    </td><td>background</td><td>41</td></tr>\n",
       "\t<tr><td>GMP    </td><td>background</td><td>14</td></tr>\n",
       "\t<tr><td>MEG    </td><td>background</td><td>15</td></tr>\n",
       "\t<tr><td>LTHSC.1</td><td>background</td><td>39</td></tr>\n",
       "\t<tr><td>⋮</td><td>⋮</td><td>⋮</td></tr>\n",
       "\t<tr><td>Ery    </td><td>background</td><td>17</td></tr>\n",
       "\t<tr><td>MEP    </td><td>background</td><td>36</td></tr>\n",
       "\t<tr><td>GMP    </td><td>background</td><td>10</td></tr>\n",
       "\t<tr><td>MEG    </td><td>background</td><td>16</td></tr>\n",
       "\t<tr><td>LTHSC.1</td><td>background</td><td>39</td></tr>\n",
       "\t<tr><td>LTHSC.2</td><td>background</td><td>35</td></tr>\n",
       "\t<tr><td>STHSC.1</td><td>background</td><td>23</td></tr>\n",
       "\t<tr><td>STHSC.2</td><td>background</td><td>34</td></tr>\n",
       "\t<tr><td>CMP    </td><td>background</td><td>12</td></tr>\n",
       "\t<tr><td>MPP    </td><td>background</td><td>39</td></tr>\n",
       "\t<tr><td>CFUe   </td><td>background</td><td>18</td></tr>\n",
       "\t<tr><td>Ery    </td><td>background</td><td>12</td></tr>\n",
       "\t<tr><td>MEP    </td><td>background</td><td>40</td></tr>\n",
       "\t<tr><td>GMP    </td><td>background</td><td> 9</td></tr>\n",
       "\t<tr><td>MEG    </td><td>background</td><td>10</td></tr>\n",
       "\t<tr><td>LTHSC.1</td><td>background</td><td>26</td></tr>\n",
       "\t<tr><td>LTHSC.2</td><td>background</td><td>44</td></tr>\n",
       "\t<tr><td>STHSC.1</td><td>background</td><td>26</td></tr>\n",
       "\t<tr><td>STHSC.2</td><td>background</td><td>28</td></tr>\n",
       "\t<tr><td>CMP    </td><td>background</td><td>21</td></tr>\n",
       "\t<tr><td>MPP    </td><td>background</td><td>40</td></tr>\n",
       "\t<tr><td>CFUe   </td><td>background</td><td>27</td></tr>\n",
       "\t<tr><td>Ery    </td><td>background</td><td>12</td></tr>\n",
       "\t<tr><td>MEP    </td><td>background</td><td>44</td></tr>\n",
       "\t<tr><td>GMP    </td><td>background</td><td>16</td></tr>\n",
       "\t<tr><td>MEG    </td><td>background</td><td>12</td></tr>\n",
       "\t<tr><td>LTHSC.1</td><td>background</td><td>32</td></tr>\n",
       "\t<tr><td>LTHSC.2</td><td>background</td><td>41</td></tr>\n",
       "\t<tr><td>STHSC.1</td><td>background</td><td>39</td></tr>\n",
       "\t<tr><td>STHSC.2</td><td>background</td><td>29</td></tr>\n",
       "</tbody>\n",
       "</table>\n"
      ],
      "text/latex": [
       "A data.frame: 1111 × 3\n",
       "\\begin{tabular}{lll}\n",
       " V1 & V2 & V3\\\\\n",
       " <chr> & <chr> & <int>\\\\\n",
       "\\hline\n",
       "\t CMP     & peaks      & 23\\\\\n",
       "\t MPP     & peaks      & 66\\\\\n",
       "\t CFUe    & peaks      & 30\\\\\n",
       "\t Ery     & peaks      & 20\\\\\n",
       "\t MEP     & peaks      & 75\\\\\n",
       "\t GMP     & peaks      & 25\\\\\n",
       "\t MEG     & peaks      & 28\\\\\n",
       "\t LTHSC.1 & peaks      & 49\\\\\n",
       "\t LTHSC.2 & peaks      & 67\\\\\n",
       "\t STHSC.1 & peaks      & 26\\\\\n",
       "\t STHSC.2 & peaks      & 37\\\\\n",
       "\t CMP     & background & 19\\\\\n",
       "\t MPP     & background & 41\\\\\n",
       "\t CFUe    & background & 29\\\\\n",
       "\t Ery     & background & 12\\\\\n",
       "\t MEP     & background & 42\\\\\n",
       "\t GMP     & background & 16\\\\\n",
       "\t MEG     & background & 13\\\\\n",
       "\t LTHSC.1 & background & 43\\\\\n",
       "\t LTHSC.2 & background & 37\\\\\n",
       "\t STHSC.1 & background & 37\\\\\n",
       "\t STHSC.2 & background & 39\\\\\n",
       "\t CMP     & background & 14\\\\\n",
       "\t MPP     & background & 41\\\\\n",
       "\t CFUe    & background & 26\\\\\n",
       "\t Ery     & background & 13\\\\\n",
       "\t MEP     & background & 41\\\\\n",
       "\t GMP     & background & 14\\\\\n",
       "\t MEG     & background & 15\\\\\n",
       "\t LTHSC.1 & background & 39\\\\\n",
       "\t ⋮ & ⋮ & ⋮\\\\\n",
       "\t Ery     & background & 17\\\\\n",
       "\t MEP     & background & 36\\\\\n",
       "\t GMP     & background & 10\\\\\n",
       "\t MEG     & background & 16\\\\\n",
       "\t LTHSC.1 & background & 39\\\\\n",
       "\t LTHSC.2 & background & 35\\\\\n",
       "\t STHSC.1 & background & 23\\\\\n",
       "\t STHSC.2 & background & 34\\\\\n",
       "\t CMP     & background & 12\\\\\n",
       "\t MPP     & background & 39\\\\\n",
       "\t CFUe    & background & 18\\\\\n",
       "\t Ery     & background & 12\\\\\n",
       "\t MEP     & background & 40\\\\\n",
       "\t GMP     & background &  9\\\\\n",
       "\t MEG     & background & 10\\\\\n",
       "\t LTHSC.1 & background & 26\\\\\n",
       "\t LTHSC.2 & background & 44\\\\\n",
       "\t STHSC.1 & background & 26\\\\\n",
       "\t STHSC.2 & background & 28\\\\\n",
       "\t CMP     & background & 21\\\\\n",
       "\t MPP     & background & 40\\\\\n",
       "\t CFUe    & background & 27\\\\\n",
       "\t Ery     & background & 12\\\\\n",
       "\t MEP     & background & 44\\\\\n",
       "\t GMP     & background & 16\\\\\n",
       "\t MEG     & background & 12\\\\\n",
       "\t LTHSC.1 & background & 32\\\\\n",
       "\t LTHSC.2 & background & 41\\\\\n",
       "\t STHSC.1 & background & 39\\\\\n",
       "\t STHSC.2 & background & 29\\\\\n",
       "\\end{tabular}\n"
      ],
      "text/markdown": [
       "\n",
       "A data.frame: 1111 × 3\n",
       "\n",
       "| V1 &lt;chr&gt; | V2 &lt;chr&gt; | V3 &lt;int&gt; |\n",
       "|---|---|---|\n",
       "| CMP     | peaks      | 23 |\n",
       "| MPP     | peaks      | 66 |\n",
       "| CFUe    | peaks      | 30 |\n",
       "| Ery     | peaks      | 20 |\n",
       "| MEP     | peaks      | 75 |\n",
       "| GMP     | peaks      | 25 |\n",
       "| MEG     | peaks      | 28 |\n",
       "| LTHSC.1 | peaks      | 49 |\n",
       "| LTHSC.2 | peaks      | 67 |\n",
       "| STHSC.1 | peaks      | 26 |\n",
       "| STHSC.2 | peaks      | 37 |\n",
       "| CMP     | background | 19 |\n",
       "| MPP     | background | 41 |\n",
       "| CFUe    | background | 29 |\n",
       "| Ery     | background | 12 |\n",
       "| MEP     | background | 42 |\n",
       "| GMP     | background | 16 |\n",
       "| MEG     | background | 13 |\n",
       "| LTHSC.1 | background | 43 |\n",
       "| LTHSC.2 | background | 37 |\n",
       "| STHSC.1 | background | 37 |\n",
       "| STHSC.2 | background | 39 |\n",
       "| CMP     | background | 14 |\n",
       "| MPP     | background | 41 |\n",
       "| CFUe    | background | 26 |\n",
       "| Ery     | background | 13 |\n",
       "| MEP     | background | 41 |\n",
       "| GMP     | background | 14 |\n",
       "| MEG     | background | 15 |\n",
       "| LTHSC.1 | background | 39 |\n",
       "| ⋮ | ⋮ | ⋮ |\n",
       "| Ery     | background | 17 |\n",
       "| MEP     | background | 36 |\n",
       "| GMP     | background | 10 |\n",
       "| MEG     | background | 16 |\n",
       "| LTHSC.1 | background | 39 |\n",
       "| LTHSC.2 | background | 35 |\n",
       "| STHSC.1 | background | 23 |\n",
       "| STHSC.2 | background | 34 |\n",
       "| CMP     | background | 12 |\n",
       "| MPP     | background | 39 |\n",
       "| CFUe    | background | 18 |\n",
       "| Ery     | background | 12 |\n",
       "| MEP     | background | 40 |\n",
       "| GMP     | background |  9 |\n",
       "| MEG     | background | 10 |\n",
       "| LTHSC.1 | background | 26 |\n",
       "| LTHSC.2 | background | 44 |\n",
       "| STHSC.1 | background | 26 |\n",
       "| STHSC.2 | background | 28 |\n",
       "| CMP     | background | 21 |\n",
       "| MPP     | background | 40 |\n",
       "| CFUe    | background | 27 |\n",
       "| Ery     | background | 12 |\n",
       "| MEP     | background | 44 |\n",
       "| GMP     | background | 16 |\n",
       "| MEG     | background | 12 |\n",
       "| LTHSC.1 | background | 32 |\n",
       "| LTHSC.2 | background | 41 |\n",
       "| STHSC.1 | background | 39 |\n",
       "| STHSC.2 | background | 29 |\n",
       "\n"
      ],
      "text/plain": [
       "     V1      V2         V3\n",
       "1    CMP     peaks      23\n",
       "2    MPP     peaks      66\n",
       "3    CFUe    peaks      30\n",
       "4    Ery     peaks      20\n",
       "5    MEP     peaks      75\n",
       "6    GMP     peaks      25\n",
       "7    MEG     peaks      28\n",
       "8    LTHSC.1 peaks      49\n",
       "9    LTHSC.2 peaks      67\n",
       "10   STHSC.1 peaks      26\n",
       "11   STHSC.2 peaks      37\n",
       "12   CMP     background 19\n",
       "13   MPP     background 41\n",
       "14   CFUe    background 29\n",
       "15   Ery     background 12\n",
       "16   MEP     background 42\n",
       "17   GMP     background 16\n",
       "18   MEG     background 13\n",
       "19   LTHSC.1 background 43\n",
       "20   LTHSC.2 background 37\n",
       "21   STHSC.1 background 37\n",
       "22   STHSC.2 background 39\n",
       "23   CMP     background 14\n",
       "24   MPP     background 41\n",
       "25   CFUe    background 26\n",
       "26   Ery     background 13\n",
       "27   MEP     background 41\n",
       "28   GMP     background 14\n",
       "29   MEG     background 15\n",
       "30   LTHSC.1 background 39\n",
       "⋮    ⋮       ⋮          ⋮ \n",
       "1082 Ery     background 17\n",
       "1083 MEP     background 36\n",
       "1084 GMP     background 10\n",
       "1085 MEG     background 16\n",
       "1086 LTHSC.1 background 39\n",
       "1087 LTHSC.2 background 35\n",
       "1088 STHSC.1 background 23\n",
       "1089 STHSC.2 background 34\n",
       "1090 CMP     background 12\n",
       "1091 MPP     background 39\n",
       "1092 CFUe    background 18\n",
       "1093 Ery     background 12\n",
       "1094 MEP     background 40\n",
       "1095 GMP     background  9\n",
       "1096 MEG     background 10\n",
       "1097 LTHSC.1 background 26\n",
       "1098 LTHSC.2 background 44\n",
       "1099 STHSC.1 background 26\n",
       "1100 STHSC.2 background 28\n",
       "1101 CMP     background 21\n",
       "1102 MPP     background 40\n",
       "1103 CFUe    background 27\n",
       "1104 Ery     background 12\n",
       "1105 MEP     background 44\n",
       "1106 GMP     background 16\n",
       "1107 MEG     background 12\n",
       "1108 LTHSC.1 background 32\n",
       "1109 LTHSC.2 background 41\n",
       "1110 STHSC.1 background 39\n",
       "1111 STHSC.2 background 29"
      ]
     },
     "metadata": {},
     "output_type": "display_data"
    }
   ],
   "source": [
    "df"
   ]
  },
  {
   "cell_type": "code",
   "execution_count": 9,
   "id": "11997370-86c4-474d-9dfd-43f4f1647b2c",
   "metadata": {
    "execution": {
     "iopub.execute_input": "2021-11-08T19:22:41.330086Z",
     "iopub.status.busy": "2021-11-08T19:22:41.328847Z",
     "iopub.status.idle": "2021-11-08T19:22:41.347483Z",
     "shell.execute_reply": "2021-11-08T19:22:41.346353Z"
    },
    "tags": []
   },
   "outputs": [
    {
     "data": {
      "text/html": [
       "<table class=\"dataframe\">\n",
       "<caption>A data.frame: 6 × 3</caption>\n",
       "<thead>\n",
       "\t<tr><th></th><th scope=col>V1</th><th scope=col>V2</th><th scope=col>V3</th></tr>\n",
       "\t<tr><th></th><th scope=col>&lt;chr&gt;</th><th scope=col>&lt;chr&gt;</th><th scope=col>&lt;int&gt;</th></tr>\n",
       "</thead>\n",
       "<tbody>\n",
       "\t<tr><th scope=row>1</th><td>CMP </td><td>peaks</td><td>23</td></tr>\n",
       "\t<tr><th scope=row>2</th><td>MPP </td><td>peaks</td><td>66</td></tr>\n",
       "\t<tr><th scope=row>3</th><td>CFUe</td><td>peaks</td><td>30</td></tr>\n",
       "\t<tr><th scope=row>4</th><td>Ery </td><td>peaks</td><td>20</td></tr>\n",
       "\t<tr><th scope=row>5</th><td>MEP </td><td>peaks</td><td>75</td></tr>\n",
       "\t<tr><th scope=row>6</th><td>GMP </td><td>peaks</td><td>25</td></tr>\n",
       "</tbody>\n",
       "</table>\n"
      ],
      "text/latex": [
       "A data.frame: 6 × 3\n",
       "\\begin{tabular}{r|lll}\n",
       "  & V1 & V2 & V3\\\\\n",
       "  & <chr> & <chr> & <int>\\\\\n",
       "\\hline\n",
       "\t1 & CMP  & peaks & 23\\\\\n",
       "\t2 & MPP  & peaks & 66\\\\\n",
       "\t3 & CFUe & peaks & 30\\\\\n",
       "\t4 & Ery  & peaks & 20\\\\\n",
       "\t5 & MEP  & peaks & 75\\\\\n",
       "\t6 & GMP  & peaks & 25\\\\\n",
       "\\end{tabular}\n"
      ],
      "text/markdown": [
       "\n",
       "A data.frame: 6 × 3\n",
       "\n",
       "| <!--/--> | V1 &lt;chr&gt; | V2 &lt;chr&gt; | V3 &lt;int&gt; |\n",
       "|---|---|---|---|\n",
       "| 1 | CMP  | peaks | 23 |\n",
       "| 2 | MPP  | peaks | 66 |\n",
       "| 3 | CFUe | peaks | 30 |\n",
       "| 4 | Ery  | peaks | 20 |\n",
       "| 5 | MEP  | peaks | 75 |\n",
       "| 6 | GMP  | peaks | 25 |\n",
       "\n"
      ],
      "text/plain": [
       "  V1   V2    V3\n",
       "1 CMP  peaks 23\n",
       "2 MPP  peaks 66\n",
       "3 CFUe peaks 30\n",
       "4 Ery  peaks 20\n",
       "5 MEP  peaks 75\n",
       "6 GMP  peaks 25"
      ]
     },
     "metadata": {},
     "output_type": "display_data"
    }
   ],
   "source": [
    "head(df)\n",
    "new_level = c()\n"
   ]
  },
  {
   "cell_type": "code",
   "execution_count": null,
   "id": "eddfa6e6-1554-4cb1-80ad-7f1e3ad8fcc4",
   "metadata": {},
   "outputs": [],
   "source": [
    "array(['CMP', 'MPP', 'CFUe', 'Ery', 'MEP', 'GMP', 'MEG', 'LTHSC.1',\n",
    "       'LTHSC.2', 'STHSC.1', 'STHSC.2'], dtype=object)"
   ]
  },
  {
   "cell_type": "code",
   "execution_count": 15,
   "id": "52cf5467-f0ba-4d81-ae6d-19f6092e42ee",
   "metadata": {
    "collapsed": true,
    "execution": {
     "iopub.execute_input": "2021-11-08T19:23:40.936787Z",
     "iopub.status.busy": "2021-11-08T19:23:40.935729Z",
     "iopub.status.idle": "2021-11-08T19:23:40.987083Z",
     "shell.execute_reply": "2021-11-08T19:23:40.986062Z"
    },
    "jupyter": {
     "outputs_hidden": true
    },
    "tags": []
   },
   "outputs": [
    {
     "name": "stderr",
     "output_type": "stream",
     "text": [
      "ERROR while rich displaying an object: Error: stat_count() can only have an x or y aesthetic.\n",
      "\n",
      "Traceback:\n",
      "1. FUN(X[[i]], ...)\n",
      "2. tryCatch(withCallingHandlers({\n",
      " .     if (!mime %in% names(repr::mime2repr)) \n",
      " .         stop(\"No repr_* for mimetype \", mime, \" in repr::mime2repr\")\n",
      " .     rpr <- repr::mime2repr[[mime]](obj)\n",
      " .     if (is.null(rpr)) \n",
      " .         return(NULL)\n",
      " .     prepare_content(is.raw(rpr), rpr)\n",
      " . }, error = error_handler), error = outer_handler)\n",
      "3. tryCatchList(expr, classes, parentenv, handlers)\n",
      "4. tryCatchOne(expr, names, parentenv, handlers[[1L]])\n",
      "5. doTryCatch(return(expr), name, parentenv, handler)\n",
      "6. withCallingHandlers({\n",
      " .     if (!mime %in% names(repr::mime2repr)) \n",
      " .         stop(\"No repr_* for mimetype \", mime, \" in repr::mime2repr\")\n",
      " .     rpr <- repr::mime2repr[[mime]](obj)\n",
      " .     if (is.null(rpr)) \n",
      " .         return(NULL)\n",
      " .     prepare_content(is.raw(rpr), rpr)\n",
      " . }, error = error_handler)\n",
      "7. repr::mime2repr[[mime]](obj)\n",
      "8. repr_text.default(obj)\n",
      "9. paste(capture.output(print(obj)), collapse = \"\\n\")\n",
      "10. capture.output(print(obj))\n",
      "11. evalVis(expr)\n",
      "12. withVisible(eval(expr, pf))\n",
      "13. eval(expr, pf)\n",
      "14. eval(expr, pf)\n",
      "15. print(obj)\n",
      "16. print.ggplot(obj)\n",
      "17. ggplot_build(x)\n",
      "18. ggplot_build.ggplot(x)\n",
      "19. by_layer(function(l, d) l$compute_statistic(d, layout))\n",
      "20. f(l = layers[[i]], d = data[[i]])\n",
      "21. l$compute_statistic(d, layout)\n",
      "22. f(..., self = self)\n",
      "23. self$stat$setup_params(data, self$stat_params)\n",
      "24. f(...)\n",
      "25. abort(\"stat_count() can only have an x or y aesthetic.\")\n",
      "26. signal_abort(cnd)\n"
     ]
    },
    {
     "data": {
      "image/png": "[encoded data removed]",
      "text/plain": [
       "plot without title"
      ]
     },
     "metadata": {
      "image/png": {
       "height": 420,
       "width": 420
      }
     },
     "output_type": "display_data"
    }
   ],
   "source": [
    "ggplot(df, aes(x = V1, y = V3))+geom_bar(aes(fill=V2))"
   ]
  },
  {
   "cell_type": "code",
   "execution_count": 12,
   "id": "c078e946-0e0a-4d40-b082-b19da4c138f3",
   "metadata": {
    "collapsed": true,
    "execution": {
     "iopub.execute_input": "2021-11-08T19:23:07.842020Z",
     "iopub.status.busy": "2021-11-08T19:23:07.840977Z",
     "iopub.status.idle": "2021-11-08T19:23:07.898803Z",
     "shell.execute_reply": "2021-11-08T19:23:07.897735Z"
    },
    "jupyter": {
     "outputs_hidden": true,
     "source_hidden": true
    },
    "tags": []
   },
   "outputs": [
    {
     "name": "stderr",
     "output_type": "stream",
     "text": [
      "ERROR while rich displaying an object: Error: stat_count() can only have an x or y aesthetic.\n",
      "\n",
      "Traceback:\n",
      "1. FUN(X[[i]], ...)\n",
      "2. tryCatch(withCallingHandlers({\n",
      " .     if (!mime %in% names(repr::mime2repr)) \n",
      " .         stop(\"No repr_* for mimetype \", mime, \" in repr::mime2repr\")\n",
      " .     rpr <- repr::mime2repr[[mime]](obj)\n",
      " .     if (is.null(rpr)) \n",
      " .         return(NULL)\n",
      " .     prepare_content(is.raw(rpr), rpr)\n",
      " . }, error = error_handler), error = outer_handler)\n",
      "3. tryCatchList(expr, classes, parentenv, handlers)\n",
      "4. tryCatchOne(expr, names, parentenv, handlers[[1L]])\n",
      "5. doTryCatch(return(expr), name, parentenv, handler)\n",
      "6. withCallingHandlers({\n",
      " .     if (!mime %in% names(repr::mime2repr)) \n",
      " .         stop(\"No repr_* for mimetype \", mime, \" in repr::mime2repr\")\n",
      " .     rpr <- repr::mime2repr[[mime]](obj)\n",
      " .     if (is.null(rpr)) \n",
      " .         return(NULL)\n",
      " .     prepare_content(is.raw(rpr), rpr)\n",
      " . }, error = error_handler)\n",
      "7. repr::mime2repr[[mime]](obj)\n",
      "8. repr_text.default(obj)\n",
      "9. paste(capture.output(print(obj)), collapse = \"\\n\")\n",
      "10. capture.output(print(obj))\n",
      "11. evalVis(expr)\n",
      "12. withVisible(eval(expr, pf))\n",
      "13. eval(expr, pf)\n",
      "14. eval(expr, pf)\n",
      "15. print(obj)\n",
      "16. print.ggplot(obj)\n",
      "17. ggplot_build(x)\n",
      "18. ggplot_build.ggplot(x)\n",
      "19. by_layer(function(l, d) l$compute_statistic(d, layout))\n",
      "20. f(l = layers[[i]], d = data[[i]])\n",
      "21. l$compute_statistic(d, layout)\n",
      "22. f(..., self = self)\n",
      "23. self$stat$setup_params(data, self$stat_params)\n",
      "24. f(...)\n",
      "25. abort(\"stat_count() can only have an x or y aesthetic.\")\n",
      "26. signal_abort(cnd)\n"
     ]
    },
    {
     "data": {
      "image/png": "[encoded data removed]",
      "text/plain": [
       "plot without title"
      ]
     },
     "metadata": {
      "image/png": {
       "height": 420,
       "width": 420
      }
     },
     "output_type": "display_data"
    }
   ],
   "source": [
    " +\n",
    "    geom_bar(position=position_dodge2(reverse = TRUE),size=0.6,alpha=0.5,color=\"black\") +\n",
    "    # theme_minimal()\n",
    "    scale_x_discrete(limits =new_level)+\n",
    "scale_fill_manual(values = c(\"#0073C2FF\",\"#EFC000FF\"))+theme(axis.text.x = element_text(angle = 45, vjust =1, hjust=1),\n",
    "                                                             text = element_text(size=12))"
   ]
  },
  {
   "cell_type": "code",
   "execution_count": null,
   "id": "3dbd2d90-8088-4fa8-93a5-3f505a997cf0",
   "metadata": {},
   "outputs": [],
   "source": [
    "ggplot(df, aes(x = V1, fill = V3)) +\n",
    "    geom_bar(position=position_dodge2(reverse = TRUE),size=0.6,alpha=0.5,color=\"black\") +\n",
    "    # theme_minimal()\n",
    "    scale_x_discrete(limits =new_level)+\n",
    "scale_fill_manual(values = c(\"#0073C2FF\",\"#EFC000FF\"))+theme(axis.text.x = element_text(angle = 45, vjust =1, hjust=1),\n",
    "                                                             text = element_text(size=12))\n",
    "ggsave(\"cluster_size.barplot.pdf\",width=7,height=4)"
   ]
  }
 ],
 "metadata": {
  "kernelspec": {
   "display_name": "R",
   "language": "R",
   "name": "ir"
  },
  "language_info": {
   "codemirror_mode": "r",
   "file_extension": ".r",
   "mimetype": "text/x-r-source",
   "name": "R",
   "pygments_lexer": "r",
   "version": "4.0.5"
  }
 },
 "nbformat": 4,
 "nbformat_minor": 5
}
