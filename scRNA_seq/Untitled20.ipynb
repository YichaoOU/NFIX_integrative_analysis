{
 "cells": [
  {
   "cell_type": "code",
   "execution_count": 1,
   "id": "973a9b25-4ccd-4853-98aa-76b6a3ff1c77",
   "metadata": {
    "collapsed": true,
    "execution": {
     "iopub.execute_input": "2021-12-02T20:00:49.340815Z",
     "iopub.status.busy": "2021-12-02T20:00:49.339094Z",
     "iopub.status.idle": "2021-12-02T20:01:11.555219Z",
     "shell.execute_reply": "2021-12-02T20:01:11.553803Z"
    },
    "jupyter": {
     "outputs_hidden": true
    },
    "tags": []
   },
   "outputs": [
    {
     "name": "stderr",
     "output_type": "stream",
     "text": [
      "Attaching SeuratObject\n",
      "\n",
      "\n",
      "Attaching package: ‘dplyr’\n",
      "\n",
      "\n",
      "The following objects are masked from ‘package:stats’:\n",
      "\n",
      "    filter, lag\n",
      "\n",
      "\n",
      "The following objects are masked from ‘package:base’:\n",
      "\n",
      "    intersect, setdiff, setequal, union\n",
      "\n",
      "\n",
      "\n",
      "Attaching package: ‘glue’\n",
      "\n",
      "\n",
      "The following object is masked from ‘package:dplyr’:\n",
      "\n",
      "    collapse\n",
      "\n",
      "\n",
      "\n",
      "Attaching package: ‘cowplot’\n",
      "\n",
      "\n",
      "The following object is masked from ‘package:patchwork’:\n",
      "\n",
      "    align_plots\n",
      "\n",
      "\n",
      "Loading required package: Matrix\n",
      "\n",
      "\n",
      "Attaching package: ‘Matrix’\n",
      "\n",
      "\n",
      "The following objects are masked from ‘package:tidyr’:\n",
      "\n",
      "    expand, pack, unpack\n",
      "\n",
      "\n"
     ]
    }
   ],
   "source": [
    "library(Seurat)\n",
    "\n",
    "library(dplyr)\n",
    "library(glue)\n",
    "library(ggplot2)\n",
    "library(patchwork)\n",
    "library(cowplot)\n",
    "library(stringr)\n",
    "library(tidyr)\n",
    "library(\"dplyr\")\n",
    "library(velocyto.R)\n",
    "library(stringr)\n",
    "library(SeuratWrappers)\n",
    "library(DAseq)"
   ]
  },
  {
   "cell_type": "code",
   "execution_count": 10,
   "id": "024dd5d1-7880-44a4-bbf1-d990825c5125",
   "metadata": {
    "execution": {
     "iopub.execute_input": "2021-12-02T20:07:36.929854Z",
     "iopub.status.busy": "2021-12-02T20:07:36.928851Z",
     "iopub.status.idle": "2021-12-02T20:08:00.920763Z",
     "shell.execute_reply": "2021-12-02T20:08:00.919685Z"
    },
    "tags": []
   },
   "outputs": [
    {
     "name": "stdout",
     "output_type": "stream",
     "text": [
      "[1] \"mWT\"\n"
     ]
    },
    {
     "name": "stderr",
     "output_type": "stream",
     "text": [
      "10X data contains more than one type and is being returned as a list containing matrices of each type.\n",
      "\n"
     ]
    },
    {
     "name": "stdout",
     "output_type": "stream",
     "text": [
      "[1] 0.4279202\n",
      "[1] 1.279448\n",
      "[1] 0.1450222\n",
      "[1] 0.6015278\n",
      "[1] 0.3095121\n",
      "[1] \"mNFIXko\"\n"
     ]
    },
    {
     "name": "stderr",
     "output_type": "stream",
     "text": [
      "10X data contains more than one type and is being returned as a list containing matrices of each type.\n",
      "\n"
     ]
    },
    {
     "name": "stdout",
     "output_type": "stream",
     "text": [
      "[1] 0.007346826\n",
      "[1] 1.245633\n",
      "[1] 0.196285\n",
      "[1] 0.6693928\n",
      "[1] 0.4445523\n"
     ]
    }
   ],
   "source": [
    "sample_id = c(\"mWT\",\"mNFIXko\")\n",
    "myList = list()\n",
    "\n",
    "for(i in 1:length(sample_id)){\n",
    "    s=sample_id[i]\n",
    "    print (s)\n",
    "    dir = glue(\"{s}/outs/filtered_feature_bc_matrix\")\n",
    "    myData <- Read10X(data.dir = dir)\n",
    "    print (mean(myData$`Gene Expression`['Echdc2',]))\n",
    "    print (mean(myData$`Gene Expression`['Nfix',]))\n",
    "    print (mean(myData$`Gene Expression`['Erg',]))\n",
    "    print (mean(myData$`Gene Expression`['Mecom',]))\n",
    "    print (mean(myData$`Gene Expression`['Mpl',]))\n",
    "    \n",
    "    myList[[i]]  <- CreateSeuratObject(counts = myData[[\"Gene Expression\"]], min.cells = 0, min.features = 0,project = s, assay = \"RNA\")\n",
    "    # myList[[i]][[\"ADT\"]] <- CreateAssayObject(myData[[\"Antibody Capture\"]][, colnames(x = myList[[i]] )])\n",
    "\n",
    "}"
   ]
  },
  {
   "cell_type": "code",
   "execution_count": 11,
   "id": "f8729147-983c-4ae1-991f-24b790e13fee",
   "metadata": {
    "execution": {
     "iopub.execute_input": "2021-12-02T22:56:26.322731Z",
     "iopub.status.busy": "2021-12-02T22:56:26.321717Z",
     "iopub.status.idle": "2021-12-02T22:56:26.342182Z",
     "shell.execute_reply": "2021-12-02T22:56:26.341156Z"
    },
    "tags": []
   },
   "outputs": [
    {
     "data": {
      "text/plain": [
       "An object of class Seurat \n",
       "31053 features across 8116 samples within 1 assay \n",
       "Active assay: RNA (31053 features, 0 variable features)"
      ]
     },
     "metadata": {},
     "output_type": "display_data"
    }
   ],
   "source": [
    "myList[[1]]"
   ]
  },
  {
   "cell_type": "code",
   "execution_count": 12,
   "id": "001b56e0-b24b-4003-bbbf-1f6e5dc21506",
   "metadata": {
    "execution": {
     "iopub.execute_input": "2021-12-02T22:56:39.858430Z",
     "iopub.status.busy": "2021-12-02T22:56:39.857492Z",
     "iopub.status.idle": "2021-12-02T22:56:39.875689Z",
     "shell.execute_reply": "2021-12-02T22:56:39.874679Z"
    },
    "tags": []
   },
   "outputs": [
    {
     "data": {
      "text/plain": [
       "An object of class Seurat \n",
       "31053 features across 7214 samples within 1 assay \n",
       "Active assay: RNA (31053 features, 0 variable features)"
      ]
     },
     "metadata": {},
     "output_type": "display_data"
    }
   ],
   "source": [
    "myList[[2]]"
   ]
  }
 ],
 "metadata": {
  "kernelspec": {
   "display_name": "R",
   "language": "R",
   "name": "ir"
  },
  "language_info": {
   "codemirror_mode": "r",
   "file_extension": ".r",
   "mimetype": "text/x-r-source",
   "name": "R",
   "pygments_lexer": "r",
   "version": "4.0.5"
  }
 },
 "nbformat": 4,
 "nbformat_minor": 5
}
