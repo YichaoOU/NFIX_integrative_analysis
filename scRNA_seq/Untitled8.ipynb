{
 "cells": [
  {
   "cell_type": "code",
   "execution_count": 1,
   "id": "0b159ec8-2f81-4223-a72f-1b58200c8e7d",
   "metadata": {
    "collapsed": true,
    "execution": {
     "iopub.execute_input": "2021-09-08T06:56:07.372883Z",
     "iopub.status.busy": "2021-09-08T06:56:07.372696Z",
     "iopub.status.idle": "2021-09-08T06:56:24.022239Z",
     "shell.execute_reply": "2021-09-08T06:56:24.021624Z",
     "shell.execute_reply.started": "2021-09-08T06:56:07.372836Z"
    },
    "jupyter": {
     "outputs_hidden": true
    },
    "tags": []
   },
   "outputs": [
    {
     "name": "stderr",
     "output_type": "stream",
     "text": [
      "/home/yli11/.conda/envs/captureC/lib/python3.8/site-packages/sklearn/linear_model/least_angle.py:30: DeprecationWarning: `np.float` is a deprecated alias for the builtin `float`. To silence this warning, use `float` by itself. Doing this will not modify any behavior and is safe. If you specifically wanted the numpy scalar type, use `np.float64` here.\n",
      "Deprecated in NumPy 1.20; for more details and guidance: https://numpy.org/devdocs/release/1.20.0-notes.html#deprecations\n",
      "  method='lar', copy_X=True, eps=np.finfo(np.float).eps,\n",
      "/home/yli11/.conda/envs/captureC/lib/python3.8/site-packages/sklearn/linear_model/least_angle.py:167: DeprecationWarning: `np.float` is a deprecated alias for the builtin `float`. To silence this warning, use `float` by itself. Doing this will not modify any behavior and is safe. If you specifically wanted the numpy scalar type, use `np.float64` here.\n",
      "Deprecated in NumPy 1.20; for more details and guidance: https://numpy.org/devdocs/release/1.20.0-notes.html#deprecations\n",
      "  method='lar', copy_X=True, eps=np.finfo(np.float).eps,\n",
      "/home/yli11/.conda/envs/captureC/lib/python3.8/site-packages/sklearn/linear_model/least_angle.py:284: DeprecationWarning: `np.float` is a deprecated alias for the builtin `float`. To silence this warning, use `float` by itself. Doing this will not modify any behavior and is safe. If you specifically wanted the numpy scalar type, use `np.float64` here.\n",
      "Deprecated in NumPy 1.20; for more details and guidance: https://numpy.org/devdocs/release/1.20.0-notes.html#deprecations\n",
      "  eps=np.finfo(np.float).eps, copy_Gram=True, verbose=0,\n",
      "/home/yli11/.conda/envs/captureC/lib/python3.8/site-packages/sklearn/linear_model/least_angle.py:862: DeprecationWarning: `np.float` is a deprecated alias for the builtin `float`. To silence this warning, use `float` by itself. Doing this will not modify any behavior and is safe. If you specifically wanted the numpy scalar type, use `np.float64` here.\n",
      "Deprecated in NumPy 1.20; for more details and guidance: https://numpy.org/devdocs/release/1.20.0-notes.html#deprecations\n",
      "  eps=np.finfo(np.float).eps, copy_X=True, fit_path=True,\n",
      "/home/yli11/.conda/envs/captureC/lib/python3.8/site-packages/sklearn/linear_model/least_angle.py:1101: DeprecationWarning: `np.float` is a deprecated alias for the builtin `float`. To silence this warning, use `float` by itself. Doing this will not modify any behavior and is safe. If you specifically wanted the numpy scalar type, use `np.float64` here.\n",
      "Deprecated in NumPy 1.20; for more details and guidance: https://numpy.org/devdocs/release/1.20.0-notes.html#deprecations\n",
      "  eps=np.finfo(np.float).eps, copy_X=True, fit_path=True,\n",
      "/home/yli11/.conda/envs/captureC/lib/python3.8/site-packages/sklearn/linear_model/least_angle.py:1127: DeprecationWarning: `np.float` is a deprecated alias for the builtin `float`. To silence this warning, use `float` by itself. Doing this will not modify any behavior and is safe. If you specifically wanted the numpy scalar type, use `np.float64` here.\n",
      "Deprecated in NumPy 1.20; for more details and guidance: https://numpy.org/devdocs/release/1.20.0-notes.html#deprecations\n",
      "  eps=np.finfo(np.float).eps, positive=False):\n",
      "/home/yli11/.conda/envs/captureC/lib/python3.8/site-packages/sklearn/linear_model/least_angle.py:1362: DeprecationWarning: `np.float` is a deprecated alias for the builtin `float`. To silence this warning, use `float` by itself. Doing this will not modify any behavior and is safe. If you specifically wanted the numpy scalar type, use `np.float64` here.\n",
      "Deprecated in NumPy 1.20; for more details and guidance: https://numpy.org/devdocs/release/1.20.0-notes.html#deprecations\n",
      "  max_n_alphas=1000, n_jobs=None, eps=np.finfo(np.float).eps,\n",
      "/home/yli11/.conda/envs/captureC/lib/python3.8/site-packages/sklearn/linear_model/least_angle.py:1602: DeprecationWarning: `np.float` is a deprecated alias for the builtin `float`. To silence this warning, use `float` by itself. Doing this will not modify any behavior and is safe. If you specifically wanted the numpy scalar type, use `np.float64` here.\n",
      "Deprecated in NumPy 1.20; for more details and guidance: https://numpy.org/devdocs/release/1.20.0-notes.html#deprecations\n",
      "  max_n_alphas=1000, n_jobs=None, eps=np.finfo(np.float).eps,\n",
      "/home/yli11/.conda/envs/captureC/lib/python3.8/site-packages/sklearn/linear_model/least_angle.py:1738: DeprecationWarning: `np.float` is a deprecated alias for the builtin `float`. To silence this warning, use `float` by itself. Doing this will not modify any behavior and is safe. If you specifically wanted the numpy scalar type, use `np.float64` here.\n",
      "Deprecated in NumPy 1.20; for more details and guidance: https://numpy.org/devdocs/release/1.20.0-notes.html#deprecations\n",
      "  eps=np.finfo(np.float).eps, copy_X=True, positive=False):\n"
     ]
    }
   ],
   "source": [
    "import pandas as pd\n",
    "from bioinfokit import analys, visuz\n"
   ]
  },
  {
   "cell_type": "code",
   "execution_count": 2,
   "id": "93831d63-f610-4f44-a2ca-bae0203e5e9e",
   "metadata": {
    "execution": {
     "iopub.execute_input": "2021-09-08T06:57:28.606875Z",
     "iopub.status.busy": "2021-09-08T06:57:28.606547Z",
     "iopub.status.idle": "2021-09-08T06:57:28.651735Z",
     "shell.execute_reply": "2021-09-08T06:57:28.651211Z",
     "shell.execute_reply.started": "2021-09-08T06:57:28.606845Z"
    }
   },
   "outputs": [],
   "source": [
    "df = pd.read_csv(\"all_genes.for_volcano.tsv\",sep=\"\\t\")"
   ]
  },
  {
   "cell_type": "code",
   "execution_count": 3,
   "id": "224e0f53-c19c-4bbf-9050-73e02130caff",
   "metadata": {
    "execution": {
     "iopub.execute_input": "2021-09-08T06:57:30.275573Z",
     "iopub.status.busy": "2021-09-08T06:57:30.275403Z",
     "iopub.status.idle": "2021-09-08T06:57:30.327598Z",
     "shell.execute_reply": "2021-09-08T06:57:30.327256Z",
     "shell.execute_reply.started": "2021-09-08T06:57:30.275557Z"
    }
   },
   "outputs": [
    {
     "data": {
      "text/html": [
       "<div>\n",
       "<style scoped>\n",
       "    .dataframe tbody tr th:only-of-type {\n",
       "        vertical-align: middle;\n",
       "    }\n",
       "\n",
       "    .dataframe tbody tr th {\n",
       "        vertical-align: top;\n",
       "    }\n",
       "\n",
       "    .dataframe thead th {\n",
       "        text-align: right;\n",
       "    }\n",
       "</style>\n",
       "<table border=\"1\" class=\"dataframe\">\n",
       "  <thead>\n",
       "    <tr style=\"text-align: right;\">\n",
       "      <th></th>\n",
       "      <th>p_val</th>\n",
       "      <th>avg_log2FC</th>\n",
       "      <th>pct.1</th>\n",
       "      <th>pct.2</th>\n",
       "      <th>p_val_adj</th>\n",
       "      <th>fdr</th>\n",
       "      <th>Cluster</th>\n",
       "      <th>geneName</th>\n",
       "    </tr>\n",
       "  </thead>\n",
       "  <tbody>\n",
       "    <tr>\n",
       "      <th>0</th>\n",
       "      <td>1.731954e-111</td>\n",
       "      <td>0.626680</td>\n",
       "      <td>1.000</td>\n",
       "      <td>1.000</td>\n",
       "      <td>5.378238e-107</td>\n",
       "      <td>2.093933e-108</td>\n",
       "      <td>0</td>\n",
       "      <td>Gm42418</td>\n",
       "    </tr>\n",
       "    <tr>\n",
       "      <th>1</th>\n",
       "      <td>1.036221e-89</td>\n",
       "      <td>-0.592415</td>\n",
       "      <td>0.394</td>\n",
       "      <td>0.772</td>\n",
       "      <td>3.217778e-85</td>\n",
       "      <td>6.263959e-87</td>\n",
       "      <td>0</td>\n",
       "      <td>Gm47283</td>\n",
       "    </tr>\n",
       "    <tr>\n",
       "      <th>2</th>\n",
       "      <td>6.458310e-79</td>\n",
       "      <td>-0.228648</td>\n",
       "      <td>0.998</td>\n",
       "      <td>0.999</td>\n",
       "      <td>2.005499e-74</td>\n",
       "      <td>2.602699e-76</td>\n",
       "      <td>0</td>\n",
       "      <td>Rpl35a</td>\n",
       "    </tr>\n",
       "    <tr>\n",
       "      <th>3</th>\n",
       "      <td>3.027118e-73</td>\n",
       "      <td>-0.572587</td>\n",
       "      <td>0.970</td>\n",
       "      <td>0.994</td>\n",
       "      <td>9.400110e-69</td>\n",
       "      <td>9.149465e-71</td>\n",
       "      <td>0</td>\n",
       "      <td>Alad</td>\n",
       "    </tr>\n",
       "    <tr>\n",
       "      <th>4</th>\n",
       "      <td>1.415365e-63</td>\n",
       "      <td>-0.191814</td>\n",
       "      <td>0.998</td>\n",
       "      <td>1.000</td>\n",
       "      <td>4.395133e-59</td>\n",
       "      <td>3.422353e-61</td>\n",
       "      <td>0</td>\n",
       "      <td>Rpl41</td>\n",
       "    </tr>\n",
       "  </tbody>\n",
       "</table>\n",
       "</div>"
      ],
      "text/plain": [
       "           p_val  avg_log2FC  pct.1  pct.2      p_val_adj            fdr  \\\n",
       "0  1.731954e-111    0.626680  1.000  1.000  5.378238e-107  2.093933e-108   \n",
       "1   1.036221e-89   -0.592415  0.394  0.772   3.217778e-85   6.263959e-87   \n",
       "2   6.458310e-79   -0.228648  0.998  0.999   2.005499e-74   2.602699e-76   \n",
       "3   3.027118e-73   -0.572587  0.970  0.994   9.400110e-69   9.149465e-71   \n",
       "4   1.415365e-63   -0.191814  0.998  1.000   4.395133e-59   3.422353e-61   \n",
       "\n",
       "   Cluster geneName  \n",
       "0        0  Gm42418  \n",
       "1        0  Gm47283  \n",
       "2        0   Rpl35a  \n",
       "3        0     Alad  \n",
       "4        0    Rpl41  "
      ]
     },
     "execution_count": 3,
     "metadata": {},
     "output_type": "execute_result"
    }
   ],
   "source": [
    "df.head()"
   ]
  },
  {
   "cell_type": "code",
   "execution_count": 4,
   "id": "1da4a27c-aed6-41cc-b2aa-e62dbc5d3b80",
   "metadata": {
    "execution": {
     "iopub.execute_input": "2021-09-08T06:58:45.815428Z",
     "iopub.status.busy": "2021-09-08T06:58:45.815150Z",
     "iopub.status.idle": "2021-09-08T06:58:45.819593Z",
     "shell.execute_reply": "2021-09-08T06:58:45.819194Z",
     "shell.execute_reply.started": "2021-09-08T06:58:45.815408Z"
    }
   },
   "outputs": [],
   "source": [
    "df['tmp'] = df['avg_log2FC'].abs()"
   ]
  },
  {
   "cell_type": "code",
   "execution_count": 5,
   "id": "0fb0ba99-d2a2-4abc-8b7d-a405cc100942",
   "metadata": {
    "execution": {
     "iopub.execute_input": "2021-09-08T06:59:02.877124Z",
     "iopub.status.busy": "2021-09-08T06:59:02.876822Z",
     "iopub.status.idle": "2021-09-08T06:59:02.897361Z",
     "shell.execute_reply": "2021-09-08T06:59:02.896954Z",
     "shell.execute_reply.started": "2021-09-08T06:59:02.877103Z"
    }
   },
   "outputs": [
    {
     "data": {
      "text/html": [
       "<div>\n",
       "<style scoped>\n",
       "    .dataframe tbody tr th:only-of-type {\n",
       "        vertical-align: middle;\n",
       "    }\n",
       "\n",
       "    .dataframe tbody tr th {\n",
       "        vertical-align: top;\n",
       "    }\n",
       "\n",
       "    .dataframe thead th {\n",
       "        text-align: right;\n",
       "    }\n",
       "</style>\n",
       "<table border=\"1\" class=\"dataframe\">\n",
       "  <thead>\n",
       "    <tr style=\"text-align: right;\">\n",
       "      <th></th>\n",
       "      <th>p_val</th>\n",
       "      <th>avg_log2FC</th>\n",
       "      <th>pct.1</th>\n",
       "      <th>pct.2</th>\n",
       "      <th>p_val_adj</th>\n",
       "      <th>fdr</th>\n",
       "      <th>Cluster</th>\n",
       "      <th>geneName</th>\n",
       "      <th>tmp</th>\n",
       "    </tr>\n",
       "  </thead>\n",
       "  <tbody>\n",
       "    <tr>\n",
       "      <th>46102</th>\n",
       "      <td>6.308730e-01</td>\n",
       "      <td>5.058064</td>\n",
       "      <td>0.103</td>\n",
       "      <td>0.081</td>\n",
       "      <td>1.000000</td>\n",
       "      <td>0.842397</td>\n",
       "      <td>14</td>\n",
       "      <td>Hbb-bs</td>\n",
       "      <td>5.058064</td>\n",
       "    </tr>\n",
       "    <tr>\n",
       "      <th>50455</th>\n",
       "      <td>3.558851e-01</td>\n",
       "      <td>5.009746</td>\n",
       "      <td>0.054</td>\n",
       "      <td>0.125</td>\n",
       "      <td>1.000000</td>\n",
       "      <td>0.723198</td>\n",
       "      <td>15</td>\n",
       "      <td>S100a9</td>\n",
       "      <td>5.009746</td>\n",
       "    </tr>\n",
       "    <tr>\n",
       "      <th>53479</th>\n",
       "      <td>2.403939e-02</td>\n",
       "      <td>3.125067</td>\n",
       "      <td>0.333</td>\n",
       "      <td>0.000</td>\n",
       "      <td>1.000000</td>\n",
       "      <td>0.611462</td>\n",
       "      <td>16</td>\n",
       "      <td>Gzma</td>\n",
       "      <td>3.125067</td>\n",
       "    </tr>\n",
       "    <tr>\n",
       "      <th>47591</th>\n",
       "      <td>2.869517e-08</td>\n",
       "      <td>-2.554953</td>\n",
       "      <td>0.000</td>\n",
       "      <td>0.625</td>\n",
       "      <td>0.000891</td>\n",
       "      <td>0.000167</td>\n",
       "      <td>15</td>\n",
       "      <td>Echdc2</td>\n",
       "      <td>2.554953</td>\n",
       "    </tr>\n",
       "    <tr>\n",
       "      <th>48762</th>\n",
       "      <td>1.237328e-01</td>\n",
       "      <td>2.523373</td>\n",
       "      <td>0.243</td>\n",
       "      <td>0.094</td>\n",
       "      <td>1.000000</td>\n",
       "      <td>0.598845</td>\n",
       "      <td>15</td>\n",
       "      <td>Lyz2</td>\n",
       "      <td>2.523373</td>\n",
       "    </tr>\n",
       "  </tbody>\n",
       "</table>\n",
       "</div>"
      ],
      "text/plain": [
       "              p_val  avg_log2FC  pct.1  pct.2  p_val_adj       fdr  Cluster  \\\n",
       "46102  6.308730e-01    5.058064  0.103  0.081   1.000000  0.842397       14   \n",
       "50455  3.558851e-01    5.009746  0.054  0.125   1.000000  0.723198       15   \n",
       "53479  2.403939e-02    3.125067  0.333  0.000   1.000000  0.611462       16   \n",
       "47591  2.869517e-08   -2.554953  0.000  0.625   0.000891  0.000167       15   \n",
       "48762  1.237328e-01    2.523373  0.243  0.094   1.000000  0.598845       15   \n",
       "\n",
       "      geneName       tmp  \n",
       "46102   Hbb-bs  5.058064  \n",
       "50455   S100a9  5.009746  \n",
       "53479     Gzma  3.125067  \n",
       "47591   Echdc2  2.554953  \n",
       "48762     Lyz2  2.523373  "
      ]
     },
     "execution_count": 5,
     "metadata": {},
     "output_type": "execute_result"
    }
   ],
   "source": [
    "df = df.sort_values('tmp',ascending=False)\n",
    "df.head()"
   ]
  },
  {
   "cell_type": "code",
   "execution_count": 6,
   "id": "dff20b41-2d96-464c-9772-d692411ccf7d",
   "metadata": {
    "execution": {
     "iopub.execute_input": "2021-09-08T06:59:44.858448Z",
     "iopub.status.busy": "2021-09-08T06:59:44.858183Z",
     "iopub.status.idle": "2021-09-08T06:59:44.868107Z",
     "shell.execute_reply": "2021-09-08T06:59:44.867608Z",
     "shell.execute_reply.started": "2021-09-08T06:59:44.858428Z"
    }
   },
   "outputs": [],
   "source": [
    "df=df[~df.Cluster.isin([14,15,16])]"
   ]
  },
  {
   "cell_type": "code",
   "execution_count": 7,
   "id": "c0d499ce-a97f-4ec6-89b7-f9452f37825c",
   "metadata": {
    "execution": {
     "iopub.execute_input": "2021-09-08T06:59:47.315057Z",
     "iopub.status.busy": "2021-09-08T06:59:47.314878Z",
     "iopub.status.idle": "2021-09-08T06:59:47.324557Z",
     "shell.execute_reply": "2021-09-08T06:59:47.324218Z",
     "shell.execute_reply.started": "2021-09-08T06:59:47.315040Z"
    }
   },
   "outputs": [
    {
     "data": {
      "text/html": [
       "<div>\n",
       "<style scoped>\n",
       "    .dataframe tbody tr th:only-of-type {\n",
       "        vertical-align: middle;\n",
       "    }\n",
       "\n",
       "    .dataframe tbody tr th {\n",
       "        vertical-align: top;\n",
       "    }\n",
       "\n",
       "    .dataframe thead th {\n",
       "        text-align: right;\n",
       "    }\n",
       "</style>\n",
       "<table border=\"1\" class=\"dataframe\">\n",
       "  <thead>\n",
       "    <tr style=\"text-align: right;\">\n",
       "      <th></th>\n",
       "      <th>p_val</th>\n",
       "      <th>avg_log2FC</th>\n",
       "      <th>pct.1</th>\n",
       "      <th>pct.2</th>\n",
       "      <th>p_val_adj</th>\n",
       "      <th>fdr</th>\n",
       "      <th>Cluster</th>\n",
       "      <th>geneName</th>\n",
       "      <th>tmp</th>\n",
       "    </tr>\n",
       "  </thead>\n",
       "  <tbody>\n",
       "    <tr>\n",
       "      <th>24029</th>\n",
       "      <td>2.917204e-03</td>\n",
       "      <td>1.947785</td>\n",
       "      <td>0.117</td>\n",
       "      <td>0.053</td>\n",
       "      <td>1.000000e+00</td>\n",
       "      <td>5.257783e-02</td>\n",
       "      <td>9</td>\n",
       "      <td>Ighm</td>\n",
       "      <td>1.947785</td>\n",
       "    </tr>\n",
       "    <tr>\n",
       "      <th>25</th>\n",
       "      <td>1.778083e-34</td>\n",
       "      <td>1.882983</td>\n",
       "      <td>0.316</td>\n",
       "      <td>0.089</td>\n",
       "      <td>5.521480e-30</td>\n",
       "      <td>8.268084e-33</td>\n",
       "      <td>0</td>\n",
       "      <td>Hbb-bt</td>\n",
       "      <td>1.882983</td>\n",
       "    </tr>\n",
       "    <tr>\n",
       "      <th>101</th>\n",
       "      <td>6.928752e-13</td>\n",
       "      <td>1.569965</td>\n",
       "      <td>0.353</td>\n",
       "      <td>0.483</td>\n",
       "      <td>2.151585e-08</td>\n",
       "      <td>8.212609e-12</td>\n",
       "      <td>0</td>\n",
       "      <td>Hbb-bs</td>\n",
       "      <td>1.569965</td>\n",
       "    </tr>\n",
       "    <tr>\n",
       "      <th>1153</th>\n",
       "      <td>1.243726e-01</td>\n",
       "      <td>1.453442</td>\n",
       "      <td>0.269</td>\n",
       "      <td>0.290</td>\n",
       "      <td>1.000000e+00</td>\n",
       "      <td>1.303003e-01</td>\n",
       "      <td>0</td>\n",
       "      <td>Hba-a2</td>\n",
       "      <td>1.453442</td>\n",
       "    </tr>\n",
       "    <tr>\n",
       "      <th>30530</th>\n",
       "      <td>6.263600e-01</td>\n",
       "      <td>1.366851</td>\n",
       "      <td>0.284</td>\n",
       "      <td>0.292</td>\n",
       "      <td>1.000000e+00</td>\n",
       "      <td>6.861907e-01</td>\n",
       "      <td>10</td>\n",
       "      <td>Hba-a2</td>\n",
       "      <td>1.366851</td>\n",
       "    </tr>\n",
       "  </tbody>\n",
       "</table>\n",
       "</div>"
      ],
      "text/plain": [
       "              p_val  avg_log2FC  pct.1  pct.2     p_val_adj           fdr  \\\n",
       "24029  2.917204e-03    1.947785  0.117  0.053  1.000000e+00  5.257783e-02   \n",
       "25     1.778083e-34    1.882983  0.316  0.089  5.521480e-30  8.268084e-33   \n",
       "101    6.928752e-13    1.569965  0.353  0.483  2.151585e-08  8.212609e-12   \n",
       "1153   1.243726e-01    1.453442  0.269  0.290  1.000000e+00  1.303003e-01   \n",
       "30530  6.263600e-01    1.366851  0.284  0.292  1.000000e+00  6.861907e-01   \n",
       "\n",
       "       Cluster geneName       tmp  \n",
       "24029        9     Ighm  1.947785  \n",
       "25           0   Hbb-bt  1.882983  \n",
       "101          0   Hbb-bs  1.569965  \n",
       "1153         0   Hba-a2  1.453442  \n",
       "30530       10   Hba-a2  1.366851  "
      ]
     },
     "execution_count": 7,
     "metadata": {},
     "output_type": "execute_result"
    }
   ],
   "source": [
    "df.head()"
   ]
  },
  {
   "cell_type": "code",
   "execution_count": 37,
   "id": "70fa5497-f6d4-4041-9b1a-47d8836a5c0a",
   "metadata": {
    "execution": {
     "iopub.execute_input": "2021-09-08T07:13:21.130498Z",
     "iopub.status.busy": "2021-09-08T07:13:21.130250Z",
     "iopub.status.idle": "2021-09-08T07:13:23.294569Z",
     "shell.execute_reply": "2021-09-08T07:13:23.293603Z",
     "shell.execute_reply.started": "2021-09-08T07:13:21.130480Z"
    },
    "tags": []
   },
   "outputs": [],
   "source": [
    "def max_abs(x):\n",
    "    return x.iloc[x.abs().values.argmax()]\n",
    "def replace_best_FDR_LFC(df):\n",
    "    myDict = {}\n",
    "    for s,d in df.groupby(\"geneName\"):\n",
    "        myDict[s] = [d.fdr.min(),max_abs(d.avg_log2FC)]\n",
    "    return pd.DataFrame.from_dict(myDict,orient=\"index\")\n",
    "df2 = replace_best_FDR_LFC(df)"
   ]
  },
  {
   "cell_type": "code",
   "execution_count": 39,
   "id": "fe150cee-b856-4b2d-bcfe-862b8a0bfa33",
   "metadata": {
    "execution": {
     "iopub.execute_input": "2021-09-08T07:13:35.612340Z",
     "iopub.status.busy": "2021-09-08T07:13:35.612033Z",
     "iopub.status.idle": "2021-09-08T07:13:35.622645Z",
     "shell.execute_reply": "2021-09-08T07:13:35.622078Z",
     "shell.execute_reply.started": "2021-09-08T07:13:35.612317Z"
    },
    "tags": []
   },
   "outputs": [
    {
     "data": {
      "text/html": [
       "<div>\n",
       "<style scoped>\n",
       "    .dataframe tbody tr th:only-of-type {\n",
       "        vertical-align: middle;\n",
       "    }\n",
       "\n",
       "    .dataframe tbody tr th {\n",
       "        vertical-align: top;\n",
       "    }\n",
       "\n",
       "    .dataframe thead th {\n",
       "        text-align: right;\n",
       "    }\n",
       "</style>\n",
       "<table border=\"1\" class=\"dataframe\">\n",
       "  <thead>\n",
       "    <tr style=\"text-align: right;\">\n",
       "      <th></th>\n",
       "      <th>0</th>\n",
       "      <th>1</th>\n",
       "    </tr>\n",
       "  </thead>\n",
       "  <tbody>\n",
       "    <tr>\n",
       "      <th>Echdc2</th>\n",
       "      <td>1.257920e-84</td>\n",
       "      <td>-1.141771</td>\n",
       "    </tr>\n",
       "    <tr>\n",
       "      <th>Prtn3</th>\n",
       "      <td>6.976803e-13</td>\n",
       "      <td>-1.061232</td>\n",
       "    </tr>\n",
       "    <tr>\n",
       "      <th>Mpo</th>\n",
       "      <td>1.459058e-10</td>\n",
       "      <td>-1.005740</td>\n",
       "    </tr>\n",
       "    <tr>\n",
       "      <th>Tmsb4x</th>\n",
       "      <td>4.146422e-05</td>\n",
       "      <td>-0.950336</td>\n",
       "    </tr>\n",
       "    <tr>\n",
       "      <th>Lgals1</th>\n",
       "      <td>2.224273e-28</td>\n",
       "      <td>-0.869315</td>\n",
       "    </tr>\n",
       "    <tr>\n",
       "      <th>...</th>\n",
       "      <td>...</td>\n",
       "      <td>...</td>\n",
       "    </tr>\n",
       "    <tr>\n",
       "      <th>Hba-a1</th>\n",
       "      <td>4.134051e-01</td>\n",
       "      <td>1.216843</td>\n",
       "    </tr>\n",
       "    <tr>\n",
       "      <th>Hba-a2</th>\n",
       "      <td>1.303003e-01</td>\n",
       "      <td>1.453442</td>\n",
       "    </tr>\n",
       "    <tr>\n",
       "      <th>Hbb-bs</th>\n",
       "      <td>8.212609e-12</td>\n",
       "      <td>1.569965</td>\n",
       "    </tr>\n",
       "    <tr>\n",
       "      <th>Hbb-bt</th>\n",
       "      <td>8.268084e-33</td>\n",
       "      <td>1.882983</td>\n",
       "    </tr>\n",
       "    <tr>\n",
       "      <th>Ighm</th>\n",
       "      <td>1.966616e-05</td>\n",
       "      <td>1.947785</td>\n",
       "    </tr>\n",
       "  </tbody>\n",
       "</table>\n",
       "<p>8971 rows × 2 columns</p>\n",
       "</div>"
      ],
      "text/plain": [
       "                   0         1\n",
       "Echdc2  1.257920e-84 -1.141771\n",
       "Prtn3   6.976803e-13 -1.061232\n",
       "Mpo     1.459058e-10 -1.005740\n",
       "Tmsb4x  4.146422e-05 -0.950336\n",
       "Lgals1  2.224273e-28 -0.869315\n",
       "...              ...       ...\n",
       "Hba-a1  4.134051e-01  1.216843\n",
       "Hba-a2  1.303003e-01  1.453442\n",
       "Hbb-bs  8.212609e-12  1.569965\n",
       "Hbb-bt  8.268084e-33  1.882983\n",
       "Ighm    1.966616e-05  1.947785\n",
       "\n",
       "[8971 rows x 2 columns]"
      ]
     },
     "execution_count": 39,
     "metadata": {},
     "output_type": "execute_result"
    }
   ],
   "source": [
    "df2.sort_values(1)"
   ]
  },
  {
   "cell_type": "code",
   "execution_count": 44,
   "id": "8e75dac2-b5fb-4176-8be3-c841466fbbee",
   "metadata": {
    "execution": {
     "iopub.execute_input": "2021-09-08T07:15:03.532031Z",
     "iopub.status.busy": "2021-09-08T07:15:03.531803Z",
     "iopub.status.idle": "2021-09-08T07:15:03.539237Z",
     "shell.execute_reply": "2021-09-08T07:15:03.538864Z",
     "shell.execute_reply.started": "2021-09-08T07:15:03.532014Z"
    },
    "tags": []
   },
   "outputs": [
    {
     "data": {
      "text/html": [
       "<div>\n",
       "<style scoped>\n",
       "    .dataframe tbody tr th:only-of-type {\n",
       "        vertical-align: middle;\n",
       "    }\n",
       "\n",
       "    .dataframe tbody tr th {\n",
       "        vertical-align: top;\n",
       "    }\n",
       "\n",
       "    .dataframe thead th {\n",
       "        text-align: right;\n",
       "    }\n",
       "</style>\n",
       "<table border=\"1\" class=\"dataframe\">\n",
       "  <thead>\n",
       "    <tr style=\"text-align: right;\">\n",
       "      <th></th>\n",
       "      <th>geneName</th>\n",
       "      <th>fdr</th>\n",
       "      <th>lfc</th>\n",
       "    </tr>\n",
       "  </thead>\n",
       "  <tbody>\n",
       "    <tr>\n",
       "      <th>0</th>\n",
       "      <td>0610009B22Rik</td>\n",
       "      <td>0.000863</td>\n",
       "      <td>0.211283</td>\n",
       "    </tr>\n",
       "    <tr>\n",
       "      <th>1</th>\n",
       "      <td>0610009O20Rik</td>\n",
       "      <td>0.957387</td>\n",
       "      <td>-0.052948</td>\n",
       "    </tr>\n",
       "    <tr>\n",
       "      <th>2</th>\n",
       "      <td>0610010F05Rik</td>\n",
       "      <td>0.006530</td>\n",
       "      <td>-0.137246</td>\n",
       "    </tr>\n",
       "    <tr>\n",
       "      <th>3</th>\n",
       "      <td>0610010K14Rik</td>\n",
       "      <td>0.002431</td>\n",
       "      <td>0.189793</td>\n",
       "    </tr>\n",
       "    <tr>\n",
       "      <th>4</th>\n",
       "      <td>0610012G03Rik</td>\n",
       "      <td>0.078391</td>\n",
       "      <td>-0.155546</td>\n",
       "    </tr>\n",
       "  </tbody>\n",
       "</table>\n",
       "</div>"
      ],
      "text/plain": [
       "        geneName       fdr       lfc\n",
       "0  0610009B22Rik  0.000863  0.211283\n",
       "1  0610009O20Rik  0.957387 -0.052948\n",
       "2  0610010F05Rik  0.006530 -0.137246\n",
       "3  0610010K14Rik  0.002431  0.189793\n",
       "4  0610012G03Rik  0.078391 -0.155546"
      ]
     },
     "execution_count": 44,
     "metadata": {},
     "output_type": "execute_result"
    }
   ],
   "source": [
    "df2 = df2.reset_index()\n",
    "df2.columns = [\"geneName\",'fdr','lfc']\n",
    "\n",
    "df2.head()"
   ]
  },
  {
   "cell_type": "code",
   "execution_count": 10,
   "id": "f2290f20-a047-4411-afd2-c763470711d2",
   "metadata": {
    "execution": {
     "iopub.execute_input": "2021-09-08T07:00:35.456329Z",
     "iopub.status.busy": "2021-09-08T07:00:35.456156Z",
     "iopub.status.idle": "2021-09-08T07:00:35.459039Z",
     "shell.execute_reply": "2021-09-08T07:00:35.458704Z",
     "shell.execute_reply.started": "2021-09-08T07:00:35.456313Z"
    }
   },
   "outputs": [
    {
     "data": {
      "text/plain": [
       "(8971, 9)"
      ]
     },
     "execution_count": 10,
     "metadata": {},
     "output_type": "execute_result"
    }
   ],
   "source": [
    "df2.shape"
   ]
  },
  {
   "cell_type": "code",
   "execution_count": 48,
   "id": "62082f44-cf3c-45e7-a787-ea19e12d5985",
   "metadata": {
    "execution": {
     "iopub.execute_input": "2021-09-08T07:15:29.764471Z",
     "iopub.status.busy": "2021-09-08T07:15:29.764228Z",
     "iopub.status.idle": "2021-09-08T07:15:29.768360Z",
     "shell.execute_reply": "2021-09-08T07:15:29.767975Z",
     "shell.execute_reply.started": "2021-09-08T07:15:29.764453Z"
    },
    "tags": []
   },
   "outputs": [],
   "source": [
    "deg = df2[df2.fdr<=0.01]\n",
    "deg = deg.sort_values('fdr')\n"
   ]
  },
  {
   "cell_type": "code",
   "execution_count": 13,
   "id": "d96b83cf-5743-454e-9511-5a175d01437b",
   "metadata": {
    "execution": {
     "iopub.execute_input": "2021-09-08T07:01:23.271966Z",
     "iopub.status.busy": "2021-09-08T07:01:23.271750Z",
     "iopub.status.idle": "2021-09-08T07:01:23.320848Z",
     "shell.execute_reply": "2021-09-08T07:01:23.320251Z",
     "shell.execute_reply.started": "2021-09-08T07:01:23.271949Z"
    },
    "tags": []
   },
   "outputs": [
    {
     "data": {
      "text/plain": [
       "\u001b[0;31mSignature:\u001b[0m\n",
       "\u001b[0mvisuz\u001b[0m\u001b[0;34m.\u001b[0m\u001b[0mgene_exp\u001b[0m\u001b[0;34m.\u001b[0m\u001b[0mvolcano\u001b[0m\u001b[0;34m(\u001b[0m\u001b[0;34m\u001b[0m\n",
       "\u001b[0;34m\u001b[0m    \u001b[0mdf\u001b[0m\u001b[0;34m=\u001b[0m\u001b[0;34m'dataframe'\u001b[0m\u001b[0;34m,\u001b[0m\u001b[0;34m\u001b[0m\n",
       "\u001b[0;34m\u001b[0m    \u001b[0mlfc\u001b[0m\u001b[0;34m=\u001b[0m\u001b[0;32mNone\u001b[0m\u001b[0;34m,\u001b[0m\u001b[0;34m\u001b[0m\n",
       "\u001b[0;34m\u001b[0m    \u001b[0mpv\u001b[0m\u001b[0;34m=\u001b[0m\u001b[0;32mNone\u001b[0m\u001b[0;34m,\u001b[0m\u001b[0;34m\u001b[0m\n",
       "\u001b[0;34m\u001b[0m    \u001b[0mlfc_thr\u001b[0m\u001b[0;34m=\u001b[0m\u001b[0;34m(\u001b[0m\u001b[0;36m1\u001b[0m\u001b[0;34m,\u001b[0m \u001b[0;36m1\u001b[0m\u001b[0;34m)\u001b[0m\u001b[0;34m,\u001b[0m\u001b[0;34m\u001b[0m\n",
       "\u001b[0;34m\u001b[0m    \u001b[0mpv_thr\u001b[0m\u001b[0;34m=\u001b[0m\u001b[0;34m(\u001b[0m\u001b[0;36m0.05\u001b[0m\u001b[0;34m,\u001b[0m \u001b[0;36m0.05\u001b[0m\u001b[0;34m)\u001b[0m\u001b[0;34m,\u001b[0m\u001b[0;34m\u001b[0m\n",
       "\u001b[0;34m\u001b[0m    \u001b[0mcolor\u001b[0m\u001b[0;34m=\u001b[0m\u001b[0;34m(\u001b[0m\u001b[0;34m'green'\u001b[0m\u001b[0;34m,\u001b[0m \u001b[0;34m'grey'\u001b[0m\u001b[0;34m,\u001b[0m \u001b[0;34m'red'\u001b[0m\u001b[0;34m)\u001b[0m\u001b[0;34m,\u001b[0m\u001b[0;34m\u001b[0m\n",
       "\u001b[0;34m\u001b[0m    \u001b[0mvalpha\u001b[0m\u001b[0;34m=\u001b[0m\u001b[0;36m1\u001b[0m\u001b[0;34m,\u001b[0m\u001b[0;34m\u001b[0m\n",
       "\u001b[0;34m\u001b[0m    \u001b[0mgeneid\u001b[0m\u001b[0;34m=\u001b[0m\u001b[0;32mNone\u001b[0m\u001b[0;34m,\u001b[0m\u001b[0;34m\u001b[0m\n",
       "\u001b[0;34m\u001b[0m    \u001b[0mgenenames\u001b[0m\u001b[0;34m=\u001b[0m\u001b[0;32mNone\u001b[0m\u001b[0;34m,\u001b[0m\u001b[0;34m\u001b[0m\n",
       "\u001b[0;34m\u001b[0m    \u001b[0mgfont\u001b[0m\u001b[0;34m=\u001b[0m\u001b[0;36m8\u001b[0m\u001b[0;34m,\u001b[0m\u001b[0;34m\u001b[0m\n",
       "\u001b[0;34m\u001b[0m    \u001b[0mdim\u001b[0m\u001b[0;34m=\u001b[0m\u001b[0;34m(\u001b[0m\u001b[0;36m5\u001b[0m\u001b[0;34m,\u001b[0m \u001b[0;36m5\u001b[0m\u001b[0;34m)\u001b[0m\u001b[0;34m,\u001b[0m\u001b[0;34m\u001b[0m\n",
       "\u001b[0;34m\u001b[0m    \u001b[0mr\u001b[0m\u001b[0;34m=\u001b[0m\u001b[0;36m300\u001b[0m\u001b[0;34m,\u001b[0m\u001b[0;34m\u001b[0m\n",
       "\u001b[0;34m\u001b[0m    \u001b[0mar\u001b[0m\u001b[0;34m=\u001b[0m\u001b[0;36m90\u001b[0m\u001b[0;34m,\u001b[0m\u001b[0;34m\u001b[0m\n",
       "\u001b[0;34m\u001b[0m    \u001b[0mdotsize\u001b[0m\u001b[0;34m=\u001b[0m\u001b[0;36m8\u001b[0m\u001b[0;34m,\u001b[0m\u001b[0;34m\u001b[0m\n",
       "\u001b[0;34m\u001b[0m    \u001b[0mmarkerdot\u001b[0m\u001b[0;34m=\u001b[0m\u001b[0;34m'o'\u001b[0m\u001b[0;34m,\u001b[0m\u001b[0;34m\u001b[0m\n",
       "\u001b[0;34m\u001b[0m    \u001b[0msign_line\u001b[0m\u001b[0;34m=\u001b[0m\u001b[0;32mFalse\u001b[0m\u001b[0;34m,\u001b[0m\u001b[0;34m\u001b[0m\n",
       "\u001b[0;34m\u001b[0m    \u001b[0mgstyle\u001b[0m\u001b[0;34m=\u001b[0m\u001b[0;36m1\u001b[0m\u001b[0;34m,\u001b[0m\u001b[0;34m\u001b[0m\n",
       "\u001b[0;34m\u001b[0m    \u001b[0mshow\u001b[0m\u001b[0;34m=\u001b[0m\u001b[0;32mFalse\u001b[0m\u001b[0;34m,\u001b[0m\u001b[0;34m\u001b[0m\n",
       "\u001b[0;34m\u001b[0m    \u001b[0mfigtype\u001b[0m\u001b[0;34m=\u001b[0m\u001b[0;34m'png'\u001b[0m\u001b[0;34m,\u001b[0m\u001b[0;34m\u001b[0m\n",
       "\u001b[0;34m\u001b[0m    \u001b[0maxtickfontsize\u001b[0m\u001b[0;34m=\u001b[0m\u001b[0;36m9\u001b[0m\u001b[0;34m,\u001b[0m\u001b[0;34m\u001b[0m\n",
       "\u001b[0;34m\u001b[0m    \u001b[0maxtickfontname\u001b[0m\u001b[0;34m=\u001b[0m\u001b[0;34m'Arial'\u001b[0m\u001b[0;34m,\u001b[0m\u001b[0;34m\u001b[0m\n",
       "\u001b[0;34m\u001b[0m    \u001b[0maxlabelfontsize\u001b[0m\u001b[0;34m=\u001b[0m\u001b[0;36m9\u001b[0m\u001b[0;34m,\u001b[0m\u001b[0;34m\u001b[0m\n",
       "\u001b[0;34m\u001b[0m    \u001b[0maxlabelfontname\u001b[0m\u001b[0;34m=\u001b[0m\u001b[0;34m'Arial'\u001b[0m\u001b[0;34m,\u001b[0m\u001b[0;34m\u001b[0m\n",
       "\u001b[0;34m\u001b[0m    \u001b[0maxxlabel\u001b[0m\u001b[0;34m=\u001b[0m\u001b[0;32mNone\u001b[0m\u001b[0;34m,\u001b[0m\u001b[0;34m\u001b[0m\n",
       "\u001b[0;34m\u001b[0m    \u001b[0maxylabel\u001b[0m\u001b[0;34m=\u001b[0m\u001b[0;32mNone\u001b[0m\u001b[0;34m,\u001b[0m\u001b[0;34m\u001b[0m\n",
       "\u001b[0;34m\u001b[0m    \u001b[0mxlm\u001b[0m\u001b[0;34m=\u001b[0m\u001b[0;32mNone\u001b[0m\u001b[0;34m,\u001b[0m\u001b[0;34m\u001b[0m\n",
       "\u001b[0;34m\u001b[0m    \u001b[0mylm\u001b[0m\u001b[0;34m=\u001b[0m\u001b[0;32mNone\u001b[0m\u001b[0;34m,\u001b[0m\u001b[0;34m\u001b[0m\n",
       "\u001b[0;34m\u001b[0m    \u001b[0mplotlegend\u001b[0m\u001b[0;34m=\u001b[0m\u001b[0;32mFalse\u001b[0m\u001b[0;34m,\u001b[0m\u001b[0;34m\u001b[0m\n",
       "\u001b[0;34m\u001b[0m    \u001b[0mlegendpos\u001b[0m\u001b[0;34m=\u001b[0m\u001b[0;34m'best'\u001b[0m\u001b[0;34m,\u001b[0m\u001b[0;34m\u001b[0m\n",
       "\u001b[0;34m\u001b[0m    \u001b[0mfigname\u001b[0m\u001b[0;34m=\u001b[0m\u001b[0;34m'volcano'\u001b[0m\u001b[0;34m,\u001b[0m\u001b[0;34m\u001b[0m\n",
       "\u001b[0;34m\u001b[0m    \u001b[0mlegendanchor\u001b[0m\u001b[0;34m=\u001b[0m\u001b[0;32mNone\u001b[0m\u001b[0;34m,\u001b[0m\u001b[0;34m\u001b[0m\n",
       "\u001b[0;34m\u001b[0m    \u001b[0mlegendlabels\u001b[0m\u001b[0;34m=\u001b[0m\u001b[0;34m[\u001b[0m\u001b[0;34m'significant up'\u001b[0m\u001b[0;34m,\u001b[0m \u001b[0;34m'not significant'\u001b[0m\u001b[0;34m,\u001b[0m \u001b[0;34m'significant down'\u001b[0m\u001b[0;34m]\u001b[0m\u001b[0;34m,\u001b[0m\u001b[0;34m\u001b[0m\n",
       "\u001b[0;34m\u001b[0m    \u001b[0mtheme\u001b[0m\u001b[0;34m=\u001b[0m\u001b[0;32mNone\u001b[0m\u001b[0;34m,\u001b[0m\u001b[0;34m\u001b[0m\n",
       "\u001b[0;34m\u001b[0m\u001b[0;34m)\u001b[0m\u001b[0;34m\u001b[0m\u001b[0;34m\u001b[0m\u001b[0m\n",
       "\u001b[0;31mDocstring:\u001b[0m <no docstring>\n",
       "\u001b[0;31mFile:\u001b[0m      ~/.conda/envs/captureC/lib/python3.8/site-packages/bioinfokit/visuz.py\n",
       "\u001b[0;31mType:\u001b[0m      function\n"
      ]
     },
     "metadata": {},
     "output_type": "display_data"
    }
   ],
   "source": [
    "?visuz.gene_exp.volcano"
   ]
  },
  {
   "cell_type": "code",
   "execution_count": 24,
   "id": "3e66e965-1a9e-4283-85a6-bb4e1e3b51e9",
   "metadata": {
    "execution": {
     "iopub.execute_input": "2021-09-08T07:06:25.761293Z",
     "iopub.status.busy": "2021-09-08T07:06:25.761067Z",
     "iopub.status.idle": "2021-09-08T07:06:25.773230Z",
     "shell.execute_reply": "2021-09-08T07:06:25.772853Z",
     "shell.execute_reply.started": "2021-09-08T07:06:25.761272Z"
    },
    "tags": []
   },
   "outputs": [
    {
     "data": {
      "text/html": [
       "<div>\n",
       "<style scoped>\n",
       "    .dataframe tbody tr th:only-of-type {\n",
       "        vertical-align: middle;\n",
       "    }\n",
       "\n",
       "    .dataframe tbody tr th {\n",
       "        vertical-align: top;\n",
       "    }\n",
       "\n",
       "    .dataframe thead th {\n",
       "        text-align: right;\n",
       "    }\n",
       "</style>\n",
       "<table border=\"1\" class=\"dataframe\">\n",
       "  <thead>\n",
       "    <tr style=\"text-align: right;\">\n",
       "      <th></th>\n",
       "      <th>p_val</th>\n",
       "      <th>avg_log2FC</th>\n",
       "      <th>pct.1</th>\n",
       "      <th>pct.2</th>\n",
       "      <th>p_val_adj</th>\n",
       "      <th>fdr</th>\n",
       "      <th>Cluster</th>\n",
       "      <th>geneName</th>\n",
       "      <th>tmp</th>\n",
       "    </tr>\n",
       "  </thead>\n",
       "  <tbody>\n",
       "    <tr>\n",
       "      <th>24456</th>\n",
       "      <td>0.020671</td>\n",
       "      <td>0.407161</td>\n",
       "      <td>0.520</td>\n",
       "      <td>0.439</td>\n",
       "      <td>1.0</td>\n",
       "      <td>0.124017</td>\n",
       "      <td>9</td>\n",
       "      <td>Cd74</td>\n",
       "      <td>0.407161</td>\n",
       "    </tr>\n",
       "    <tr>\n",
       "      <th>16565</th>\n",
       "      <td>0.000399</td>\n",
       "      <td>0.359850</td>\n",
       "      <td>0.368</td>\n",
       "      <td>0.237</td>\n",
       "      <td>1.0</td>\n",
       "      <td>0.009447</td>\n",
       "      <td>7</td>\n",
       "      <td>Cd74</td>\n",
       "      <td>0.359850</td>\n",
       "    </tr>\n",
       "    <tr>\n",
       "      <th>4015</th>\n",
       "      <td>0.002837</td>\n",
       "      <td>0.221700</td>\n",
       "      <td>0.488</td>\n",
       "      <td>0.402</td>\n",
       "      <td>1.0</td>\n",
       "      <td>0.012579</td>\n",
       "      <td>2</td>\n",
       "      <td>Cd74</td>\n",
       "      <td>0.221700</td>\n",
       "    </tr>\n",
       "    <tr>\n",
       "      <th>7964</th>\n",
       "      <td>0.058539</td>\n",
       "      <td>0.181072</td>\n",
       "      <td>0.543</td>\n",
       "      <td>0.480</td>\n",
       "      <td>1.0</td>\n",
       "      <td>0.101577</td>\n",
       "      <td>3</td>\n",
       "      <td>Cd74</td>\n",
       "      <td>0.181072</td>\n",
       "    </tr>\n",
       "  </tbody>\n",
       "</table>\n",
       "</div>"
      ],
      "text/plain": [
       "          p_val  avg_log2FC  pct.1  pct.2  p_val_adj       fdr  Cluster  \\\n",
       "24456  0.020671    0.407161  0.520  0.439        1.0  0.124017        9   \n",
       "16565  0.000399    0.359850  0.368  0.237        1.0  0.009447        7   \n",
       "4015   0.002837    0.221700  0.488  0.402        1.0  0.012579        2   \n",
       "7964   0.058539    0.181072  0.543  0.480        1.0  0.101577        3   \n",
       "\n",
       "      geneName       tmp  \n",
       "24456     Cd74  0.407161  \n",
       "16565     Cd74  0.359850  \n",
       "4015      Cd74  0.221700  \n",
       "7964      Cd74  0.181072  "
      ]
     },
     "execution_count": 24,
     "metadata": {},
     "output_type": "execute_result"
    }
   ],
   "source": [
    "df[df.geneName==\"Cd74\"]"
   ]
  },
  {
   "cell_type": "code",
   "execution_count": 47,
   "id": "1cf7eafb-f934-4003-b5e2-63e93915647d",
   "metadata": {
    "execution": {
     "iopub.execute_input": "2021-09-08T07:15:21.866044Z",
     "iopub.status.busy": "2021-09-08T07:15:21.865855Z",
     "iopub.status.idle": "2021-09-08T07:15:21.871470Z",
     "shell.execute_reply": "2021-09-08T07:15:21.871127Z",
     "shell.execute_reply.started": "2021-09-08T07:15:21.866028Z"
    },
    "tags": []
   },
   "outputs": [
    {
     "data": {
      "text/html": [
       "<div>\n",
       "<style scoped>\n",
       "    .dataframe tbody tr th:only-of-type {\n",
       "        vertical-align: middle;\n",
       "    }\n",
       "\n",
       "    .dataframe tbody tr th {\n",
       "        vertical-align: top;\n",
       "    }\n",
       "\n",
       "    .dataframe thead th {\n",
       "        text-align: right;\n",
       "    }\n",
       "</style>\n",
       "<table border=\"1\" class=\"dataframe\">\n",
       "  <thead>\n",
       "    <tr style=\"text-align: right;\">\n",
       "      <th></th>\n",
       "      <th>fdr</th>\n",
       "      <th>lfc</th>\n",
       "    </tr>\n",
       "  </thead>\n",
       "  <tbody>\n",
       "    <tr>\n",
       "      <th>Gm42418</th>\n",
       "      <td>2.093933e-108</td>\n",
       "      <td>0.736957</td>\n",
       "    </tr>\n",
       "    <tr>\n",
       "      <th>Gm47283</th>\n",
       "      <td>6.263959e-87</td>\n",
       "      <td>-0.625782</td>\n",
       "    </tr>\n",
       "    <tr>\n",
       "      <th>Echdc2</th>\n",
       "      <td>1.257920e-84</td>\n",
       "      <td>-1.141771</td>\n",
       "    </tr>\n",
       "    <tr>\n",
       "      <th>Trim12a</th>\n",
       "      <td>1.772867e-77</td>\n",
       "      <td>0.847197</td>\n",
       "    </tr>\n",
       "    <tr>\n",
       "      <th>Rpl35a</th>\n",
       "      <td>2.602699e-76</td>\n",
       "      <td>-0.310458</td>\n",
       "    </tr>\n",
       "  </tbody>\n",
       "</table>\n",
       "</div>"
      ],
      "text/plain": [
       "                   fdr       lfc\n",
       "Gm42418  2.093933e-108  0.736957\n",
       "Gm47283   6.263959e-87 -0.625782\n",
       "Echdc2    1.257920e-84 -1.141771\n",
       "Trim12a   1.772867e-77  0.847197\n",
       "Rpl35a    2.602699e-76 -0.310458"
      ]
     },
     "execution_count": 47,
     "metadata": {},
     "output_type": "execute_result"
    }
   ],
   "source": [
    "deg.head()"
   ]
  },
  {
   "cell_type": "code",
   "execution_count": 49,
   "id": "2395f7a2-1458-4c01-a606-ca19e7304967",
   "metadata": {
    "execution": {
     "iopub.execute_input": "2021-09-08T07:15:34.376826Z",
     "iopub.status.busy": "2021-09-08T07:15:34.376629Z",
     "iopub.status.idle": "2021-09-08T07:15:34.836350Z",
     "shell.execute_reply": "2021-09-08T07:15:34.835902Z",
     "shell.execute_reply.started": "2021-09-08T07:15:34.376811Z"
    },
    "tags": []
   },
   "outputs": [
    {
     "data": {
      "image/png": "[encoded data removed]",
      "text/plain": [
       "<Figure size 360x360 with 1 Axes>"
      ]
     },
     "metadata": {
      "needs_background": "light"
     },
     "output_type": "display_data"
    }
   ],
   "source": [
    "visuz.gene_exp.volcano(df=df2, lfc=\"lfc\", pv=\"fdr\", geneid=\"geneName\", \n",
    "    genenames=({x:x for x in deg.head(n=5).geneName.tolist()+[\"Cd74\"]}),\n",
    "    gstyle=2, sign_line=True,\n",
    "    show=True,lfc_thr=(0.2,0.2),pv_thr=(0.01,0.01),\n",
    "    plotlegend=True,figtype=\"pdf\",\n",
    "    axylabel=\"-log(FDR)\",\n",
    "    axxlabel=\"avg_logFC\"\n",
    "                      \n",
    "    )\n"
   ]
  },
  {
   "cell_type": "code",
   "execution_count": 50,
   "id": "4c89c962-1c7a-4fc1-968f-e10328c764bc",
   "metadata": {
    "execution": {
     "iopub.execute_input": "2021-09-08T07:16:11.075510Z",
     "iopub.status.busy": "2021-09-08T07:16:11.075246Z",
     "iopub.status.idle": "2021-09-08T07:16:12.217260Z",
     "shell.execute_reply": "2021-09-08T07:16:12.216373Z",
     "shell.execute_reply.started": "2021-09-08T07:16:11.075490Z"
    },
    "tags": []
   },
   "outputs": [],
   "source": [
    "visuz.gene_exp.volcano(df=df2, lfc=\"lfc\", pv=\"fdr\", geneid=\"geneName\", \n",
    "    genenames=({x:x for x in deg.head(n=5).geneName.tolist()+[\"Cd74\"]}),\n",
    "    gstyle=2, sign_line=True,\n",
    "    show=False,lfc_thr=(0.2,0.2),pv_thr=(0.01,0.01),\n",
    "    plotlegend=True,figtype=\"pdf\",\n",
    "    axylabel=\"-log(FDR)\",\n",
    "    axxlabel=\"avg_logFC\"\n",
    "                      \n",
    "    )\n"
   ]
  }
 ],
 "metadata": {
  "kernelspec": {
   "display_name": "Python 3",
   "language": "python",
   "name": "python3"
  },
  "language_info": {
   "codemirror_mode": {
    "name": "ipython",
    "version": 3
   },
   "file_extension": ".py",
   "mimetype": "text/x-python",
   "name": "python",
   "nbconvert_exporter": "python",
   "pygments_lexer": "ipython3",
   "version": "3.8.5"
  }
 },
 "nbformat": 4,
 "nbformat_minor": 5
}
